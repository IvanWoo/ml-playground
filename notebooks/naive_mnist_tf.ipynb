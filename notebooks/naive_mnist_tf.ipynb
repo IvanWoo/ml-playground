{
 "cells": [
  {
   "cell_type": "markdown",
   "id": "2805ff9f-d0a9-4061-93d6-0f7c90468e24",
   "metadata": {},
   "source": [
    "# Naive MNIST\n",
    "\n",
    "> hello world"
   ]
  },
  {
   "cell_type": "code",
   "execution_count": 1,
   "id": "622f1936-19d4-45e6-95ac-d7186917f016",
   "metadata": {},
   "outputs": [],
   "source": [
    "import matplotlib.pyplot as plt\n",
    "import numpy as np\n",
    "from tensorflow import keras\n",
    "from tensorflow.keras import layers\n",
    "from tensorflow.keras.datasets import mnist"
   ]
  },
  {
   "cell_type": "markdown",
   "id": "f61b9f8c-52dc-425d-9811-f1367ba94f56",
   "metadata": {},
   "source": [
    "## load data"
   ]
  },
  {
   "cell_type": "code",
   "execution_count": 2,
   "id": "7f2915c0-8831-4a3c-87e7-e04d3e19cfb8",
   "metadata": {},
   "outputs": [],
   "source": [
    "(train_images, train_labels), (test_images, test_labels) = mnist.load_data()"
   ]
  },
  {
   "cell_type": "code",
   "execution_count": 3,
   "id": "bab91ffd-0d06-44d4-b894-60b86e1ec7d7",
   "metadata": {},
   "outputs": [],
   "source": [
    "def data_summary(images, labels):\n",
    "    print(f\"{images.shape=}\")\n",
    "    print(f\"{len(labels)=}\")\n",
    "    print(labels)"
   ]
  },
  {
   "cell_type": "code",
   "execution_count": 4,
   "id": "f6dce896-153e-412c-b4ef-e711995243f6",
   "metadata": {},
   "outputs": [
    {
     "name": "stdout",
     "output_type": "stream",
     "text": [
      "images.shape=(60000, 28, 28)\n",
      "len(labels)=60000\n",
      "[5 0 4 ... 5 6 8]\n"
     ]
    }
   ],
   "source": [
    "data_summary(train_images, train_labels)"
   ]
  },
  {
   "cell_type": "code",
   "execution_count": 5,
   "id": "e4d118dc-6dae-4d26-9d2f-65c92e053608",
   "metadata": {},
   "outputs": [
    {
     "name": "stdout",
     "output_type": "stream",
     "text": [
      "images.shape=(10000, 28, 28)\n",
      "len(labels)=10000\n",
      "[7 2 1 ... 4 5 6]\n"
     ]
    }
   ],
   "source": [
    "data_summary(test_images, test_labels)"
   ]
  },
  {
   "cell_type": "markdown",
   "id": "7f2b3e6b-ede9-4678-9583-e5426bf2fce0",
   "metadata": {},
   "source": [
    "## preprocess data"
   ]
  },
  {
   "cell_type": "code",
   "execution_count": 6,
   "id": "7ce65d9b-9033-4e83-beee-a98ae463533e",
   "metadata": {},
   "outputs": [],
   "source": [
    "train_images = train_images.reshape((60000, 28 * 28))\n",
    "train_images = train_images.astype(\"float32\") / 255\n",
    "test_images = test_images.reshape((10000, 28 * 28))\n",
    "test_images = test_images.astype(\"float32\") / 255"
   ]
  },
  {
   "cell_type": "markdown",
   "id": "a18969ec-c663-4b98-9859-083d016495d5",
   "metadata": {},
   "source": [
    "## network architecture"
   ]
  },
  {
   "cell_type": "code",
   "execution_count": 7,
   "id": "74f9ffd6-53a6-46bc-a37e-10dc60d7a4a5",
   "metadata": {},
   "outputs": [
    {
     "name": "stdout",
     "output_type": "stream",
     "text": [
      "Metal device set to: Apple M1 Max\n"
     ]
    },
    {
     "name": "stderr",
     "output_type": "stream",
     "text": [
      "2023-01-22 09:23:40.290118: I tensorflow/core/common_runtime/pluggable_device/pluggable_device_factory.cc:306] Could not identify NUMA node of platform GPU ID 0, defaulting to 0. Your kernel may not have been built with NUMA support.\n",
      "2023-01-22 09:23:40.290249: I tensorflow/core/common_runtime/pluggable_device/pluggable_device_factory.cc:272] Created TensorFlow device (/job:localhost/replica:0/task:0/device:GPU:0 with 0 MB memory) -> physical PluggableDevice (device: 0, name: METAL, pci bus id: <undefined>)\n"
     ]
    }
   ],
   "source": [
    "model = keras.Sequential(\n",
    "    [\n",
    "        layers.Dense(512, activation=\"relu\"),\n",
    "        layers.Dense(10, activation=\"softmax\"),\n",
    "    ]\n",
    ")"
   ]
  },
  {
   "cell_type": "code",
   "execution_count": 8,
   "id": "6b48a9a9-9214-4433-b1dd-25e0429965c5",
   "metadata": {},
   "outputs": [],
   "source": [
    "model.compile(\n",
    "    optimizer=\"rmsprop\",\n",
    "    loss=\"sparse_categorical_crossentropy\",\n",
    "    metrics=[\"accuracy\"],\n",
    ")"
   ]
  },
  {
   "cell_type": "code",
   "execution_count": 9,
   "id": "a0781dee-7d51-4d83-9db5-1535293e2773",
   "metadata": {},
   "outputs": [
    {
     "name": "stdout",
     "output_type": "stream",
     "text": [
      "Epoch 1/10\n"
     ]
    },
    {
     "name": "stderr",
     "output_type": "stream",
     "text": [
      "2023-01-22 09:23:40.378844: W tensorflow/core/platform/profile_utils/cpu_utils.cc:128] Failed to get CPU frequency: 0 Hz\n"
     ]
    },
    {
     "name": "stdout",
     "output_type": "stream",
     "text": [
      "  7/469 [..............................] - ETA: 4s - loss: 1.4687 - accuracy: 0.5446  "
     ]
    },
    {
     "name": "stderr",
     "output_type": "stream",
     "text": [
      "2023-01-22 09:23:40.602713: I tensorflow/core/grappler/optimizers/custom_graph_optimizer_registry.cc:114] Plugin optimizer for device_type GPU is enabled.\n"
     ]
    },
    {
     "name": "stdout",
     "output_type": "stream",
     "text": [
      "465/469 [============================>.] - ETA: 0s - loss: 0.2608 - accuracy: 0.9234"
     ]
    },
    {
     "name": "stderr",
     "output_type": "stream",
     "text": [
      "2023-01-22 09:23:43.519018: I tensorflow/core/grappler/optimizers/custom_graph_optimizer_registry.cc:114] Plugin optimizer for device_type GPU is enabled.\n"
     ]
    },
    {
     "name": "stdout",
     "output_type": "stream",
     "text": [
      "469/469 [==============================] - 3s 7ms/step - loss: 0.2599 - accuracy: 0.9237 - val_loss: 0.1294 - val_accuracy: 0.9609\n",
      "Epoch 2/10\n",
      "469/469 [==============================] - 3s 7ms/step - loss: 0.1043 - accuracy: 0.9691 - val_loss: 0.0889 - val_accuracy: 0.9724\n",
      "Epoch 3/10\n",
      "469/469 [==============================] - 3s 7ms/step - loss: 0.0689 - accuracy: 0.9797 - val_loss: 0.0732 - val_accuracy: 0.9778\n",
      "Epoch 4/10\n",
      "469/469 [==============================] - 3s 6ms/step - loss: 0.0499 - accuracy: 0.9851 - val_loss: 0.0659 - val_accuracy: 0.9799\n",
      "Epoch 5/10\n",
      "469/469 [==============================] - 3s 6ms/step - loss: 0.0382 - accuracy: 0.9884 - val_loss: 0.0629 - val_accuracy: 0.9809\n",
      "Epoch 6/10\n",
      "469/469 [==============================] - 3s 6ms/step - loss: 0.0287 - accuracy: 0.9913 - val_loss: 0.0739 - val_accuracy: 0.9782\n",
      "Epoch 7/10\n",
      "469/469 [==============================] - 3s 6ms/step - loss: 0.0216 - accuracy: 0.9934 - val_loss: 0.0701 - val_accuracy: 0.9805\n",
      "Epoch 8/10\n",
      "469/469 [==============================] - 3s 6ms/step - loss: 0.0171 - accuracy: 0.9949 - val_loss: 0.0847 - val_accuracy: 0.9768\n",
      "Epoch 9/10\n",
      "469/469 [==============================] - 3s 6ms/step - loss: 0.0128 - accuracy: 0.9966 - val_loss: 0.0744 - val_accuracy: 0.9799\n",
      "Epoch 10/10\n",
      "469/469 [==============================] - 3s 6ms/step - loss: 0.0097 - accuracy: 0.9971 - val_loss: 0.0708 - val_accuracy: 0.9817\n"
     ]
    }
   ],
   "source": [
    "epochs = 10\n",
    "batch_size = 128\n",
    "\n",
    "history = model.fit(\n",
    "    train_images,\n",
    "    train_labels,\n",
    "    epochs=epochs,\n",
    "    batch_size=batch_size,\n",
    "    validation_data=(test_images, test_labels),\n",
    ")"
   ]
  },
  {
   "cell_type": "code",
   "execution_count": 10,
   "id": "2c1a1565-d44a-4876-ab25-b4a185014750",
   "metadata": {},
   "outputs": [
    {
     "name": "stdout",
     "output_type": "stream",
     "text": [
      "Model: \"sequential\"\n",
      "_________________________________________________________________\n",
      " Layer (type)                Output Shape              Param #   \n",
      "=================================================================\n",
      " dense (Dense)               (None, 512)               401920    \n",
      "                                                                 \n",
      " dense_1 (Dense)             (None, 10)                5130      \n",
      "                                                                 \n",
      "=================================================================\n",
      "Total params: 407,050\n",
      "Trainable params: 407,050\n",
      "Non-trainable params: 0\n",
      "_________________________________________________________________\n"
     ]
    }
   ],
   "source": [
    "model.summary()"
   ]
  },
  {
   "cell_type": "markdown",
   "id": "0b05c03c-94c0-47a4-acf9-a39568671eb9",
   "metadata": {},
   "source": [
    "## make prediction"
   ]
  },
  {
   "cell_type": "code",
   "execution_count": 11,
   "id": "a0ac9b6d-5b4a-47ae-976d-272de895bd2b",
   "metadata": {},
   "outputs": [
    {
     "name": "stdout",
     "output_type": "stream",
     "text": [
      "1/1 [==============================] - 0s 45ms/step\n"
     ]
    },
    {
     "name": "stderr",
     "output_type": "stream",
     "text": [
      "2023-01-22 09:24:10.853619: I tensorflow/core/grappler/optimizers/custom_graph_optimizer_registry.cc:114] Plugin optimizer for device_type GPU is enabled.\n"
     ]
    }
   ],
   "source": [
    "test_digits = test_images[0:10]\n",
    "predictions = model.predict(test_digits)"
   ]
  },
  {
   "cell_type": "code",
   "execution_count": 12,
   "id": "7aaa6c2c-d7e9-403f-b744-cf1b8d098326",
   "metadata": {},
   "outputs": [
    {
     "data": {
      "text/plain": [
       "array([1.0533358e-11, 1.3013403e-14, 1.0290397e-08, 5.0711683e-06,\n",
       "       1.9953244e-15, 2.4978870e-11, 2.1093784e-18, 9.9999487e-01,\n",
       "       2.2518294e-09, 4.8706863e-08], dtype=float32)"
      ]
     },
     "execution_count": 12,
     "metadata": {},
     "output_type": "execute_result"
    }
   ],
   "source": [
    "predictions[0]"
   ]
  },
  {
   "cell_type": "code",
   "execution_count": 13,
   "id": "0ccaa14f-0697-4695-9648-e289d0775471",
   "metadata": {},
   "outputs": [
    {
     "data": {
      "text/plain": [
       "7"
      ]
     },
     "execution_count": 13,
     "metadata": {},
     "output_type": "execute_result"
    }
   ],
   "source": [
    "predictions[0].argmax()"
   ]
  },
  {
   "cell_type": "code",
   "execution_count": 14,
   "id": "10fbec54-6353-4cff-9e18-4eb7115b02df",
   "metadata": {},
   "outputs": [
    {
     "name": "stdout",
     "output_type": "stream",
     "text": [
      "313/313 [==============================] - 1s 4ms/step - loss: 0.0708 - accuracy: 0.9817\n",
      "test_acc=0.98170006275177\n"
     ]
    }
   ],
   "source": [
    "test_loss, test_acc = model.evaluate(test_images, test_labels)\n",
    "print(f\"{test_acc=}\")"
   ]
  },
  {
   "cell_type": "code",
   "execution_count": 15,
   "id": "8d2ce374-eaba-4d2d-8795-a05927e6b1a9",
   "metadata": {},
   "outputs": [],
   "source": [
    "def viz_history(history):\n",
    "    xs = list(range(1, 1 + len(history.history[\"accuracy\"])))\n",
    "    plt.plot(xs, history.history[\"accuracy\"], label=\"training accuracy\")\n",
    "    plt.plot(xs, history.history[\"val_accuracy\"], label=\"validation accuracy\")\n",
    "    plt.legend(loc=\"lower right\")\n",
    "    plt.xlabel(\"Epoch\")\n",
    "    plt.ylabel(\"Accuracy\")\n",
    "    plt.xlim(1, len(xs))\n",
    "    plt.show()"
   ]
  },
  {
   "cell_type": "code",
   "execution_count": 16,
   "id": "87aa5158-ba0d-4c36-965f-c04e72f9c1b9",
   "metadata": {},
   "outputs": [
    {
     "data": {
      "image/png": "[encoded data removed]",
      "text/plain": [
       "<Figure size 640x480 with 1 Axes>"
      ]
     },
     "metadata": {},
     "output_type": "display_data"
    }
   ],
   "source": [
    "viz_history(history)"
   ]
  },
  {
   "cell_type": "code",
   "execution_count": null,
   "id": "e0613352-41bc-4223-8b0f-2f4784a60b59",
   "metadata": {},
   "outputs": [],
   "source": []
  }
 ],
 "metadata": {
  "kernelspec": {
   "display_name": "Python 3 (ipykernel)",
   "language": "python",
   "name": "python3"
  },
  "language_info": {
   "codemirror_mode": {
    "name": "ipython",
    "version": 3
   },
   "file_extension": ".py",
   "mimetype": "text/x-python",
   "name": "python",
   "nbconvert_exporter": "python",
   "pygments_lexer": "ipython3",
   "version": "3.9.15"
  }
 },
 "nbformat": 4,
 "nbformat_minor": 5
}
