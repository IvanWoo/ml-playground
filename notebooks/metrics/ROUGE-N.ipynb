{
 "cells": [
  {
   "cell_type": "markdown",
   "id": "c898d3fd-542a-4c5f-81e6-5b91aa7cd172",
   "metadata": {},
   "source": [
    "# [ROUGE-N (Recall-Oriented Understudy for Gisting Evaluation)](https://docs.kolena.io/metrics/rouge-n/)\n",
    "\n",
    "- Complimentary to BLEU, ROUGE-N can be thought of as an analog to recall for text comparisons.\n",
    "\n"
   ]
  },
  {
   "cell_type": "code",
   "execution_count": 1,
   "id": "ca6c8ccb-388d-4707-b44b-d6e10158be8d",
   "metadata": {},
   "outputs": [
    {
     "name": "stderr",
     "output_type": "stream",
     "text": [
      "[nltk_data] Downloading package punkt to /Users/yifanwu/nltk_data...\n",
      "[nltk_data]   Package punkt is already up-to-date!\n"
     ]
    }
   ],
   "source": [
    "import math\n",
    "from collections import Counter\n",
    "\n",
    "import nltk\n",
    "\n",
    "nltk.download(\"punkt\")\n",
    "from nltk.util import ngrams"
   ]
  },
  {
   "cell_type": "code",
   "execution_count": 2,
   "id": "758b66db-77ae-4d54-b55a-b11b071c5217",
   "metadata": {},
   "outputs": [],
   "source": [
    "references = [\n",
    "    \"A fast brown dog jumps over a sleeping fox\",\n",
    "    \"A quick brown dog jumps over the fox\",\n",
    "]\n",
    "candidate = \"The quick brown fox jumps over the lazy dog\""
   ]
  },
  {
   "cell_type": "code",
   "execution_count": 3,
   "id": "06c3dda9-98c7-4525-9dd5-e44f7d8b6a24",
   "metadata": {},
   "outputs": [],
   "source": [
    "def rouge_n_similarity(candidate: str, references: list[str], n: int):\n",
    "    candidate = nltk.word_tokenize(candidate)\n",
    "    references = [nltk.word_tokenize(ref) for ref in references]\n",
    "\n",
    "    candidate = ngrams(candidate, n)\n",
    "    can_counter = Counter(candidate)\n",
    "    ref_counters = []\n",
    "    overlap = 0\n",
    "\n",
    "    for ref in references:\n",
    "        ref = ngrams(ref, n)\n",
    "        ref_counter = Counter(ref)\n",
    "        for token in can_counter:\n",
    "            token_count_can = can_counter.get(token, 0)\n",
    "            token_count_ref = ref_counter.get(token, 0)\n",
    "            overlap += min(token_count_can, token_count_ref)\n",
    "        ref_counters.append(ref_counter)\n",
    "\n",
    "    precision = overlap / sum(can_counter.values())\n",
    "    recall = overlap / sum([sum(ref_counter.values()) for ref_counter in ref_counters])\n",
    "\n",
    "    print(f\"{precision=}, {recall=}\")\n",
    "    rouge_n_score = (\n",
    "        2 * (precision * recall) / (precision + recall)\n",
    "        if precision + recall != 0\n",
    "        else 0\n",
    "    )\n",
    "\n",
    "    return rouge_n_score"
   ]
  },
  {
   "cell_type": "code",
   "execution_count": 4,
   "id": "2d278ce4-a55b-49ad-b05f-44f53ac4e24f",
   "metadata": {},
   "outputs": [
    {
     "name": "stdout",
     "output_type": "stream",
     "text": [
      "precision=1.3333333333333333, recall=0.7058823529411765\n"
     ]
    },
    {
     "data": {
      "text/plain": [
       "0.9230769230769231"
      ]
     },
     "execution_count": 4,
     "metadata": {},
     "output_type": "execute_result"
    }
   ],
   "source": [
    "rouge_n_similarity(candidate, references, 1)"
   ]
  },
  {
   "cell_type": "code",
   "execution_count": 5,
   "id": "2bc19fa0-85ae-47a0-a09f-fc6cb57d06ca",
   "metadata": {},
   "outputs": [
    {
     "name": "stdout",
     "output_type": "stream",
     "text": [
      "precision=0.5, recall=0.26666666666666666\n"
     ]
    },
    {
     "data": {
      "text/plain": [
       "0.3478260869565218"
      ]
     },
     "execution_count": 5,
     "metadata": {},
     "output_type": "execute_result"
    }
   ],
   "source": [
    "rouge_n_similarity(candidate, references, 2)"
   ]
  },
  {
   "cell_type": "code",
   "execution_count": null,
   "id": "729e6bf3-3c97-4a2d-be49-087b16edc52b",
   "metadata": {},
   "outputs": [],
   "source": []
  }
 ],
 "metadata": {
  "kernelspec": {
   "display_name": "Python 3 (ipykernel)",
   "language": "python",
   "name": "python3"
  },
  "language_info": {
   "codemirror_mode": {
    "name": "ipython",
    "version": 3
   },
   "file_extension": ".py",
   "mimetype": "text/x-python",
   "name": "python",
   "nbconvert_exporter": "python",
   "pygments_lexer": "ipython3",
   "version": "3.9.15"
  }
 },
 "nbformat": 4,
 "nbformat_minor": 5
}
