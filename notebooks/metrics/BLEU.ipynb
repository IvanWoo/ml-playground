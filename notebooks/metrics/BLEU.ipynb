{
 "cells": [
  {
   "cell_type": "markdown",
   "id": "d601f074-abbb-43bc-b714-ef0af7f550e3",
   "metadata": {},
   "source": [
    "# [BLEU (BiLingual Evaluation Understudy)](https://docs.kolena.io/metrics/bleu/)\n",
    "\n",
    "- The BLEU (BiLingual Evaluation Understudy) score is a metric to evaluate the quality of candidate texts.\n",
    "- BLEU can be thought of as an analog to precision for text comparisons.\n",
    "- between 0 and 1, higher is better"
   ]
  },
  {
   "cell_type": "markdown",
   "id": "07aefa63-167b-4347-a3ad-ebb434b2038e",
   "metadata": {},
   "source": [
    "**BLEU Score Interpretation on a Corpus**\n",
    "\n",
    "|Score      | Interpretation                                                |\n",
    "|:---------:|:-------------------------------------------------------------:|\n",
    "| < 10      | Almost useless                                                |\n",
    "| 10 - 19   | Hard to get the gist                                          |\n",
    "| 20 - 29   | The gist is clear, but has significant grammatical errors     |\n",
    "| 30 - 40   | Understandable to good translations                           |\n",
    "| 40 - 50   | High quality translations                                     |\n",
    "| 50 - 60   | Very high quality, adequate, and fluent translations          |\n",
    "| > 60      | Quality often better than human                               |"
   ]
  },
  {
   "cell_type": "markdown",
   "id": "368e7081-0a88-4667-a71e-9ac9f6792846",
   "metadata": {},
   "source": [
    "## ready to use library"
   ]
  },
  {
   "cell_type": "code",
   "execution_count": 1,
   "id": "68b4a518-167a-4028-b65e-538099e92055",
   "metadata": {},
   "outputs": [],
   "source": [
    "import sacrebleu"
   ]
  },
  {
   "cell_type": "code",
   "execution_count": 2,
   "id": "8e39b4ac-d6b2-416e-b955-345c1841d043",
   "metadata": {},
   "outputs": [],
   "source": [
    "candidate = \"Fall leaves rustled softly beneath our weary feet\".lower()\n",
    "reference = \"Crisp autumn leaves rustled softly beneath our weary feet\".lower()"
   ]
  },
  {
   "cell_type": "code",
   "execution_count": 3,
   "id": "9b824485-10f6-48e2-8560-e19694e96df8",
   "metadata": {},
   "outputs": [
    {
     "name": "stdout",
     "output_type": "stream",
     "text": [
      "sacrebleu library BLEU:  74.2\n"
     ]
    }
   ],
   "source": [
    "print(\n",
    "    \"sacrebleu library BLEU: \",\n",
    "    round(sacrebleu.sentence_bleu(candidate, [reference]).score, 1),\n",
    ")"
   ]
  },
  {
   "cell_type": "markdown",
   "id": "ba4c1819-de4d-429c-a958-c064bb817c43",
   "metadata": {},
   "source": [
    "## detailed implementation from scratch"
   ]
  },
  {
   "cell_type": "code",
   "execution_count": 4,
   "id": "6e5a8354-3274-49e0-853e-46d8b83e92ac",
   "metadata": {},
   "outputs": [
    {
     "name": "stderr",
     "output_type": "stream",
     "text": [
      "[nltk_data] Downloading package punkt to /Users/yifanwu/nltk_data...\n",
      "[nltk_data]   Package punkt is already up-to-date!\n"
     ]
    }
   ],
   "source": [
    "import math\n",
    "from collections import Counter\n",
    "\n",
    "import nltk\n",
    "import numpy as np\n",
    "\n",
    "nltk.download(\"punkt\")\n",
    "from nltk.util import ngrams"
   ]
  },
  {
   "cell_type": "code",
   "execution_count": 5,
   "id": "7f5c6b04-b933-4b50-a7c9-140ff8d4d7b5",
   "metadata": {},
   "outputs": [],
   "source": [
    "def brevity_penalty(candidate, reference):\n",
    "    ref_length = len(reference)\n",
    "    can_length = len(candidate)\n",
    "    BP = min(1, np.exp(1 - ref_length / can_length))\n",
    "    return BP"
   ]
  },
  {
   "cell_type": "code",
   "execution_count": 6,
   "id": "542ac6cb-ef28-48b8-93eb-1b99617a4ca3",
   "metadata": {},
   "outputs": [],
   "source": [
    "def clipped_precision(candidate, reference):\n",
    "    \"\"\"\n",
    "    Clipped precision function given a original and a machine translated sentences\n",
    "    \"\"\"\n",
    "\n",
    "    clipped_precision_score = []\n",
    "\n",
    "    for i in range(1, 5):\n",
    "        ref_n_gram = Counter(ngrams(reference, i))\n",
    "        cand_n_gram = Counter(ngrams(candidate, i))\n",
    "\n",
    "        c = sum(cand_n_gram.values())\n",
    "        for j in cand_n_gram:\n",
    "            if j in ref_n_gram:\n",
    "                # if the count of the candidate n-gram is bigger than the corresponding count in the reference n-gram,\n",
    "                if cand_n_gram[j] > ref_n_gram[j]:\n",
    "                    # then set the count of the candidate n-gram to be equal to the reference n-gram\n",
    "                    cand_n_gram[j] = ref_n_gram[j]\n",
    "            else:\n",
    "                # else set the candidate n-gram equal to zero\n",
    "                cand_n_gram[j] = 0\n",
    "\n",
    "        clipped_precision_score.append(sum(cand_n_gram.values()) / c)\n",
    "\n",
    "    weights = [0.25] * 4\n",
    "\n",
    "    s = (w_i * math.log(p_i) for w_i, p_i in zip(weights, clipped_precision_score))\n",
    "\n",
    "    s = math.exp(math.fsum(s))\n",
    "    return s"
   ]
  },
  {
   "cell_type": "code",
   "execution_count": 7,
   "id": "bd6068a8-6db1-4e72-9ec2-7143422b6520",
   "metadata": {},
   "outputs": [],
   "source": [
    "def bleu_score(candidate, reference):\n",
    "    candidate = nltk.word_tokenize(candidate)\n",
    "    reference = nltk.word_tokenize(reference)\n",
    "    BP = brevity_penalty(candidate, reference)\n",
    "    precision = clipped_precision(candidate, reference)\n",
    "    print(f\"{BP=}, {precision=}\")\n",
    "    return BP * precision"
   ]
  },
  {
   "cell_type": "code",
   "execution_count": 8,
   "id": "d8cac32f-678b-43e1-a96c-36772926f935",
   "metadata": {},
   "outputs": [
    {
     "name": "stdout",
     "output_type": "stream",
     "text": [
      "BP=0.8824969025845955, precision=0.8408964152537145\n",
      "DIY BLEU:  74.2\n"
     ]
    }
   ],
   "source": [
    "print(\n",
    "    \"DIY BLEU: \",\n",
    "    round(bleu_score(candidate, reference) * 100, 1),\n",
    ")"
   ]
  },
  {
   "cell_type": "code",
   "execution_count": 9,
   "id": "e0d29423-e41f-4fe8-ab1b-bfa3d40088ef",
   "metadata": {},
   "outputs": [
    {
     "name": "stdout",
     "output_type": "stream",
     "text": [
      "BP=0.8824969025845955, precision=0.8408964152537145\n"
     ]
    }
   ],
   "source": [
    "assert round(bleu_score(candidate, reference) * 100, 1) == round(\n",
    "    sacrebleu.sentence_bleu(candidate, [reference]).score, 1\n",
    "), \"DIY BLEU is not align with sacrebleu lib\""
   ]
  },
  {
   "cell_type": "code",
   "execution_count": null,
   "id": "ebfc1248-e12d-48a9-ba85-4302a8cca764",
   "metadata": {},
   "outputs": [],
   "source": []
  }
 ],
 "metadata": {
  "kernelspec": {
   "display_name": "Python 3 (ipykernel)",
   "language": "python",
   "name": "python3"
  },
  "language_info": {
   "codemirror_mode": {
    "name": "ipython",
    "version": 3
   },
   "file_extension": ".py",
   "mimetype": "text/x-python",
   "name": "python",
   "nbconvert_exporter": "python",
   "pygments_lexer": "ipython3",
   "version": "3.9.15"
  }
 },
 "nbformat": 4,
 "nbformat_minor": 5
}
