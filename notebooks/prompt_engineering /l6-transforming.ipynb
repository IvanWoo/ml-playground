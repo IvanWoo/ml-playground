{
 "cells": [
  {
   "cell_type": "code",
   "execution_count": 1,
   "id": "66f64491-f14d-4ee8-b34d-ffddf82f6bbe",
   "metadata": {},
   "outputs": [],
   "source": [
    "from ml_playground.ask_gpt.utils import get_completion"
   ]
  },
  {
   "cell_type": "markdown",
   "id": "32d6d920-66d3-4d30-b2c8-0239e7d36b29",
   "metadata": {},
   "source": [
    "## Translation\n",
    "\n",
    "ChatGPT is trained with sources in many languages. This gives the model the ability to do translation. Here are some examples of how to use this capability."
   ]
  },
  {
   "cell_type": "code",
   "execution_count": 2,
   "id": "83d5791e-09d5-42be-9ee7-85130f73d41e",
   "metadata": {},
   "outputs": [
    {
     "name": "stdout",
     "output_type": "stream",
     "text": [
      "Hola, me gustaría pedir una licuadora.\n"
     ]
    }
   ],
   "source": [
    "prompt = f\"\"\"\n",
    "Translate the following English text to Spanish: \\ \n",
    "```Hi, I would like to order a blender```\n",
    "\"\"\"\n",
    "response = get_completion(prompt)\n",
    "print(response)"
   ]
  },
  {
   "cell_type": "code",
   "execution_count": 3,
   "id": "583d306c-ddc5-4fa1-ad27-0cb09a5b1de8",
   "metadata": {},
   "outputs": [
    {
     "name": "stdout",
     "output_type": "stream",
     "text": [
      "This sentence is in French.\n"
     ]
    }
   ],
   "source": [
    "prompt = f\"\"\"\n",
    "Tell me which language this is: \n",
    "```Combien coûte le lampadaire?```\n",
    "\"\"\"\n",
    "response = get_completion(prompt)\n",
    "print(response)"
   ]
  },
  {
   "cell_type": "code",
   "execution_count": 4,
   "id": "802e6fb2-93f8-454a-84df-f9f1a471ab4e",
   "metadata": {},
   "outputs": [
    {
     "name": "stdout",
     "output_type": "stream",
     "text": [
      "French: Je veux commander un ballon de basket\n",
      "Spanish: Quiero pedir un baloncesto\n",
      "English pirate: I be wantin' to order a basketball, arr!\n"
     ]
    }
   ],
   "source": [
    "prompt = f\"\"\"\n",
    "Translate the following text to French and Spanish\n",
    "and English pirate: \\\n",
    "```I want to order a basketball```\n",
    "\"\"\"\n",
    "response = get_completion(prompt)\n",
    "print(response)"
   ]
  },
  {
   "cell_type": "code",
   "execution_count": 5,
   "id": "81bf89c2-2bd9-433e-b18d-937fffb74693",
   "metadata": {},
   "outputs": [
    {
     "name": "stdout",
     "output_type": "stream",
     "text": [
      "Formal: ¿Le gustaría pedir una almohada?\n",
      "Informal: ¿Te gustaría pedir una almohada?\n"
     ]
    }
   ],
   "source": [
    "prompt = f\"\"\"\n",
    "Translate the following text to Spanish in both the \\\n",
    "formal and informal forms: \n",
    "'Would you like to order a pillow?'\n",
    "\"\"\"\n",
    "response = get_completion(prompt)\n",
    "print(response)"
   ]
  },
  {
   "cell_type": "markdown",
   "id": "63dcef85-c360-4ef2-accc-58aad1f87fca",
   "metadata": {},
   "source": [
    "### Universal Translator\n",
    "Imagine you are in charge of IT at a large multinational e-commerce company. Users are messaging you with IT issues in all their native languages. Your staff is from all over the world and speaks only their native languages. You need a universal translator!"
   ]
  },
  {
   "cell_type": "code",
   "execution_count": 6,
   "id": "c2f8882f-05fb-4fcb-b7b3-c6b2ce50dbcf",
   "metadata": {},
   "outputs": [],
   "source": [
    "user_messages = [\n",
    "    \"La performance du système est plus lente que d'habitude.\",  # System performance is slower than normal\n",
    "    \"Mi monitor tiene píxeles que no se iluminan.\",  # My monitor has pixels that are not lighting\n",
    "    \"Il mio mouse non funziona\",  # My mouse is not working\n",
    "    \"Mój klawisz Ctrl jest zepsuty\",  # My keyboard has a broken control key\n",
    "    \"我的屏幕在闪烁\",  # My screen is flashing\n",
    "]"
   ]
  },
  {
   "cell_type": "code",
   "execution_count": 7,
   "id": "b40d998e-aec0-4aad-ac81-970f47d4a4b9",
   "metadata": {},
   "outputs": [
    {
     "name": "stdout",
     "output_type": "stream",
     "text": [
      "Original message (The language is French.): La performance du système est plus lente que d'habitude.\n",
      "The system's performance is slower than usual.\n",
      "\n",
      "시스템의 성능이 평소보다 느립니다. \n",
      "\n",
      "Original message (The language is Spanish.): Mi monitor tiene píxeles que no se iluminan.\n",
      "English: My monitor has pixels that do not light up.\n",
      "\n",
      "Korean: 내 모니터에는 불이 들어오지 않는 픽셀이 있습니다. \n",
      "\n",
      "Original message (The language is Italian.): Il mio mouse non funziona\n",
      "English: My mouse is not working\n",
      "\n",
      "Korean: 내 마우스가 작동하지 않아요 \n",
      "\n",
      "Original message (The language is Polish.): Mój klawisz Ctrl jest zepsuty\n",
      "English: My Ctrl key is broken.\n",
      "\n",
      "Korean: 내 Ctrl 키가 고장났습니다. \n",
      "\n",
      "Original message (The language is Chinese.): 我的屏幕在闪烁\n",
      "English: My screen is flickering.\n",
      "\n",
      "Korean: 내 화면이 깜박거리고 있어요. \n",
      "\n"
     ]
    }
   ],
   "source": [
    "for issue in user_messages:\n",
    "    prompt = f\"Tell me what language this is: ```{issue}```\"\n",
    "    lang = get_completion(prompt)\n",
    "    print(f\"Original message ({lang}): {issue}\")\n",
    "\n",
    "    prompt = f\"\"\"\n",
    "    Translate the following  text to English \\\n",
    "    and Korean: ```{issue}```\n",
    "    \"\"\"\n",
    "    response = get_completion(prompt)\n",
    "    print(response, \"\\n\")"
   ]
  },
  {
   "cell_type": "code",
   "execution_count": 8,
   "id": "0e5e64e4-46b8-47b8-b29f-c11a55ac2573",
   "metadata": {},
   "outputs": [
    {
     "name": "stdout",
     "output_type": "stream",
     "text": [
      "English Translation:\n",
      "This morning, when I woke up, I suddenly realized\n",
      "\n",
      "Look, I'm falling in love again without learning my lesson\n",
      "\n",
      "What's reflected in the show window of fallen leaves\n",
      "\n",
      "Is me, who is in love\n",
      "\n",
      "Chinese Translation:\n",
      "今天早上，当我醒来时，我突然意识到\n",
      "\n",
      "看，我又一次毫无教训地坠入爱河\n",
      "\n",
      "在落叶的橱窗中反映出的\n",
      "\n",
      "是正在恋爱的我 \n",
      "\n"
     ]
    }
   ],
   "source": [
    "lyrics = \"\"\"\n",
    "今朝　目が覚めた時に　ふと気づいてしまったの\n",
    "\n",
    "ほらまた　懲りずに恋に落ちてる\n",
    "\n",
    "落ち葉のショーウィンドウに映っているのは\n",
    "\n",
    "恋をしている　わたし\n",
    "\"\"\"\n",
    "\n",
    "prompt = f\"\"\"\n",
    "    Translate the following lyrics to English \\\n",
    "    and Chinese: ```{lyrics}```\n",
    "    \"\"\"\n",
    "response = get_completion(prompt)\n",
    "print(response, \"\\n\")"
   ]
  },
  {
   "cell_type": "markdown",
   "id": "a4f71b8c-d287-4b9b-a24e-ae92e945164e",
   "metadata": {},
   "source": [
    "## Tone Transformation\n",
    "Writing can vary based on the intended audience. ChatGPT can produce different tones.\n"
   ]
  },
  {
   "cell_type": "code",
   "execution_count": 9,
   "id": "39c539ec-f880-4ab7-87d1-76d3b4cc86f4",
   "metadata": {},
   "outputs": [
    {
     "name": "stdout",
     "output_type": "stream",
     "text": [
      "Dear Sir/Madam,\n",
      "\n",
      "I hope this message finds you well. My name is Joe and I would like to bring your attention to the specifications of this particular standing lamp. \n",
      "\n",
      "Best Regards,\n",
      "Joe\n"
     ]
    }
   ],
   "source": [
    "prompt = f\"\"\"\n",
    "Translate the following from slang to a business letter: \n",
    "'Dude, This is Joe, check out this spec on this standing lamp.'\n",
    "\"\"\"\n",
    "response = get_completion(prompt)\n",
    "print(response)"
   ]
  },
  {
   "cell_type": "markdown",
   "id": "d80376f3-2242-4a0d-afd4-be8db2449b6c",
   "metadata": {},
   "source": [
    "## Format Conversion\n",
    "ChatGPT can translate between formats. The prompt should describe the input and output formats."
   ]
  },
  {
   "cell_type": "code",
   "execution_count": 10,
   "id": "afd058ba-d168-4682-ab53-ab9f08fd57a8",
   "metadata": {},
   "outputs": [
    {
     "name": "stdout",
     "output_type": "stream",
     "text": [
      "Here is the HTML table representation of the given JSON:\n",
      "\n",
      "```html\n",
      "<!DOCTYPE html>\n",
      "<html>\n",
      "<head>\n",
      "    <title>Restaurant Employees</title>\n",
      "    <style>\n",
      "        table {\n",
      "            width: 100%;\n",
      "            border-collapse: collapse;\n",
      "        }\n",
      "        th, td {\n",
      "            border: 1px solid black;\n",
      "            padding: 8px;\n",
      "            text-align: left;\n",
      "        }\n",
      "    </style>\n",
      "</head>\n",
      "<body>\n",
      "    <h2>Restaurant Employees</h2>\n",
      "    <table>\n",
      "        <tr>\n",
      "            <th>Name</th>\n",
      "            <th>Email</th>\n",
      "        </tr>\n",
      "        <tr>\n",
      "            <td>Shyam</td>\n",
      "            <td>shyamjaiswal@gmail.com</td>\n",
      "        </tr>\n",
      "        <tr>\n",
      "            <td>Bob</td>\n",
      "            <td>bob32@gmail.com</td>\n",
      "        </tr>\n",
      "        <tr>\n",
      "            <td>Jai</td>\n",
      "            <td>jai87@gmail.com</td>\n",
      "        </tr>\n",
      "    </table>\n",
      "</body>\n",
      "</html>\n",
      "```\n",
      "\n",
      "This HTML code creates a table with the title \"Restaurant Employees\" and two columns \"Name\" and \"Email\". Each row in the table represents an employee with their name and email.\n"
     ]
    }
   ],
   "source": [
    "data_json = {\n",
    "    \"resturant employees\": [\n",
    "        {\"name\": \"Shyam\", \"email\": \"shyamjaiswal@gmail.com\"},\n",
    "        {\"name\": \"Bob\", \"email\": \"bob32@gmail.com\"},\n",
    "        {\"name\": \"Jai\", \"email\": \"jai87@gmail.com\"},\n",
    "    ]\n",
    "}\n",
    "\n",
    "prompt = f\"\"\"\n",
    "Translate the following python dictionary from JSON to an HTML \\\n",
    "table with column headers and title: {data_json}\n",
    "\"\"\"\n",
    "response = get_completion(prompt)\n",
    "print(response)"
   ]
  },
  {
   "cell_type": "code",
   "execution_count": 11,
   "id": "75fa8199-c391-41bb-89f6-c6ca4a44c021",
   "metadata": {},
   "outputs": [
    {
     "data": {
      "text/html": [
       "Here is the HTML table representation of the given JSON:\n",
       "\n",
       "```html\n",
       "<!DOCTYPE html>\n",
       "<html>\n",
       "<head>\n",
       "    <title>Restaurant Employees</title>\n",
       "    <style>\n",
       "        table {\n",
       "            width: 100%;\n",
       "            border-collapse: collapse;\n",
       "        }\n",
       "        th, td {\n",
       "            border: 1px solid black;\n",
       "            padding: 8px;\n",
       "            text-align: left;\n",
       "        }\n",
       "    </style>\n",
       "</head>\n",
       "<body>\n",
       "    <h2>Restaurant Employees</h2>\n",
       "    <table>\n",
       "        <tr>\n",
       "            <th>Name</th>\n",
       "            <th>Email</th>\n",
       "        </tr>\n",
       "        <tr>\n",
       "            <td>Shyam</td>\n",
       "            <td>shyamjaiswal@gmail.com</td>\n",
       "        </tr>\n",
       "        <tr>\n",
       "            <td>Bob</td>\n",
       "            <td>bob32@gmail.com</td>\n",
       "        </tr>\n",
       "        <tr>\n",
       "            <td>Jai</td>\n",
       "            <td>jai87@gmail.com</td>\n",
       "        </tr>\n",
       "    </table>\n",
       "</body>\n",
       "</html>\n",
       "```\n",
       "\n",
       "This HTML code creates a table with the title \"Restaurant Employees\" and two columns \"Name\" and \"Email\". Each row in the table represents an employee with their name and email."
      ],
      "text/plain": [
       "<IPython.core.display.HTML object>"
      ]
     },
     "metadata": {},
     "output_type": "display_data"
    }
   ],
   "source": [
    "from IPython.display import HTML, JSON, Latex, Markdown, display\n",
    "\n",
    "display(HTML(response))"
   ]
  },
  {
   "cell_type": "markdown",
   "id": "481ddfd1-e65e-4451-a119-a95fb901de01",
   "metadata": {},
   "source": [
    "## Spellcheck/Grammar check.\n",
    "\n",
    "Here are some examples of common grammar and spelling problems and the LLM's response. \n",
    "\n",
    "To signal to the LLM that you want it to proofread your text, you instruct the model to 'proofread' or 'proofread and correct'."
   ]
  },
  {
   "cell_type": "code",
   "execution_count": 12,
   "id": "8003dfe8-13d3-424b-bb30-a9654c48f49e",
   "metadata": {},
   "outputs": [
    {
     "name": "stdout",
     "output_type": "stream",
     "text": [
      "\"The girl with the black and white puppies has a ball.\"\n",
      "No errors found.\n",
      "\"It's going to be a long day. Does the car need its oil changed?\"\n",
      "\"There goes my freedom. They're going to bring their suitcases.\"\n",
      "\"You're going to need your notebook.\"\n",
      "\"That medicine affects my ability to sleep. Have you heard of the butterfly effect?\"\n",
      "\"This phrase is to check ChatGPT for spelling ability.\"\n"
     ]
    }
   ],
   "source": [
    "text = [\n",
    "    \"The girl with the black and white puppies have a ball.\",  # The girl has a ball.\n",
    "    \"Yolanda has her notebook.\",  # ok\n",
    "    \"Its going to be a long day. Does the car need it’s oil changed?\",  # Homonyms\n",
    "    \"Their goes my freedom. There going to bring they’re suitcases.\",  # Homonyms\n",
    "    \"Your going to need you’re notebook.\",  # Homonyms\n",
    "    \"That medicine effects my ability to sleep. Have you heard of the butterfly affect?\",  # Homonyms\n",
    "    \"This phrase is to cherck chatGPT for speling abilitty\",  # spelling\n",
    "]\n",
    "for t in text:\n",
    "    prompt = f\"\"\"Proofread and correct the following text\n",
    "    and rewrite the corrected version. If you don't find\n",
    "    and errors, just say \"No errors found\". Don't use \n",
    "    any punctuation around the text:\n",
    "    ```{t}```\"\"\"\n",
    "    response = get_completion(prompt)\n",
    "    print(response)"
   ]
  },
  {
   "cell_type": "code",
   "execution_count": 13,
   "id": "08c5c842-112a-47a9-9d75-c745d11e7bbf",
   "metadata": {},
   "outputs": [
    {
     "name": "stdout",
     "output_type": "stream",
     "text": [
      "I purchased this for my daughter's birthday because she constantly borrows mine from my room. Yes, adults also enjoy pandas. She carries it everywhere with her, and it's incredibly soft and adorable. However, one of the ears is slightly lower than the other, and I don't believe it was designed to be asymmetrical. It's a bit small considering the price I paid. I think there might be larger options available for the same price. It arrived a day earlier than expected, which allowed me to enjoy it myself before giving it to my daughter.\n"
     ]
    }
   ],
   "source": [
    "text = f\"\"\"\n",
    "Got this for my daughter for her birthday cuz she keeps taking \\\n",
    "mine from my room.  Yes, adults also like pandas too.  She takes \\\n",
    "it everywhere with her, and it's super soft and cute.  One of the \\\n",
    "ears is a bit lower than the other, and I don't think that was \\\n",
    "designed to be asymmetrical. It's a bit small for what I paid for it \\\n",
    "though. I think there might be other options that are bigger for \\\n",
    "the same price.  It arrived a day earlier than expected, so I got \\\n",
    "to play with it myself before I gave it to my daughter.\n",
    "\"\"\"\n",
    "prompt = f\"proofread and correct this review: ```{text}```\"\n",
    "response = get_completion(prompt)\n",
    "print(response)"
   ]
  },
  {
   "cell_type": "code",
   "execution_count": 14,
   "id": "e92d3233-4358-44f8-b7d3-58b17ae89c09",
   "metadata": {},
   "outputs": [
    {
     "data": {
      "text/markdown": [
       "<span style=\"color:red;font-weight:700;text-decoration:line-through;\">Got </span><span style=\"color:red;font-weight:700;\">I purchased </span>this for my <span style=\"color:red;font-weight:700;text-decoration:line-through;\">daughter for her </span><span style=\"color:red;font-weight:700;\">daughter's </span>birthday <span style=\"color:red;font-weight:700;text-decoration:line-through;\">cuz </span><span style=\"color:red;font-weight:700;\">because </span>she <span style=\"color:red;font-weight:700;text-decoration:line-through;\">keeps taking </span><span style=\"color:red;font-weight:700;\">constantly borrows </span>mine from my <span style=\"color:red;font-weight:700;text-decoration:line-through;\">room.  </span><span style=\"color:red;font-weight:700;\">room. </span>Yes, adults also <span style=\"color:red;font-weight:700;text-decoration:line-through;\">like pandas too.  </span><span style=\"color:red;font-weight:700;\">enjoy pandas. </span>She <span style=\"color:red;font-weight:700;text-decoration:line-through;\">takes </span><span style=\"color:red;font-weight:700;\">carries </span>it everywhere with her, and it's <span style=\"color:red;font-weight:700;text-decoration:line-through;\">super </span><span style=\"color:red;font-weight:700;\">incredibly </span>soft and <span style=\"color:red;font-weight:700;text-decoration:line-through;\">cute.  One </span><span style=\"color:red;font-weight:700;\">adorable. However, one </span>of the ears is <span style=\"color:red;font-weight:700;text-decoration:line-through;\">a bit </span><span style=\"color:red;font-weight:700;\">slightly </span>lower than the other, and I don't <span style=\"color:red;font-weight:700;text-decoration:line-through;\">think that </span><span style=\"color:red;font-weight:700;\">believe it </span>was designed to be asymmetrical. It's a bit small <span style=\"color:red;font-weight:700;text-decoration:line-through;\">for what </span><span style=\"color:red;font-weight:700;\">considering the price </span>I <span style=\"color:red;font-weight:700;text-decoration:line-through;\">paid for it though. </span><span style=\"color:red;font-weight:700;\">paid. </span>I think there might be <span style=\"color:red;font-weight:700;text-decoration:line-through;\">other </span><span style=\"color:red;font-weight:700;\">larger </span>options <span style=\"color:red;font-weight:700;text-decoration:line-through;\">that are bigger </span><span style=\"color:red;font-weight:700;\">available </span>for the same <span style=\"color:red;font-weight:700;text-decoration:line-through;\">price.  </span><span style=\"color:red;font-weight:700;\">price. </span>It arrived a day earlier than expected, <span style=\"color:red;font-weight:700;text-decoration:line-through;\">so I got </span><span style=\"color:red;font-weight:700;\">which allowed me </span>to <span style=\"color:red;font-weight:700;text-decoration:line-through;\">play with </span><span style=\"color:red;font-weight:700;\">enjoy </span>it myself before <span style=\"color:red;font-weight:700;text-decoration:line-through;\">I gave </span><span style=\"color:red;font-weight:700;\">giving </span>it to my <span style=\"color:red;font-weight:700;text-decoration:line-through;\">daughter.\n",
       "</span><span style=\"color:red;font-weight:700;\">daughter.</span>"
      ],
      "text/plain": [
       "<IPython.core.display.Markdown object>"
      ]
     },
     "metadata": {},
     "output_type": "display_data"
    }
   ],
   "source": [
    "from redlines import Redlines\n",
    "\n",
    "diff = Redlines(text, response)\n",
    "display(Markdown(diff.output_markdown))"
   ]
  },
  {
   "cell_type": "code",
   "execution_count": 15,
   "id": "8c77eca7-3c05-487a-a648-21ea513e14f9",
   "metadata": {},
   "outputs": [
    {
     "data": {
      "text/markdown": [
       "```markdown\n",
       "I purchased this delightful panda-themed item as a birthday gift for my daughter, primarily because she had developed a habit of borrowing mine. It is worth noting that pandas are not just for children; adults can appreciate their charm as well. \n",
       "\n",
       "My daughter has grown incredibly fond of this gift, carrying it with her wherever she goes. The plush texture and adorable design make it an instant favorite. However, there is a minor flaw in the design - one of the ears is positioned slightly lower than the other, suggesting an unintentional asymmetry. \n",
       "\n",
       "In terms of size, the product is somewhat smaller than I anticipated, especially considering the price point. Potential buyers may want to explore other options that offer larger sizes at a comparable cost. \n",
       "\n",
       "On a positive note, the delivery was prompt, arriving a day earlier than the estimated date. This allowed me some time to interact with the product myself before presenting it to my daughter. \n",
       "```\n"
      ],
      "text/plain": [
       "<IPython.core.display.Markdown object>"
      ]
     },
     "metadata": {},
     "output_type": "display_data"
    }
   ],
   "source": [
    "prompt = f\"\"\"\n",
    "proofread and correct this review. Make it more compelling. \n",
    "Ensure it follows APA style guide and targets an advanced reader. \n",
    "Output in markdown format.\n",
    "Text: ```{text}```\n",
    "\"\"\"\n",
    "response = get_completion(prompt)\n",
    "display(Markdown(response))"
   ]
  },
  {
   "cell_type": "code",
   "execution_count": null,
   "id": "3da42988-eb3d-4c13-879c-8c0e77f5861a",
   "metadata": {},
   "outputs": [],
   "source": []
  }
 ],
 "metadata": {
  "kernelspec": {
   "display_name": "Python 3 (ipykernel)",
   "language": "python",
   "name": "python3"
  },
  "language_info": {
   "codemirror_mode": {
    "name": "ipython",
    "version": 3
   },
   "file_extension": ".py",
   "mimetype": "text/x-python",
   "name": "python",
   "nbconvert_exporter": "python",
   "pygments_lexer": "ipython3",
   "version": "3.9.18"
  }
 },
 "nbformat": 4,
 "nbformat_minor": 5
}
