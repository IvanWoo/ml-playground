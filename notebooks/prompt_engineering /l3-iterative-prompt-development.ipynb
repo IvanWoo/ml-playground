{
 "cells": [
  {
   "cell_type": "code",
   "execution_count": 1,
   "id": "8d9cdbea-a9be-4b14-8ba0-0cca68038f4c",
   "metadata": {},
   "outputs": [],
   "source": [
    "from ml_playground.ask_gpt.utils import get_completion"
   ]
  },
  {
   "cell_type": "code",
   "execution_count": 2,
   "id": "cede5e5f-c464-4049-9a36-17310da503f8",
   "metadata": {},
   "outputs": [],
   "source": [
    "fact_sheet_chair = \"\"\"\n",
    "OVERVIEW\n",
    "- Part of a beautiful family of mid-century inspired office furniture, \n",
    "including filing cabinets, desks, bookcases, meeting tables, and more.\n",
    "- Several options of shell color and base finishes.\n",
    "- Available with plastic back and front upholstery (SWC-100) \n",
    "or full upholstery (SWC-110) in 10 fabric and 6 leather options.\n",
    "- Base finish options are: stainless steel, matte black, \n",
    "gloss white, or chrome.\n",
    "- Chair is available with or without armrests.\n",
    "- Suitable for home or business settings.\n",
    "- Qualified for contract use.\n",
    "\n",
    "CONSTRUCTION\n",
    "- 5-wheel plastic coated aluminum base.\n",
    "- Pneumatic chair adjust for easy raise/lower action.\n",
    "\n",
    "DIMENSIONS\n",
    "- WIDTH 53 CM | 20.87”\n",
    "- DEPTH 51 CM | 20.08”\n",
    "- HEIGHT 80 CM | 31.50”\n",
    "- SEAT HEIGHT 44 CM | 17.32”\n",
    "- SEAT DEPTH 41 CM | 16.14”\n",
    "\n",
    "OPTIONS\n",
    "- Soft or hard-floor caster options.\n",
    "- Two choices of seat foam densities: \n",
    " medium (1.8 lb/ft3) or high (2.8 lb/ft3)\n",
    "- Armless or 8 position PU armrests \n",
    "\n",
    "MATERIALS\n",
    "SHELL BASE GLIDER\n",
    "- Cast Aluminum with modified nylon PA6/PA66 coating.\n",
    "- Shell thickness: 10 mm.\n",
    "SEAT\n",
    "- HD36 foam\n",
    "\n",
    "COUNTRY OF ORIGIN\n",
    "- Italy\n",
    "\"\"\""
   ]
  },
  {
   "cell_type": "code",
   "execution_count": 3,
   "id": "eac8b7c6-53b8-48f1-a6c2-dbadbd3b9466",
   "metadata": {},
   "outputs": [
    {
     "name": "stdout",
     "output_type": "stream",
     "text": [
      "Introducing our mid-century inspired office chair, a perfect blend of style and comfort for your home or business setting. This chair is part of an elegant collection of office furniture that includes filing cabinets, desks, bookcases, meeting tables, and more. \n",
      "\n",
      "Customize your chair to match your style and comfort preferences. Choose from a variety of shell colors and base finishes, including stainless steel, matte black, gloss white, or chrome. The chair is available with a plastic back and front upholstery (SWC-100) or full upholstery (SWC-110) in 10 fabric and 6 leather options. \n",
      "\n",
      "This chair is designed with a 5-wheel plastic coated aluminum base for easy mobility and a pneumatic adjust feature for effortless height adjustment. The dimensions of the chair are 53 cm in width, 51 cm in depth, and 80 cm in height, with a seat height of 44 cm and seat depth of 41 cm. \n",
      "\n",
      "Choose from soft or hard-floor caster options and two choices of seat foam densities: medium (1.8 lb/ft3) or high (2.8 lb/ft3). The chair is available with or without armrests, and if you prefer armrests, you can choose from 8 different positions. \n",
      "\n",
      "The shell base glider is made of cast aluminum with a modified nylon PA6/PA66 coating, and the seat is made of comfortable HD36 foam. All of our chairs are proudly made in Italy and are qualified for contract use. \n",
      "\n",
      "Add a touch of mid-century elegance to your office with our customizable office chair.\n"
     ]
    }
   ],
   "source": [
    "prompt = f\"\"\"\n",
    "Your task is to help a marketing team create a \n",
    "description for a retail website of a product based \n",
    "on a technical fact sheet.\n",
    "\n",
    "Write a product description based on the information \n",
    "provided in the technical specifications delimited by \n",
    "triple backticks.\n",
    "\n",
    "Technical specifications: ```{fact_sheet_chair}```\n",
    "\"\"\"\n",
    "response = get_completion(prompt)\n",
    "print(response)"
   ]
  },
  {
   "cell_type": "markdown",
   "id": "3b1f01d5-7e59-420d-b2c9-d766331e74fd",
   "metadata": {},
   "source": [
    "## Issue 1: The text is too long \n",
    "- Limit the number of words/sentences/characters."
   ]
  },
  {
   "cell_type": "code",
   "execution_count": 4,
   "id": "b280299e-870c-458c-9be0-78a8e388b7fc",
   "metadata": {},
   "outputs": [
    {
     "name": "stdout",
     "output_type": "stream",
     "text": [
      "Experience the blend of mid-century design and modern comfort with our versatile office chair. Choose from a range of shell colors, base finishes, and upholstery options. Features include adjustable height, optional armrests, and two seat foam densities. Perfect for home or business use. Made in Italy.\n"
     ]
    }
   ],
   "source": [
    "prompt = f\"\"\"\n",
    "Your task is to help a marketing team create a \n",
    "description for a retail website of a product based \n",
    "on a technical fact sheet.\n",
    "\n",
    "Write a product description based on the information \n",
    "provided in the technical specifications delimited by \n",
    "triple backticks.\n",
    "\n",
    "Use at most 50 words.\n",
    "\n",
    "Technical specifications: ```{fact_sheet_chair}```\n",
    "\"\"\"\n",
    "response = get_completion(prompt)\n",
    "print(response)"
   ]
  },
  {
   "cell_type": "markdown",
   "id": "c4c97749-16dc-4da4-bcb3-c2429b9c20ea",
   "metadata": {},
   "source": [
    "## Issue 2. Text focuses on the wrong details\n",
    "- Ask it to focus on the aspects that are relevant to the intended audience."
   ]
  },
  {
   "cell_type": "code",
   "execution_count": 5,
   "id": "61f87291-1663-4d5a-8357-09d375c602df",
   "metadata": {},
   "outputs": [
    {
     "name": "stdout",
     "output_type": "stream",
     "text": [
      "This mid-century inspired office chair features a 5-wheel plastic coated aluminum base and a shell made from cast aluminum with a modified nylon PA6/PA66 coating. It offers a choice of plastic or fully upholstered finishes, with a seat made from HD36 foam. Available with or without armrests.\n"
     ]
    }
   ],
   "source": [
    "prompt = f\"\"\"\n",
    "Your task is to help a marketing team create a \n",
    "description for a retail website of a product based \n",
    "on a technical fact sheet.\n",
    "\n",
    "Write a product description based on the information \n",
    "provided in the technical specifications delimited by \n",
    "triple backticks.\n",
    "\n",
    "The description is intended for furniture retailers, \n",
    "so should be technical in nature and focus on the \n",
    "materials the product is constructed from.\n",
    "\n",
    "Use at most 50 words.\n",
    "\n",
    "Technical specifications: ```{fact_sheet_chair}```\n",
    "\"\"\"\n",
    "response = get_completion(prompt)\n",
    "print(response)"
   ]
  },
  {
   "cell_type": "code",
   "execution_count": 6,
   "id": "23e0c410-c4b6-4fc7-8a39-f90763ee0a17",
   "metadata": {},
   "outputs": [
    {
     "name": "stdout",
     "output_type": "stream",
     "text": [
      "This mid-century inspired office chair is constructed from a cast aluminum shell base with a modified nylon PA6/PA66 coating, ensuring durability. The seat is made from HD36 foam for comfort. It features a 5-wheel plastic coated aluminum base for easy mobility. Product IDs: SWC-100, SWC-110.\n"
     ]
    }
   ],
   "source": [
    "prompt = f\"\"\"\n",
    "Your task is to help a marketing team create a \n",
    "description for a retail website of a product based \n",
    "on a technical fact sheet.\n",
    "\n",
    "Write a product description based on the information \n",
    "provided in the technical specifications delimited by \n",
    "triple backticks.\n",
    "\n",
    "The description is intended for furniture retailers, \n",
    "so should be technical in nature and focus on the \n",
    "materials the product is constructed from.\n",
    "\n",
    "At the end of the description, include every 7-character \n",
    "Product ID in the technical specification.\n",
    "\n",
    "Use at most 50 words.\n",
    "\n",
    "Technical specifications: ```{fact_sheet_chair}```\n",
    "\"\"\"\n",
    "response = get_completion(prompt)\n",
    "print(response)"
   ]
  },
  {
   "cell_type": "markdown",
   "id": "d11ace40-6a87-479a-8766-5ff39d639334",
   "metadata": {},
   "source": [
    "## Issue 3. Description needs a table of dimensions\n",
    "- Ask it to extract information and organize it in a table."
   ]
  },
  {
   "cell_type": "code",
   "execution_count": 7,
   "id": "5498c806-9f33-4f2c-b1c6-cfce2694d299",
   "metadata": {},
   "outputs": [
    {
     "name": "stdout",
     "output_type": "stream",
     "text": [
      "<div>\n",
      "<p>This mid-century inspired office chair is part of a beautiful family of office furniture that includes filing cabinets, desks, bookcases, meeting tables, and more. The chair is available in several shell colors and base finishes, with options for a plastic back and front upholstery (SWC-100) or full upholstery (SWC-110) in 10 fabric and 6 leather options. The base finish options include stainless steel, matte black, gloss white, or chrome. This chair is available with or without armrests and is suitable for both home and business settings. It is also qualified for contract use.</p>\n",
      "\n",
      "<p>The chair is constructed with a 5-wheel plastic coated aluminum base and features a pneumatic chair adjust for easy raise/lower action. The shell base glider is made of cast aluminum with a modified nylon PA6/PA66 coating and has a shell thickness of 10 mm. The seat is made of HD36 foam. The chair also offers soft or hard-floor caster options, two choices of seat foam densities (medium 1.8 lb/ft3 or high 2.8 lb/ft3), and the option for armless or 8 position PU armrests. This product is proudly made in Italy.</p>\n",
      "\n",
      "<p>Product ID: SWC-100, SWC-110</p>\n",
      "\n",
      "<h2>Product Dimensions</h2>\n",
      "<table>\n",
      "  <tr>\n",
      "    <th>Dimension</th>\n",
      "    <th>Measurement (inches)</th>\n",
      "  </tr>\n",
      "  <tr>\n",
      "    <td>Width</td>\n",
      "    <td>20.87</td>\n",
      "  </tr>\n",
      "  <tr>\n",
      "    <td>Depth</td>\n",
      "    <td>20.08</td>\n",
      "  </tr>\n",
      "  <tr>\n",
      "    <td>Height</td>\n",
      "    <td>31.50</td>\n",
      "  </tr>\n",
      "  <tr>\n",
      "    <td>Seat Height</td>\n",
      "    <td>17.32</td>\n",
      "  </tr>\n",
      "  <tr>\n",
      "    <td>Seat Depth</td>\n",
      "    <td>16.14</td>\n",
      "  </tr>\n",
      "</table>\n",
      "</div>\n"
     ]
    }
   ],
   "source": [
    "prompt = f\"\"\"\n",
    "Your task is to help a marketing team create a \n",
    "description for a retail website of a product based \n",
    "on a technical fact sheet.\n",
    "\n",
    "Write a product description based on the information \n",
    "provided in the technical specifications delimited by \n",
    "triple backticks.\n",
    "\n",
    "The description is intended for furniture retailers, \n",
    "so should be technical in nature and focus on the \n",
    "materials the product is constructed from.\n",
    "\n",
    "At the end of the description, include every 7-character \n",
    "Product ID in the technical specification.\n",
    "\n",
    "After the description, include a table that gives the \n",
    "product's dimensions. The table should have two columns.\n",
    "In the first column include the name of the dimension. \n",
    "In the second column include the measurements in inches only.\n",
    "\n",
    "Give the table the title 'Product Dimensions'.\n",
    "\n",
    "Format everything as HTML that can be used in a website. \n",
    "Place the description in a <div> element.\n",
    "\n",
    "Technical specifications: ```{fact_sheet_chair}```\n",
    "\"\"\"\n",
    "\n",
    "response = get_completion(prompt)\n",
    "print(response)"
   ]
  },
  {
   "cell_type": "markdown",
   "id": "428fe1af-6e5f-4525-8f9d-1022ad4b6a2a",
   "metadata": {},
   "source": [
    "## Load Python libraries to view HTML"
   ]
  },
  {
   "cell_type": "code",
   "execution_count": 8,
   "id": "779406da-557c-4eb7-abdd-96c129bd1527",
   "metadata": {},
   "outputs": [],
   "source": [
    "from IPython.display import HTML, display"
   ]
  },
  {
   "cell_type": "code",
   "execution_count": 9,
   "id": "f9aeb090-306f-4e85-bf1d-94f3d5b656e5",
   "metadata": {},
   "outputs": [
    {
     "data": {
      "text/html": [
       "<div>\n",
       "<p>This mid-century inspired office chair is part of a beautiful family of office furniture that includes filing cabinets, desks, bookcases, meeting tables, and more. The chair is available in several shell colors and base finishes, with options for a plastic back and front upholstery (SWC-100) or full upholstery (SWC-110) in 10 fabric and 6 leather options. The base finish options include stainless steel, matte black, gloss white, or chrome. This chair is available with or without armrests and is suitable for both home and business settings. It is also qualified for contract use.</p>\n",
       "\n",
       "<p>The chair is constructed with a 5-wheel plastic coated aluminum base and features a pneumatic chair adjust for easy raise/lower action. The shell base glider is made of cast aluminum with a modified nylon PA6/PA66 coating and has a shell thickness of 10 mm. The seat is made of HD36 foam. The chair also offers soft or hard-floor caster options, two choices of seat foam densities (medium 1.8 lb/ft3 or high 2.8 lb/ft3), and the option for armless or 8 position PU armrests. This product is proudly made in Italy.</p>\n",
       "\n",
       "<p>Product ID: SWC-100, SWC-110</p>\n",
       "\n",
       "<h2>Product Dimensions</h2>\n",
       "<table>\n",
       "  <tr>\n",
       "    <th>Dimension</th>\n",
       "    <th>Measurement (inches)</th>\n",
       "  </tr>\n",
       "  <tr>\n",
       "    <td>Width</td>\n",
       "    <td>20.87</td>\n",
       "  </tr>\n",
       "  <tr>\n",
       "    <td>Depth</td>\n",
       "    <td>20.08</td>\n",
       "  </tr>\n",
       "  <tr>\n",
       "    <td>Height</td>\n",
       "    <td>31.50</td>\n",
       "  </tr>\n",
       "  <tr>\n",
       "    <td>Seat Height</td>\n",
       "    <td>17.32</td>\n",
       "  </tr>\n",
       "  <tr>\n",
       "    <td>Seat Depth</td>\n",
       "    <td>16.14</td>\n",
       "  </tr>\n",
       "</table>\n",
       "</div>"
      ],
      "text/plain": [
       "<IPython.core.display.HTML object>"
      ]
     },
     "metadata": {},
     "output_type": "display_data"
    }
   ],
   "source": [
    "display(HTML(response))"
   ]
  },
  {
   "cell_type": "code",
   "execution_count": 10,
   "id": "0e093e63-fbe5-4538-931f-b7b5c709cf44",
   "metadata": {},
   "outputs": [
    {
     "name": "stdout",
     "output_type": "stream",
     "text": [
      "<div>\n",
      "<p>この製品は、美しいミッドセンチュリー風のオフィス家具の一部で、ファイルキャビネット、デスク、本棚、会議テーブルなどがあります。シェルの色とベースの仕上げのいくつかのオプションがあります。プラスチック裏地とフロントの張り地（SWC-100）または全張り地（SWC-110）で、10種類の布地と6種類のレザーオプションがあります。ベースの仕上げオプションは、ステンレス鋼、マットブラック、光沢白、またはクロームです。アームレストの有無を選べます。家庭やビジネスの設定に適しています。契約使用に適格です。</p>\n",
      "\n",
      "<p>5輪のプラスチックコーティングされたアルミニウムベースを採用しています。簡単に上下動作ができるように、椅子は空気圧調整が可能です。</p>\n",
      "\n",
      "<p>ソフトまたはハードフロアのキャスターオプションがあります。座面の泡密度は2種類から選べます：中（1.8 lb/ft3）または高（2.8 lb/ft3）。アームレストなしまたは8位置PUアームレストがあります。</p>\n",
      "\n",
      "<p>シェルベースグライダーは、改良されたナイロンPA6/PA66コーティング付きの鋳造アルミニウムです。シェルの厚さは10mmです。座面はHD36フォームを使用しています。</p>\n",
      "\n",
      "<p>製造国はイタリアです。</p>\n",
      "\n",
      "<h2>製品寸法</h2>\n",
      "<table>\n",
      "  <tr>\n",
      "    <th>寸法</th>\n",
      "    <th>インチ</th>\n",
      "  </tr>\n",
      "  <tr>\n",
      "    <td>幅</td>\n",
      "    <td>20.87\"</td>\n",
      "  </tr>\n",
      "  <tr>\n",
      "    <td>奥行き</td>\n",
      "    <td>20.08\"</td>\n",
      "  </tr>\n",
      "  <tr>\n",
      "    <td>高さ</td>\n",
      "    <td>31.50\"</td>\n",
      "  </tr>\n",
      "  <tr>\n",
      "    <td>座面の高さ</td>\n",
      "    <td>17.32\"</td>\n",
      "  </tr>\n",
      "  <tr>\n",
      "    <td>座面の奥行き</td>\n",
      "    <td>16.14\"</td>\n",
      "  </tr>\n",
      "</table>\n",
      "</div>\n"
     ]
    }
   ],
   "source": [
    "prompt = f\"\"\"\n",
    "Your task is to help a marketing team create a \n",
    "description for a retail website of a product based \n",
    "on a technical fact sheet.\n",
    "\n",
    "Write a product description based on the information \n",
    "provided in the technical specifications delimited by \n",
    "triple backticks.\n",
    "\n",
    "The description is intended for furniture retailers, \n",
    "so should be technical in nature and focus on the \n",
    "materials the product is constructed from.\n",
    "\n",
    "At the end of the description, include every 7-character \n",
    "Product ID in the technical specification.\n",
    "\n",
    "After the description, include a table that gives the \n",
    "product's dimensions. The table should have two columns.\n",
    "In the first column include the name of the dimension. \n",
    "In the second column include the measurements in inches only.\n",
    "\n",
    "Give the table the title 'Product Dimensions'.\n",
    "\n",
    "Format everything as HTML that can be used in a website. \n",
    "Place the description in a <div> element.\n",
    "\n",
    "Translate the content into Japanese.\n",
    "\n",
    "Technical specifications: ```{fact_sheet_chair}```\n",
    "\"\"\"\n",
    "\n",
    "response = get_completion(prompt)\n",
    "print(response)"
   ]
  },
  {
   "cell_type": "code",
   "execution_count": 11,
   "id": "1a35cccd-8978-44a9-be60-80b807fdd2b1",
   "metadata": {},
   "outputs": [
    {
     "data": {
      "text/html": [
       "<div>\n",
       "<p>この製品は、美しいミッドセンチュリー風のオフィス家具の一部で、ファイルキャビネット、デスク、本棚、会議テーブルなどがあります。シェルの色とベースの仕上げのいくつかのオプションがあります。プラスチック裏地とフロントの張り地（SWC-100）または全張り地（SWC-110）で、10種類の布地と6種類のレザーオプションがあります。ベースの仕上げオプションは、ステンレス鋼、マットブラック、光沢白、またはクロームです。アームレストの有無を選べます。家庭やビジネスの設定に適しています。契約使用に適格です。</p>\n",
       "\n",
       "<p>5輪のプラスチックコーティングされたアルミニウムベースを採用しています。簡単に上下動作ができるように、椅子は空気圧調整が可能です。</p>\n",
       "\n",
       "<p>ソフトまたはハードフロアのキャスターオプションがあります。座面の泡密度は2種類から選べます：中（1.8 lb/ft3）または高（2.8 lb/ft3）。アームレストなしまたは8位置PUアームレストがあります。</p>\n",
       "\n",
       "<p>シェルベースグライダーは、改良されたナイロンPA6/PA66コーティング付きの鋳造アルミニウムです。シェルの厚さは10mmです。座面はHD36フォームを使用しています。</p>\n",
       "\n",
       "<p>製造国はイタリアです。</p>\n",
       "\n",
       "<h2>製品寸法</h2>\n",
       "<table>\n",
       "  <tr>\n",
       "    <th>寸法</th>\n",
       "    <th>インチ</th>\n",
       "  </tr>\n",
       "  <tr>\n",
       "    <td>幅</td>\n",
       "    <td>20.87\"</td>\n",
       "  </tr>\n",
       "  <tr>\n",
       "    <td>奥行き</td>\n",
       "    <td>20.08\"</td>\n",
       "  </tr>\n",
       "  <tr>\n",
       "    <td>高さ</td>\n",
       "    <td>31.50\"</td>\n",
       "  </tr>\n",
       "  <tr>\n",
       "    <td>座面の高さ</td>\n",
       "    <td>17.32\"</td>\n",
       "  </tr>\n",
       "  <tr>\n",
       "    <td>座面の奥行き</td>\n",
       "    <td>16.14\"</td>\n",
       "  </tr>\n",
       "</table>\n",
       "</div>"
      ],
      "text/plain": [
       "<IPython.core.display.HTML object>"
      ]
     },
     "metadata": {},
     "output_type": "display_data"
    }
   ],
   "source": [
    "display(HTML(response))"
   ]
  },
  {
   "cell_type": "code",
   "execution_count": null,
   "id": "ccd49217-9a27-40e1-a5e1-88f52542bda2",
   "metadata": {},
   "outputs": [],
   "source": []
  }
 ],
 "metadata": {
  "kernelspec": {
   "display_name": "Python 3 (ipykernel)",
   "language": "python",
   "name": "python3"
  },
  "language_info": {
   "codemirror_mode": {
    "name": "ipython",
    "version": 3
   },
   "file_extension": ".py",
   "mimetype": "text/x-python",
   "name": "python",
   "nbconvert_exporter": "python",
   "pygments_lexer": "ipython3",
   "version": "3.9.18"
  }
 },
 "nbformat": 4,
 "nbformat_minor": 5
}
