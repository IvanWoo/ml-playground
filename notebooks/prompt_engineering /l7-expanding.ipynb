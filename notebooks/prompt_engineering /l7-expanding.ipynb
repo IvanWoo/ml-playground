{
 "cells": [
  {
   "cell_type": "code",
   "execution_count": 1,
   "id": "af705678-3741-48df-9ed0-523d7d3e8e94",
   "metadata": {},
   "outputs": [],
   "source": [
    "from ml_playground.ask_gpt.utils import get_completion"
   ]
  },
  {
   "cell_type": "markdown",
   "id": "205d6afe-475a-46d9-aeb3-21961214cbe5",
   "metadata": {},
   "source": [
    "## Customize the automated reply to a customer email"
   ]
  },
  {
   "cell_type": "code",
   "execution_count": 2,
   "id": "75b9074d-5ee9-4cc8-831c-3a4e6620db77",
   "metadata": {},
   "outputs": [],
   "source": [
    "# given the sentiment from the lesson on \"inferring\",\n",
    "# and the original customer message, customize the email\n",
    "sentiment = \"negative\"\n",
    "\n",
    "# review for a blender\n",
    "review = f\"\"\"\n",
    "So, they still had the 17 piece system on seasonal \\\n",
    "sale for around $49 in the month of November, about \\\n",
    "half off, but for some reason (call it price gouging) \\\n",
    "around the second week of December the prices all went \\\n",
    "up to about anywhere from between $70-$89 for the same \\\n",
    "system. And the 11 piece system went up around $10 or \\\n",
    "so in price also from the earlier sale price of $29. \\\n",
    "So it looks okay, but if you look at the base, the part \\\n",
    "where the blade locks into place doesn’t look as good \\\n",
    "as in previous editions from a few years ago, but I \\\n",
    "plan to be very gentle with it (example, I crush \\\n",
    "very hard items like beans, ice, rice, etc. in the \\ \n",
    "blender first then pulverize them in the serving size \\\n",
    "I want in the blender then switch to the whipping \\\n",
    "blade for a finer flour, and use the cross cutting blade \\\n",
    "first when making smoothies, then use the flat blade \\\n",
    "if I need them finer/less pulpy). Special tip when making \\\n",
    "smoothies, finely cut and freeze the fruits and \\\n",
    "vegetables (if using spinach-lightly stew soften the \\ \n",
    "spinach then freeze until ready for use-and if making \\\n",
    "sorbet, use a small to medium sized food processor) \\ \n",
    "that you plan to use that way you can avoid adding so \\\n",
    "much ice if at all-when making your smoothie. \\\n",
    "After about a year, the motor was making a funny noise. \\\n",
    "I called customer service but the warranty expired \\\n",
    "already, so I had to buy another one. FYI: The overall \\\n",
    "quality has gone done in these types of products, so \\\n",
    "they are kind of counting on brand recognition and \\\n",
    "consumer loyalty to maintain sales. Got it in about \\\n",
    "two days.\n",
    "\"\"\""
   ]
  },
  {
   "cell_type": "code",
   "execution_count": 3,
   "id": "632be152-c396-4048-b3b2-8311740d84d3",
   "metadata": {},
   "outputs": [
    {
     "name": "stdout",
     "output_type": "stream",
     "text": [
      "Subject: Your Recent Product Review and Feedback\n",
      "\n",
      "Dear Valued Customer,\n",
      "\n",
      "Thank you for taking the time to share your detailed review and feedback about our 17 piece system. We sincerely apologize for any inconvenience you may have experienced with the price changes and the quality of the product.\n",
      "\n",
      "We understand your concerns about the price increase during the holiday season and the quality of the blade locking mechanism. We also regret to hear about the motor issue you experienced after a year of use. We are always striving to improve our products and services, and your feedback is invaluable in this process.\n",
      "\n",
      "We're sorry to hear that your warranty had expired when you reached out to our customer service. We would like to assure you that we are committed to providing the best possible service to our customers. If you have any further issues or concerns, please do not hesitate to contact our customer service team again. We are here to help.\n",
      "\n",
      "We appreciate your loyalty and your helpful tips on how to use our product more effectively. We will take your feedback into account as we continue to improve our products and services.\n",
      "\n",
      "Thank you again for your feedback. We value your business and look forward to serving you better in the future.\n",
      "\n",
      "Best Regards,\n",
      "\n",
      "AI Customer Agent\n"
     ]
    }
   ],
   "source": [
    "prompt = f\"\"\"\n",
    "You are a customer service AI assistant.\n",
    "Your task is to send an email reply to a valued customer.\n",
    "Given the customer email delimited by ```, \\\n",
    "Generate a reply to thank the customer for their review.\n",
    "If the sentiment is positive or neutral, thank them for \\\n",
    "their review.\n",
    "If the sentiment is negative, apologize and suggest that \\\n",
    "they can reach out to customer service. \n",
    "Make sure to use specific details from the review.\n",
    "Write in a concise and professional tone.\n",
    "Sign the email as `AI customer agent`.\n",
    "Customer review: ```{review}```\n",
    "Review sentiment: {sentiment}\n",
    "\"\"\"\n",
    "response = get_completion(prompt)\n",
    "print(response)"
   ]
  },
  {
   "cell_type": "markdown",
   "id": "3a2f8fc0-b171-4822-99a8-e4aea57f51d8",
   "metadata": {},
   "source": [
    "## Remind the model to use details from the customer's email"
   ]
  },
  {
   "cell_type": "code",
   "execution_count": 4,
   "id": "770bb600-69e7-4e35-aa24-a951db6e9376",
   "metadata": {},
   "outputs": [
    {
     "name": "stdout",
     "output_type": "stream",
     "text": [
      "Subject: Response to Your Recent Review\n",
      "\n",
      "Dear Valued Customer,\n",
      "\n",
      "Thank you for taking the time to share your detailed review about the price fluctuation and the overall quality of our products. We sincerely apologize for any inconvenience caused.\n",
      "\n",
      "We understand your concerns about the price changes during the holiday season and the perceived decline in quality. We assure you that our pricing strategy is designed to provide the best value to our customers, and we are constantly working on maintaining and improving the quality of our products.\n",
      "\n",
      "Your feedback on the blade lock and the changes in operation over time is greatly appreciated. Our design and manufacturing teams will look into these issues closely. \n",
      "\n",
      "We regret to hear that you had to purchase a new product due to the motor making a funny noise after the warranty expired. Our customer service team is dedicated to assisting you further. We encourage you to reach out to them if you have any issues with your new product or if you need any assistance with your future purchases.\n",
      "\n",
      "Your satisfaction is our top priority, and we value your loyalty. We appreciate your patience and understanding as we strive to serve you better.\n",
      "\n",
      "Thank you for your continued support.\n",
      "\n",
      "Best Regards,\n",
      "\n",
      "AI Customer Agent\n"
     ]
    }
   ],
   "source": [
    "prompt = f\"\"\"\n",
    "You are a customer service AI assistant.\n",
    "Your task is to send an email reply to a valued customer.\n",
    "Given the customer email delimited by ```, \\\n",
    "Generate a reply to thank the customer for their review.\n",
    "If the sentiment is positive or neutral, thank them for \\\n",
    "their review.\n",
    "If the sentiment is negative, apologize and suggest that \\\n",
    "they can reach out to customer service. \n",
    "Make sure to use specific details from the review.\n",
    "Write in a concise and professional tone.\n",
    "Sign the email as `AI customer agent`.\n",
    "Customer review: ```{review}```\n",
    "Review sentiment: {sentiment}\n",
    "\"\"\"\n",
    "response = get_completion(prompt, temperature=0.7)\n",
    "print(response)"
   ]
  },
  {
   "cell_type": "code",
   "execution_count": 5,
   "id": "b0e2c186-b18d-4ed7-8c2e-441e35fe2df5",
   "metadata": {},
   "outputs": [
    {
     "name": "stdout",
     "output_type": "stream",
     "text": [
      "Subject: Your Valuable Feedback Has Been Noted\n",
      "\n",
      "Dear Customer,\n",
      "\n",
      "Thank you for taking the time to share your recent experience with our 17-piece system. We are sincerely sorry to hear that you have had some concerns, particularly involving price changes and issues with motor noise after one year of use.\n",
      "\n",
      "We understand your disappointment, especially given your loyalty to our brand. Nothing is more important to us than your satisfaction, and we regret that we fell short on your expectations. We appreciate you sharing this feedback as it helps us greatly to know where improvements are needed.\n",
      "\n",
      "We assure you that we are not engaged in price gouging. Seasonal sales and promotions can alter prices, but our aim is to continue delivering high-quality products at competitive rates. Regarding the motor noise you've experienced, our products do typically come with a warranty that covers issues such as this. We encourage all customers to verify their warranty coverage and reach out to our customer service team within this period for any concerns or issues.\n",
      "\n",
      "Should you have further queries, feedback, or require any form of assistance, please do not hesitate to reach out to our customer service team directly at [Customer Service Contact]. Our aim is to ensure you, our valued customer, have a positive experience with both our customer service and products moving forward.\n",
      "\n",
      "Thank you again for your feedback. Your input helps us to serve all our customers better. \n",
      "\n",
      "Best Regards,\n",
      "AI Customer Agent\n"
     ]
    }
   ],
   "source": [
    "response = get_completion(prompt, temperature=1)\n",
    "print(response)"
   ]
  },
  {
   "cell_type": "code",
   "execution_count": 6,
   "id": "465b9657-2693-476d-b64e-dde4506a163a",
   "metadata": {},
   "outputs": [
    {
     "name": "stdout",
     "output_type": "stream",
     "text": [
      "Subject: Your Recent Product Review and Feedback\n",
      "\n",
      "Dear Valued Customer,\n",
      "\n",
      "Thank you for taking the time to share your detailed review and feedback about our 17 piece system. We sincerely apologize for any inconvenience you may have experienced with the price changes and the quality of the product.\n",
      "\n",
      "We understand your concerns about the price increase during the holiday season and the perceived decrease in quality compared to previous editions. We assure you that we take these matters seriously and are always striving to provide the best value and quality to our customers.\n",
      "\n",
      "We regret to hear about the issue you encountered with the motor after a year of use. We understand how frustrating it can be when a product does not meet your expectations, especially after the warranty period has expired. \n",
      "\n",
      "Please know that your feedback is invaluable to us and we will be forwarding your concerns to our product development team for review. We are committed to improving our products and services based on our customers' experiences and feedback.\n",
      "\n",
      "Should you have any further concerns or if there's anything else you'd like to discuss, please do not hesitate to reach out to our customer service team. We are here to assist you.\n",
      "\n",
      "Thank you once again for your feedback. We appreciate your loyalty and patience as we work to improve our products and services.\n",
      "\n",
      "Best Regards,\n",
      "\n",
      "AI Customer Agent\n"
     ]
    }
   ],
   "source": [
    "response = get_completion(prompt, temperature=0)\n",
    "print(response)"
   ]
  },
  {
   "cell_type": "code",
   "execution_count": null,
   "id": "db5ae5f6-0a37-4dfd-908c-988a80e5aec0",
   "metadata": {},
   "outputs": [],
   "source": []
  }
 ],
 "metadata": {
  "kernelspec": {
   "display_name": "Python 3 (ipykernel)",
   "language": "python",
   "name": "python3"
  },
  "language_info": {
   "codemirror_mode": {
    "name": "ipython",
    "version": 3
   },
   "file_extension": ".py",
   "mimetype": "text/x-python",
   "name": "python",
   "nbconvert_exporter": "python",
   "pygments_lexer": "ipython3",
   "version": "3.9.18"
  }
 },
 "nbformat": 4,
 "nbformat_minor": 5
}
