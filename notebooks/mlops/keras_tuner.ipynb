{
 "cells": [
  {
   "cell_type": "markdown",
   "id": "01160ed6-beb1-470c-94e2-cbb8c5768324",
   "metadata": {},
   "source": [
    "## Download and prepare the dataset"
   ]
  },
  {
   "cell_type": "code",
   "execution_count": 1,
   "id": "2be1f149-98e3-4e1a-92ad-00749f711ca0",
   "metadata": {},
   "outputs": [],
   "source": [
    "from tensorflow import keras"
   ]
  },
  {
   "cell_type": "code",
   "execution_count": 2,
   "id": "a7b4783f-ecb3-405d-b92d-99ba2cd54783",
   "metadata": {},
   "outputs": [],
   "source": [
    "# Download the dataset and split into train and test sets\n",
    "(img_train, label_train), (\n",
    "    img_test,\n",
    "    label_test,\n",
    ") = keras.datasets.fashion_mnist.load_data()"
   ]
  },
  {
   "cell_type": "code",
   "execution_count": 3,
   "id": "5681350b-b0f7-4d41-a5b5-c440e3c90088",
   "metadata": {},
   "outputs": [],
   "source": [
    "# Normalize pixel values between 0 and 1\n",
    "img_train = img_train.astype(\"float32\") / 255.0\n",
    "img_test = img_test.astype(\"float32\") / 255.0"
   ]
  },
  {
   "cell_type": "markdown",
   "id": "aebf6e0c-1925-46a5-a2f6-95b3eb1132c2",
   "metadata": {},
   "source": [
    "## Baseline Performance"
   ]
  },
  {
   "cell_type": "code",
   "execution_count": 4,
   "id": "42cc8a46-cb9b-41f9-b8d7-8a960dd57017",
   "metadata": {},
   "outputs": [
    {
     "name": "stdout",
     "output_type": "stream",
     "text": [
      "Metal device set to: Apple M1 Max\n",
      "Model: \"sequential\"\n",
      "_________________________________________________________________\n",
      " Layer (type)                Output Shape              Param #   \n",
      "=================================================================\n",
      " flatten (Flatten)           (None, 784)               0         \n",
      "                                                                 \n",
      " dense_1 (Dense)             (None, 512)               401920    \n",
      "                                                                 \n",
      " dropout (Dropout)           (None, 512)               0         \n",
      "                                                                 \n",
      " dense (Dense)               (None, 10)                5130      \n",
      "                                                                 \n",
      "=================================================================\n",
      "Total params: 407,050\n",
      "Trainable params: 407,050\n",
      "Non-trainable params: 0\n",
      "_________________________________________________________________\n"
     ]
    },
    {
     "name": "stderr",
     "output_type": "stream",
     "text": [
      "2023-12-03 11:25:48.783392: I tensorflow/core/common_runtime/pluggable_device/pluggable_device_factory.cc:306] Could not identify NUMA node of platform GPU ID 0, defaulting to 0. Your kernel may not have been built with NUMA support.\n",
      "2023-12-03 11:25:48.783528: I tensorflow/core/common_runtime/pluggable_device/pluggable_device_factory.cc:272] Created TensorFlow device (/job:localhost/replica:0/task:0/device:GPU:0 with 0 MB memory) -> physical PluggableDevice (device: 0, name: METAL, pci bus id: <undefined>)\n"
     ]
    }
   ],
   "source": [
    "# Build the baseline model using the Sequential API\n",
    "b_model = keras.Sequential()\n",
    "b_model.add(keras.layers.Flatten(input_shape=(28, 28)))\n",
    "b_model.add(\n",
    "    keras.layers.Dense(units=512, activation=\"relu\", name=\"dense_1\")\n",
    ")  # You will tune this layer later\n",
    "b_model.add(keras.layers.Dropout(0.2))\n",
    "b_model.add(keras.layers.Dense(10, activation=\"softmax\"))\n",
    "\n",
    "# Print model summary\n",
    "b_model.summary()"
   ]
  },
  {
   "cell_type": "code",
   "execution_count": 5,
   "id": "5d8b00af-1aab-43b4-874c-83d4c4dcb0d7",
   "metadata": {},
   "outputs": [],
   "source": [
    "# Setup the training parameters\n",
    "b_model.compile(\n",
    "    optimizer=keras.optimizers.Adam(learning_rate=0.001),\n",
    "    loss=keras.losses.SparseCategoricalCrossentropy(),\n",
    "    metrics=[\"accuracy\"],\n",
    ")"
   ]
  },
  {
   "cell_type": "code",
   "execution_count": 6,
   "id": "a92d7953-fac0-403d-aef1-02ee67073ed4",
   "metadata": {},
   "outputs": [
    {
     "name": "stdout",
     "output_type": "stream",
     "text": [
      "Epoch 1/10\n"
     ]
    },
    {
     "name": "stderr",
     "output_type": "stream",
     "text": [
      "2023-12-03 11:25:48.914700: W tensorflow/core/platform/profile_utils/cpu_utils.cc:128] Failed to get CPU frequency: 0 Hz\n",
      "2023-12-03 11:25:49.042746: I tensorflow/core/grappler/optimizers/custom_graph_optimizer_registry.cc:114] Plugin optimizer for device_type GPU is enabled.\n"
     ]
    },
    {
     "name": "stdout",
     "output_type": "stream",
     "text": [
      "1492/1500 [============================>.] - ETA: 0s - loss: 0.5143 - accuracy: 0.8179"
     ]
    },
    {
     "name": "stderr",
     "output_type": "stream",
     "text": [
      "2023-12-03 11:25:56.623082: I tensorflow/core/grappler/optimizers/custom_graph_optimizer_registry.cc:114] Plugin optimizer for device_type GPU is enabled.\n"
     ]
    },
    {
     "name": "stdout",
     "output_type": "stream",
     "text": [
      "1500/1500 [==============================] - 9s 6ms/step - loss: 0.5135 - accuracy: 0.8182 - val_loss: 0.4427 - val_accuracy: 0.8387\n",
      "Epoch 2/10\n",
      "1500/1500 [==============================] - 8s 6ms/step - loss: 0.3868 - accuracy: 0.8598 - val_loss: 0.3784 - val_accuracy: 0.8576\n",
      "Epoch 3/10\n",
      "1500/1500 [==============================] - 8s 6ms/step - loss: 0.3513 - accuracy: 0.8699 - val_loss: 0.3762 - val_accuracy: 0.8582\n",
      "Epoch 4/10\n",
      "1500/1500 [==============================] - 8s 6ms/step - loss: 0.3247 - accuracy: 0.8792 - val_loss: 0.3326 - val_accuracy: 0.8789\n",
      "Epoch 5/10\n",
      "1500/1500 [==============================] - 8s 6ms/step - loss: 0.3095 - accuracy: 0.8856 - val_loss: 0.3173 - val_accuracy: 0.8855\n",
      "Epoch 6/10\n",
      "1500/1500 [==============================] - 9s 6ms/step - loss: 0.2950 - accuracy: 0.8902 - val_loss: 0.3271 - val_accuracy: 0.8798\n",
      "Epoch 7/10\n",
      "1500/1500 [==============================] - 9s 6ms/step - loss: 0.2833 - accuracy: 0.8943 - val_loss: 0.3225 - val_accuracy: 0.8832\n",
      "Epoch 8/10\n",
      "1500/1500 [==============================] - 9s 6ms/step - loss: 0.2716 - accuracy: 0.8988 - val_loss: 0.3250 - val_accuracy: 0.8853\n",
      "Epoch 9/10\n",
      "1500/1500 [==============================] - 9s 6ms/step - loss: 0.2616 - accuracy: 0.9004 - val_loss: 0.3192 - val_accuracy: 0.8849\n",
      "Epoch 10/10\n",
      "1500/1500 [==============================] - 9s 6ms/step - loss: 0.2546 - accuracy: 0.9031 - val_loss: 0.3198 - val_accuracy: 0.8854\n"
     ]
    },
    {
     "data": {
      "text/plain": [
       "<keras.callbacks.History at 0x29cccbee0>"
      ]
     },
     "execution_count": 6,
     "metadata": {},
     "output_type": "execute_result"
    }
   ],
   "source": [
    "# Number of training epochs.\n",
    "NUM_EPOCHS = 10\n",
    "\n",
    "# Train the model\n",
    "b_model.fit(img_train, label_train, epochs=NUM_EPOCHS, validation_split=0.2)"
   ]
  },
  {
   "cell_type": "code",
   "execution_count": 7,
   "id": "29763d25-e1b1-4a75-897b-8724c0a11807",
   "metadata": {},
   "outputs": [
    {
     "name": "stdout",
     "output_type": "stream",
     "text": [
      " 37/313 [==>...........................] - ETA: 1s - loss: 0.3434 - accuracy: 0.8792"
     ]
    },
    {
     "name": "stderr",
     "output_type": "stream",
     "text": [
      "2023-12-03 11:27:15.484434: I tensorflow/core/grappler/optimizers/custom_graph_optimizer_registry.cc:114] Plugin optimizer for device_type GPU is enabled.\n"
     ]
    },
    {
     "name": "stdout",
     "output_type": "stream",
     "text": [
      "313/313 [==============================] - 1s 4ms/step - loss: 0.3390 - accuracy: 0.8808\n"
     ]
    }
   ],
   "source": [
    "# Evaluate model on the test set\n",
    "b_eval_dict = b_model.evaluate(img_test, label_test, return_dict=True)"
   ]
  },
  {
   "cell_type": "code",
   "execution_count": 8,
   "id": "692077ef-50ca-4770-ab46-22323c550b46",
   "metadata": {},
   "outputs": [
    {
     "name": "stdout",
     "output_type": "stream",
     "text": [
      "\n",
      "BASELINE MODEL:\n",
      "number of units in 1st Dense layer: 512\n",
      "learning rate for the optimizer: 0.0010000000474974513\n",
      "loss: 0.339042067527771\n",
      "accuracy: 0.8808000683784485\n"
     ]
    }
   ],
   "source": [
    "# Define helper function\n",
    "def print_results(model, model_name, layer_name, eval_dict):\n",
    "    \"\"\"\n",
    "    Prints the values of the hyparameters to tune, and the results of model evaluation\n",
    "\n",
    "    Args:\n",
    "      model (Model) - Keras model to evaluate\n",
    "      model_name (string) - arbitrary string to be used in identifying the model\n",
    "      layer_name (string) - name of the layer to tune\n",
    "      eval_dict (dict) -  results of model.evaluate\n",
    "    \"\"\"\n",
    "    print(f\"\\n{model_name}:\")\n",
    "\n",
    "    print(f\"number of units in 1st Dense layer: {model.get_layer(layer_name).units}\")\n",
    "    print(f\"learning rate for the optimizer: {model.optimizer.lr.numpy()}\")\n",
    "\n",
    "    for key, value in eval_dict.items():\n",
    "        print(f\"{key}: {value}\")\n",
    "\n",
    "\n",
    "# Print results for baseline model\n",
    "print_results(b_model, \"BASELINE MODEL\", \"dense_1\", b_eval_dict)"
   ]
  },
  {
   "cell_type": "markdown",
   "id": "b3de0aef-9d13-4652-9644-0f26628d5654",
   "metadata": {},
   "source": [
    "## Keras Tuner\n",
    "\n",
    "To perform hypertuning with Keras Tuner, you will need to:\n",
    "\n",
    "* Define the model\n",
    "* Select which hyperparameters to tune\n",
    "* Define its search space\n",
    "* Define the search strategy"
   ]
  },
  {
   "cell_type": "code",
   "execution_count": 9,
   "id": "eb8713ad-e926-4cb9-8526-c005cfe653a7",
   "metadata": {},
   "outputs": [],
   "source": [
    "import keras_tuner as kt\n",
    "import tensorflow as tf"
   ]
  },
  {
   "cell_type": "code",
   "execution_count": 10,
   "id": "0d30467b-c343-4b81-b482-ce1dd07802f1",
   "metadata": {},
   "outputs": [],
   "source": [
    "def model_builder(hp):\n",
    "    \"\"\"\n",
    "    Builds the model and sets up the hyperparameters to tune.\n",
    "\n",
    "    Args:\n",
    "      hp - Keras tuner object\n",
    "\n",
    "    Returns:\n",
    "      model with hyperparameters to tune\n",
    "    \"\"\"\n",
    "\n",
    "    # Initialize the Sequential API and start stacking the layers\n",
    "    model = keras.Sequential()\n",
    "    model.add(keras.layers.Flatten(input_shape=(28, 28)))\n",
    "\n",
    "    # Tune the number of units in the first Dense layer\n",
    "    # Choose an optimal value between 32-512\n",
    "    hp_units = hp.Int(\"units\", min_value=32, max_value=512, step=32)\n",
    "    model.add(\n",
    "        keras.layers.Dense(units=hp_units, activation=\"relu\", name=\"tuned_dense_1\")\n",
    "    )\n",
    "\n",
    "    # Add next layers\n",
    "    model.add(keras.layers.Dropout(0.2))\n",
    "    model.add(keras.layers.Dense(10, activation=\"softmax\"))\n",
    "\n",
    "    # Tune the learning rate for the optimizer\n",
    "    # Choose an optimal value from 0.01, 0.001, or 0.0001\n",
    "    hp_learning_rate = hp.Choice(\"learning_rate\", values=[1e-2, 1e-3, 1e-4])\n",
    "\n",
    "    model.compile(\n",
    "        optimizer=keras.optimizers.Adam(learning_rate=hp_learning_rate),\n",
    "        loss=keras.losses.SparseCategoricalCrossentropy(),\n",
    "        metrics=[\"accuracy\"],\n",
    "    )\n",
    "\n",
    "    return model"
   ]
  },
  {
   "cell_type": "code",
   "execution_count": 11,
   "id": "9b6ff9c2-b025-4ce9-a1aa-eebbc6b51a33",
   "metadata": {},
   "outputs": [],
   "source": [
    "# Instantiate the tuner\n",
    "tuner = kt.Hyperband(\n",
    "    model_builder,\n",
    "    objective=\"val_accuracy\",\n",
    "    max_epochs=10,\n",
    "    factor=3,\n",
    "    directory=\"kt_dir\",\n",
    "    project_name=\"kt_hyperband\",\n",
    ")"
   ]
  },
  {
   "cell_type": "code",
   "execution_count": 12,
   "id": "a4f3dd2b-3505-44f9-83e2-1231ba7b9e23",
   "metadata": {},
   "outputs": [
    {
     "name": "stdout",
     "output_type": "stream",
     "text": [
      "Search space summary\n",
      "Default search space size: 2\n",
      "units (Int)\n",
      "{'default': None, 'conditions': [], 'min_value': 32, 'max_value': 512, 'step': 32, 'sampling': 'linear'}\n",
      "learning_rate (Choice)\n",
      "{'default': 0.01, 'conditions': [], 'values': [0.01, 0.001, 0.0001], 'ordered': True}\n"
     ]
    }
   ],
   "source": [
    "tuner.search_space_summary()"
   ]
  },
  {
   "cell_type": "code",
   "execution_count": 13,
   "id": "8198f813-287e-4421-9ffb-97b6fd22e0cf",
   "metadata": {},
   "outputs": [],
   "source": [
    "stop_early = tf.keras.callbacks.EarlyStopping(monitor=\"val_loss\", patience=5)"
   ]
  },
  {
   "cell_type": "code",
   "execution_count": 14,
   "id": "c63a0e54-7e41-4519-a02c-7521ca958949",
   "metadata": {},
   "outputs": [
    {
     "name": "stdout",
     "output_type": "stream",
     "text": [
      "Trial 30 Complete [00h 01m 13s]\n",
      "val_accuracy: 0.8519166707992554\n",
      "\n",
      "Best val_accuracy So Far: 0.89041668176651\n",
      "Total elapsed time: 00h 17m 35s\n"
     ]
    }
   ],
   "source": [
    "# Perform hypertuning: This will take around 10 minutes to run.\n",
    "tuner.search(\n",
    "    img_train,\n",
    "    label_train,\n",
    "    epochs=NUM_EPOCHS,\n",
    "    validation_split=0.2,\n",
    "    callbacks=[stop_early],\n",
    ")"
   ]
  },
  {
   "cell_type": "code",
   "execution_count": 15,
   "id": "e8a7e247-c658-41f2-a938-bf510b2f3e1d",
   "metadata": {},
   "outputs": [
    {
     "name": "stdout",
     "output_type": "stream",
     "text": [
      "\n",
      "The hyperparameter search is complete. The optimal number of units in the first densely-connected\n",
      "layer is 320 and the optimal learning rate for the optimizer\n",
      "is 0.001.\n",
      "\n"
     ]
    }
   ],
   "source": [
    "# Get the optimal hyperparameters from the results\n",
    "best_hps = tuner.get_best_hyperparameters()[0]\n",
    "\n",
    "print(\n",
    "    f\"\"\"\n",
    "The hyperparameter search is complete. The optimal number of units in the first densely-connected\n",
    "layer is {best_hps.get('units')} and the optimal learning rate for the optimizer\n",
    "is {best_hps.get('learning_rate')}.\n",
    "\"\"\"\n",
    ")"
   ]
  },
  {
   "cell_type": "code",
   "execution_count": 16,
   "id": "f6a4d144-9404-451d-8a63-ab951a5b138d",
   "metadata": {},
   "outputs": [
    {
     "name": "stdout",
     "output_type": "stream",
     "text": [
      "Model: \"sequential_1\"\n",
      "_________________________________________________________________\n",
      " Layer (type)                Output Shape              Param #   \n",
      "=================================================================\n",
      " flatten_1 (Flatten)         (None, 784)               0         \n",
      "                                                                 \n",
      " tuned_dense_1 (Dense)       (None, 320)               251200    \n",
      "                                                                 \n",
      " dropout_1 (Dropout)         (None, 320)               0         \n",
      "                                                                 \n",
      " dense_1 (Dense)             (None, 10)                3210      \n",
      "                                                                 \n",
      "=================================================================\n",
      "Total params: 254,410\n",
      "Trainable params: 254,410\n",
      "Non-trainable params: 0\n",
      "_________________________________________________________________\n"
     ]
    }
   ],
   "source": [
    "# Build the model with the optimal hyperparameters\n",
    "h_model = tuner.hypermodel.build(best_hps)\n",
    "h_model.summary()"
   ]
  },
  {
   "cell_type": "code",
   "execution_count": 17,
   "id": "977ef814-7e9b-4862-8c32-6902062bcbb6",
   "metadata": {},
   "outputs": [
    {
     "name": "stdout",
     "output_type": "stream",
     "text": [
      "Epoch 1/10\n",
      "  20/1500 [..............................] - ETA: 8s - loss: 1.4582 - accuracy: 0.4984"
     ]
    },
    {
     "name": "stderr",
     "output_type": "stream",
     "text": [
      "2023-12-03 11:44:52.493372: I tensorflow/core/grappler/optimizers/custom_graph_optimizer_registry.cc:114] Plugin optimizer for device_type GPU is enabled.\n"
     ]
    },
    {
     "name": "stdout",
     "output_type": "stream",
     "text": [
      "1498/1500 [============================>.] - ETA: 0s - loss: 0.5201 - accuracy: 0.8151"
     ]
    },
    {
     "name": "stderr",
     "output_type": "stream",
     "text": [
      "2023-12-03 11:44:59.990029: I tensorflow/core/grappler/optimizers/custom_graph_optimizer_registry.cc:114] Plugin optimizer for device_type GPU is enabled.\n"
     ]
    },
    {
     "name": "stdout",
     "output_type": "stream",
     "text": [
      "1500/1500 [==============================] - 9s 6ms/step - loss: 0.5201 - accuracy: 0.8151 - val_loss: 0.5005 - val_accuracy: 0.8097\n",
      "Epoch 2/10\n",
      "1500/1500 [==============================] - 8s 6ms/step - loss: 0.3928 - accuracy: 0.8576 - val_loss: 0.3991 - val_accuracy: 0.8469\n",
      "Epoch 3/10\n",
      "1500/1500 [==============================] - 8s 6ms/step - loss: 0.3533 - accuracy: 0.8711 - val_loss: 0.3448 - val_accuracy: 0.8742\n",
      "Epoch 4/10\n",
      "1500/1500 [==============================] - 8s 6ms/step - loss: 0.3312 - accuracy: 0.8788 - val_loss: 0.3552 - val_accuracy: 0.8728\n",
      "Epoch 5/10\n",
      "1500/1500 [==============================] - 8s 6ms/step - loss: 0.3165 - accuracy: 0.8821 - val_loss: 0.3318 - val_accuracy: 0.8827\n",
      "Epoch 6/10\n",
      "1500/1500 [==============================] - 8s 6ms/step - loss: 0.3019 - accuracy: 0.8886 - val_loss: 0.3288 - val_accuracy: 0.8834\n",
      "Epoch 7/10\n",
      "1500/1500 [==============================] - 9s 6ms/step - loss: 0.2860 - accuracy: 0.8954 - val_loss: 0.3327 - val_accuracy: 0.8807\n",
      "Epoch 8/10\n",
      "1500/1500 [==============================] - 8s 6ms/step - loss: 0.2771 - accuracy: 0.8961 - val_loss: 0.3162 - val_accuracy: 0.8865\n",
      "Epoch 9/10\n",
      "1500/1500 [==============================] - 8s 6ms/step - loss: 0.2660 - accuracy: 0.9010 - val_loss: 0.3321 - val_accuracy: 0.8828\n",
      "Epoch 10/10\n",
      "1500/1500 [==============================] - 8s 6ms/step - loss: 0.2568 - accuracy: 0.9042 - val_loss: 0.3320 - val_accuracy: 0.8823\n"
     ]
    },
    {
     "data": {
      "text/plain": [
       "<keras.callbacks.History at 0x2f68dd820>"
      ]
     },
     "execution_count": 17,
     "metadata": {},
     "output_type": "execute_result"
    }
   ],
   "source": [
    "# Train the hypertuned model\n",
    "h_model.fit(img_train, label_train, epochs=NUM_EPOCHS, validation_split=0.2)"
   ]
  },
  {
   "cell_type": "code",
   "execution_count": 18,
   "id": "52345192-776c-4b66-a35f-daf1ed16c46f",
   "metadata": {},
   "outputs": [
    {
     "name": "stdout",
     "output_type": "stream",
     "text": [
      " 37/313 [==>...........................] - ETA: 1s - loss: 0.3640 - accuracy: 0.8750"
     ]
    },
    {
     "name": "stderr",
     "output_type": "stream",
     "text": [
      "2023-12-03 11:46:17.219840: I tensorflow/core/grappler/optimizers/custom_graph_optimizer_registry.cc:114] Plugin optimizer for device_type GPU is enabled.\n"
     ]
    },
    {
     "name": "stdout",
     "output_type": "stream",
     "text": [
      "313/313 [==============================] - 1s 4ms/step - loss: 0.3594 - accuracy: 0.8763\n"
     ]
    }
   ],
   "source": [
    "# Evaluate the hypertuned model against the test set\n",
    "h_eval_dict = h_model.evaluate(img_test, label_test, return_dict=True)"
   ]
  },
  {
   "cell_type": "code",
   "execution_count": 19,
   "id": "49717377-dc17-4f5e-a1e0-0b4d3d96ef07",
   "metadata": {},
   "outputs": [
    {
     "name": "stdout",
     "output_type": "stream",
     "text": [
      "\n",
      "BASELINE MODEL:\n",
      "number of units in 1st Dense layer: 512\n",
      "learning rate for the optimizer: 0.0010000000474974513\n",
      "loss: 0.339042067527771\n",
      "accuracy: 0.8808000683784485\n",
      "\n",
      "HYPERTUNED MODEL:\n",
      "number of units in 1st Dense layer: 320\n",
      "learning rate for the optimizer: 0.0010000000474974513\n",
      "loss: 0.3593907654285431\n",
      "accuracy: 0.876300036907196\n"
     ]
    }
   ],
   "source": [
    "# Print results of the baseline and hypertuned model\n",
    "print_results(b_model, \"BASELINE MODEL\", \"dense_1\", b_eval_dict)\n",
    "print_results(h_model, \"HYPERTUNED MODEL\", \"tuned_dense_1\", h_eval_dict)"
   ]
  },
  {
   "cell_type": "code",
   "execution_count": null,
   "id": "ec4bb0de-aa4d-44af-98d3-8338b7756e08",
   "metadata": {},
   "outputs": [],
   "source": []
  }
 ],
 "metadata": {
  "kernelspec": {
   "display_name": "Python 3 (ipykernel)",
   "language": "python",
   "name": "python3"
  },
  "language_info": {
   "codemirror_mode": {
    "name": "ipython",
    "version": 3
   },
   "file_extension": ".py",
   "mimetype": "text/x-python",
   "name": "python",
   "nbconvert_exporter": "python",
   "pygments_lexer": "ipython3",
   "version": "3.9.18"
  }
 },
 "nbformat": 4,
 "nbformat_minor": 5
}
