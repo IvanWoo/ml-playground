{
 "cells": [
  {
   "cell_type": "markdown",
   "id": "c8b0a6f4-99c2-4acd-9122-f6e0e5d0ed1a",
   "metadata": {},
   "source": [
    "# Processing words as a set: The bag-of-words approach"
   ]
  },
  {
   "cell_type": "markdown",
   "id": "359da18c-dc27-41ec-91a1-7362771b050c",
   "metadata": {},
   "source": [
    "## download the data\n",
    "\n",
    "```sh\n",
    "pdm run data_imdb\n",
    "```"
   ]
  },
  {
   "cell_type": "code",
   "execution_count": 1,
   "id": "f3ecdae8-2ff6-4993-afb1-dfafac3978c2",
   "metadata": {},
   "outputs": [],
   "source": [
    "import os\n",
    "import pathlib\n",
    "import random\n",
    "import shutil"
   ]
  },
  {
   "cell_type": "code",
   "execution_count": 2,
   "id": "9f1fc26c-ad65-42c9-870e-4a936f43169d",
   "metadata": {},
   "outputs": [],
   "source": [
    "base_dir = pathlib.Path(\"./data/acl_imdb/aclImdb\")\n",
    "\n",
    "\n",
    "def prepare_val_data():\n",
    "    val_dir = base_dir / \"val\"\n",
    "    if val_dir.exists():\n",
    "        print(\"validation data already existed\")\n",
    "        return\n",
    "    train_dir = base_dir / \"train\"\n",
    "    for category in (\"neg\", \"pos\"):\n",
    "        os.makedirs(val_dir / category)\n",
    "        files = os.listdir(train_dir / category)\n",
    "        random.Random(1337).shuffle(files)\n",
    "        num_val_samples = int(0.2 * len(files))\n",
    "        val_files = files[-num_val_samples:]\n",
    "        for fname in val_files:\n",
    "            shutil.move(train_dir / category / fname, val_dir / category / fname)\n",
    "\n",
    "\n",
    "prepare_val_data()"
   ]
  },
  {
   "cell_type": "code",
   "execution_count": 3,
   "id": "a70da270-d1c1-48f7-b7a4-8fa8c566fd49",
   "metadata": {},
   "outputs": [
    {
     "name": "stdout",
     "output_type": "stream",
     "text": [
      "Found 16000 files belonging to 2 classes.\n",
      "Metal device set to: Apple M1 Max\n"
     ]
    },
    {
     "name": "stderr",
     "output_type": "stream",
     "text": [
      "2023-02-10 22:18:21.764318: I tensorflow/core/common_runtime/pluggable_device/pluggable_device_factory.cc:306] Could not identify NUMA node of platform GPU ID 0, defaulting to 0. Your kernel may not have been built with NUMA support.\n",
      "2023-02-10 22:18:21.764457: I tensorflow/core/common_runtime/pluggable_device/pluggable_device_factory.cc:272] Created TensorFlow device (/job:localhost/replica:0/task:0/device:GPU:0 with 0 MB memory) -> physical PluggableDevice (device: 0, name: METAL, pci bus id: <undefined>)\n"
     ]
    },
    {
     "name": "stdout",
     "output_type": "stream",
     "text": [
      "Found 4000 files belonging to 2 classes.\n",
      "Found 25000 files belonging to 2 classes.\n"
     ]
    }
   ],
   "source": [
    "from tensorflow import keras\n",
    "\n",
    "batch_size = 32\n",
    "\n",
    "train_ds = keras.utils.text_dataset_from_directory(\n",
    "    f\"{base_dir}/train\", batch_size=batch_size\n",
    ")\n",
    "val_ds = keras.utils.text_dataset_from_directory(\n",
    "    f\"{base_dir}/val\", batch_size=batch_size\n",
    ")\n",
    "test_ds = keras.utils.text_dataset_from_directory(\n",
    "    f\"{base_dir}/test\", batch_size=batch_size\n",
    ")"
   ]
  },
  {
   "cell_type": "code",
   "execution_count": 4,
   "id": "07669338-0e08-44ed-91b7-7d3edb0d1861",
   "metadata": {},
   "outputs": [
    {
     "name": "stdout",
     "output_type": "stream",
     "text": [
      "inputs.shape: (32,)\n",
      "inputs.dtype: <dtype: 'string'>\n",
      "targets.shape: (32,)\n",
      "targets.dtype: <dtype: 'int32'>\n",
      "inputs[0]: tf.Tensor(b\"This is film that was actually recommended to me by my dentist, and am I glad he did! The blend of British humor (should I say, Humour?) and the reality of a lost, middle-aged widow trying to maintain her lifestyle were a hoot. Add to that mix the reality of what it takes to actually grow pot (those plants under the bushes were NOT going to make it without the TLC they received), and it is a truly hilarious, yet touching film. I laugh every time I conjure the vision of all the bar patrons sitting in their lawn chairs with sunglasses on counting down the lights! Maybe it's just my Mendocino County blood, but the Brits definitely got this one right!! 10/10\", shape=(), dtype=string)\n",
      "targets[0]: tf.Tensor(1, shape=(), dtype=int32)\n"
     ]
    },
    {
     "name": "stderr",
     "output_type": "stream",
     "text": [
      "2023-02-10 22:18:23.067032: W tensorflow/core/platform/profile_utils/cpu_utils.cc:128] Failed to get CPU frequency: 0 Hz\n"
     ]
    }
   ],
   "source": [
    "for inputs, targets in train_ds:\n",
    "    print(\"inputs.shape:\", inputs.shape)\n",
    "    print(\"inputs.dtype:\", inputs.dtype)\n",
    "    print(\"targets.shape:\", targets.shape)\n",
    "    print(\"targets.dtype:\", targets.dtype)\n",
    "    print(\"inputs[0]:\", inputs[0])\n",
    "    print(\"targets[0]:\", targets[0])\n",
    "    break"
   ]
  },
  {
   "cell_type": "markdown",
   "id": "1c3c344a-9523-40c9-ac35-ea9e2de954d5",
   "metadata": {},
   "source": [
    "## Processing words as a set: The bag-of-words approach"
   ]
  },
  {
   "cell_type": "markdown",
   "id": "2688186c-a33d-4c83-aec6-86b4746d38fe",
   "metadata": {},
   "source": [
    "### Single words (unigrams) with binary encoding"
   ]
  },
  {
   "cell_type": "code",
   "execution_count": 5,
   "id": "5e8c3dbd-e257-44b4-9a40-6e6ee8f77b24",
   "metadata": {},
   "outputs": [
    {
     "name": "stderr",
     "output_type": "stream",
     "text": [
      "2023-02-10 22:18:23.132596: I tensorflow/core/grappler/optimizers/custom_graph_optimizer_registry.cc:114] Plugin optimizer for device_type GPU is enabled.\n"
     ]
    }
   ],
   "source": [
    "CPU_CORES = 8\n",
    "\n",
    "from tensorflow.keras.layers import TextVectorization\n",
    "\n",
    "text_vectorization = TextVectorization(\n",
    "    max_tokens=20000,\n",
    "    output_mode=\"multi_hot\",\n",
    ")\n",
    "text_only_train_ds = train_ds.map(lambda x, y: x)\n",
    "text_vectorization.adapt(text_only_train_ds)\n",
    "\n",
    "binary_1gram_train_ds = train_ds.map(\n",
    "    lambda x, y: (text_vectorization(x), y), num_parallel_calls=CPU_CORES\n",
    ")\n",
    "binary_1gram_val_ds = val_ds.map(\n",
    "    lambda x, y: (text_vectorization(x), y), num_parallel_calls=CPU_CORES\n",
    ")\n",
    "binary_1gram_test_ds = test_ds.map(\n",
    "    lambda x, y: (text_vectorization(x), y), num_parallel_calls=CPU_CORES\n",
    ")"
   ]
  },
  {
   "cell_type": "markdown",
   "id": "98898322-4d62-43d2-a9e3-463ef2342540",
   "metadata": {},
   "source": [
    "inspect the encoded dataset"
   ]
  },
  {
   "cell_type": "code",
   "execution_count": 6,
   "id": "0f836b56-5fd4-4d54-8356-9a93a3a72515",
   "metadata": {},
   "outputs": [
    {
     "name": "stdout",
     "output_type": "stream",
     "text": [
      "inputs.shape: (32, 20000)\n",
      "inputs.dtype: <dtype: 'float32'>\n",
      "targets.shape: (32,)\n",
      "targets.dtype: <dtype: 'int32'>\n",
      "inputs[0]: tf.Tensor([1. 1. 1. ... 0. 0. 0.], shape=(20000,), dtype=float32)\n",
      "targets[0]: tf.Tensor(0, shape=(), dtype=int32)\n"
     ]
    }
   ],
   "source": [
    "for inputs, targets in binary_1gram_train_ds:\n",
    "    print(\"inputs.shape:\", inputs.shape)\n",
    "    print(\"inputs.dtype:\", inputs.dtype)\n",
    "    print(\"targets.shape:\", targets.shape)\n",
    "    print(\"targets.dtype:\", targets.dtype)\n",
    "    print(\"inputs[0]:\", inputs[0])\n",
    "    print(\"targets[0]:\", targets[0])\n",
    "    break"
   ]
  },
  {
   "cell_type": "markdown",
   "id": "a320b177-675d-4f27-8066-49e59adec009",
   "metadata": {},
   "source": [
    "model building utils"
   ]
  },
  {
   "cell_type": "code",
   "execution_count": 7,
   "id": "130a4e2a-ac55-4c75-8061-e16515641089",
   "metadata": {},
   "outputs": [],
   "source": [
    "from tensorflow import keras\n",
    "from tensorflow.keras import layers\n",
    "\n",
    "\n",
    "def get_model(max_tokens=20000, hidden_dim=16):\n",
    "    inputs = keras.Input(shape=(max_tokens,))\n",
    "    x = layers.Dense(hidden_dim, activation=\"relu\")(inputs)\n",
    "    x = layers.Dropout(0.5)(x)\n",
    "    outputs = layers.Dense(1, activation=\"sigmoid\")(x)\n",
    "    model = keras.Model(inputs, outputs)\n",
    "    model.compile(optimizer=\"rmsprop\", loss=\"binary_crossentropy\", metrics=[\"accuracy\"])\n",
    "    return model"
   ]
  },
  {
   "cell_type": "code",
   "execution_count": 8,
   "id": "696bbf75-4142-477c-bc49-7570fc986c7a",
   "metadata": {},
   "outputs": [
    {
     "name": "stdout",
     "output_type": "stream",
     "text": [
      "Model: \"model\"\n",
      "_________________________________________________________________\n",
      " Layer (type)                Output Shape              Param #   \n",
      "=================================================================\n",
      " input_1 (InputLayer)        [(None, 20000)]           0         \n",
      "                                                                 \n",
      " dense (Dense)               (None, 16)                320016    \n",
      "                                                                 \n",
      " dropout (Dropout)           (None, 16)                0         \n",
      "                                                                 \n",
      " dense_1 (Dense)             (None, 1)                 17        \n",
      "                                                                 \n",
      "=================================================================\n",
      "Total params: 320,033\n",
      "Trainable params: 320,033\n",
      "Non-trainable params: 0\n",
      "_________________________________________________________________\n",
      "Epoch 1/10\n",
      "  1/500 [..............................] - ETA: 2:32 - loss: 0.7003 - accuracy: 0.4688"
     ]
    },
    {
     "name": "stderr",
     "output_type": "stream",
     "text": [
      "2023-02-10 22:18:24.676441: I tensorflow/core/grappler/optimizers/custom_graph_optimizer_registry.cc:114] Plugin optimizer for device_type GPU is enabled.\n"
     ]
    },
    {
     "name": "stdout",
     "output_type": "stream",
     "text": [
      "496/500 [============================>.] - ETA: 0s - loss: 0.4129 - accuracy: 0.8267"
     ]
    },
    {
     "name": "stderr",
     "output_type": "stream",
     "text": [
      "2023-02-10 22:18:28.599495: I tensorflow/core/grappler/optimizers/custom_graph_optimizer_registry.cc:114] Plugin optimizer for device_type GPU is enabled.\n"
     ]
    },
    {
     "name": "stdout",
     "output_type": "stream",
     "text": [
      "500/500 [==============================] - 5s 9ms/step - loss: 0.4126 - accuracy: 0.8271 - val_loss: 0.3173 - val_accuracy: 0.8718\n",
      "Epoch 2/10\n",
      "500/500 [==============================] - 4s 8ms/step - loss: 0.1987 - accuracy: 0.9301 - val_loss: 0.3008 - val_accuracy: 0.8823\n",
      "Epoch 3/10\n",
      "500/500 [==============================] - 4s 9ms/step - loss: 0.1235 - accuracy: 0.9602 - val_loss: 0.3217 - val_accuracy: 0.8845\n",
      "Epoch 4/10\n",
      "500/500 [==============================] - 4s 8ms/step - loss: 0.0837 - accuracy: 0.9745 - val_loss: 0.3617 - val_accuracy: 0.8863\n",
      "Epoch 5/10\n",
      "500/500 [==============================] - 4s 8ms/step - loss: 0.0600 - accuracy: 0.9829 - val_loss: 0.4130 - val_accuracy: 0.8835\n",
      "Epoch 6/10\n",
      "500/500 [==============================] - 4s 8ms/step - loss: 0.0457 - accuracy: 0.9873 - val_loss: 0.4731 - val_accuracy: 0.8798\n",
      "Epoch 7/10\n",
      "500/500 [==============================] - 4s 8ms/step - loss: 0.0366 - accuracy: 0.9902 - val_loss: 0.5333 - val_accuracy: 0.8775\n",
      "Epoch 8/10\n",
      "500/500 [==============================] - 4s 8ms/step - loss: 0.0291 - accuracy: 0.9923 - val_loss: 0.5855 - val_accuracy: 0.8788\n",
      "Epoch 9/10\n",
      "500/500 [==============================] - 4s 8ms/step - loss: 0.0245 - accuracy: 0.9941 - val_loss: 0.6454 - val_accuracy: 0.8753\n",
      "Epoch 10/10\n",
      "500/500 [==============================] - 4s 8ms/step - loss: 0.0198 - accuracy: 0.9953 - val_loss: 0.7017 - val_accuracy: 0.8735\n",
      " 17/782 [..............................] - ETA: 5s - loss: 0.2862 - accuracy: 0.8897"
     ]
    },
    {
     "name": "stderr",
     "output_type": "stream",
     "text": [
      "2023-02-10 22:19:06.046689: I tensorflow/core/grappler/optimizers/custom_graph_optimizer_registry.cc:114] Plugin optimizer for device_type GPU is enabled.\n"
     ]
    },
    {
     "name": "stdout",
     "output_type": "stream",
     "text": [
      "782/782 [==============================] - 5s 6ms/step - loss: 0.2965 - accuracy: 0.8816\n",
      "Test acc: 0.882\n"
     ]
    }
   ],
   "source": [
    "model = get_model()\n",
    "model.summary()\n",
    "callbacks = [keras.callbacks.ModelCheckpoint(\"binary_1gram.keras\", save_best_only=True)]\n",
    "model.fit(\n",
    "    binary_1gram_train_ds.cache(),\n",
    "    validation_data=binary_1gram_val_ds.cache(),\n",
    "    epochs=10,\n",
    "    callbacks=callbacks,\n",
    ")\n",
    "model = keras.models.load_model(\"binary_1gram.keras\")\n",
    "print(f\"Test acc: {model.evaluate(binary_1gram_test_ds)[1]:.3f}\")"
   ]
  },
  {
   "cell_type": "markdown",
   "id": "5f4f3f1f-d01c-4f6b-962b-d4fabe5f6d18",
   "metadata": {},
   "source": [
    "### Bigrams with binary encoding"
   ]
  },
  {
   "cell_type": "code",
   "execution_count": 9,
   "id": "eaf52d5e-f296-4a9b-80c3-19f3a6e18626",
   "metadata": {},
   "outputs": [
    {
     "name": "stderr",
     "output_type": "stream",
     "text": [
      "2023-02-10 22:19:10.937147: I tensorflow/core/grappler/optimizers/custom_graph_optimizer_registry.cc:114] Plugin optimizer for device_type GPU is enabled.\n"
     ]
    }
   ],
   "source": [
    "text_vectorization = TextVectorization(\n",
    "    ngrams=2,\n",
    "    max_tokens=20000,\n",
    "    output_mode=\"multi_hot\",\n",
    ")\n",
    "\n",
    "text_vectorization.adapt(text_only_train_ds)\n",
    "\n",
    "binary_2gram_train_ds = train_ds.map(\n",
    "    lambda x, y: (text_vectorization(x), y), num_parallel_calls=CPU_CORES\n",
    ")\n",
    "binary_2gram_val_ds = val_ds.map(\n",
    "    lambda x, y: (text_vectorization(x), y), num_parallel_calls=CPU_CORES\n",
    ")\n",
    "binary_2gram_test_ds = test_ds.map(\n",
    "    lambda x, y: (text_vectorization(x), y), num_parallel_calls=CPU_CORES\n",
    ")"
   ]
  },
  {
   "cell_type": "code",
   "execution_count": 10,
   "id": "b350d88c-6880-4d09-b23d-77adb8143dca",
   "metadata": {},
   "outputs": [
    {
     "name": "stdout",
     "output_type": "stream",
     "text": [
      "Model: \"model_1\"\n",
      "_________________________________________________________________\n",
      " Layer (type)                Output Shape              Param #   \n",
      "=================================================================\n",
      " input_2 (InputLayer)        [(None, 20000)]           0         \n",
      "                                                                 \n",
      " dense_2 (Dense)             (None, 16)                320016    \n",
      "                                                                 \n",
      " dropout_1 (Dropout)         (None, 16)                0         \n",
      "                                                                 \n",
      " dense_3 (Dense)             (None, 1)                 17        \n",
      "                                                                 \n",
      "=================================================================\n",
      "Total params: 320,033\n",
      "Trainable params: 320,033\n",
      "Non-trainable params: 0\n",
      "_________________________________________________________________\n",
      "Epoch 1/10\n",
      "  6/500 [..............................] - ETA: 5s - loss: 0.6850 - accuracy: 0.5469  "
     ]
    },
    {
     "name": "stderr",
     "output_type": "stream",
     "text": [
      "2023-02-10 22:19:16.965442: I tensorflow/core/grappler/optimizers/custom_graph_optimizer_registry.cc:114] Plugin optimizer for device_type GPU is enabled.\n"
     ]
    },
    {
     "name": "stdout",
     "output_type": "stream",
     "text": [
      "496/500 [============================>.] - ETA: 0s - loss: 0.3893 - accuracy: 0.8368"
     ]
    },
    {
     "name": "stderr",
     "output_type": "stream",
     "text": [
      "2023-02-10 22:19:20.797163: I tensorflow/core/grappler/optimizers/custom_graph_optimizer_registry.cc:114] Plugin optimizer for device_type GPU is enabled.\n"
     ]
    },
    {
     "name": "stdout",
     "output_type": "stream",
     "text": [
      "500/500 [==============================] - 5s 9ms/step - loss: 0.3895 - accuracy: 0.8371 - val_loss: 0.2870 - val_accuracy: 0.8818\n",
      "Epoch 2/10\n",
      "500/500 [==============================] - 4s 7ms/step - loss: 0.1540 - accuracy: 0.9499 - val_loss: 0.2820 - val_accuracy: 0.8940\n",
      "Epoch 3/10\n",
      "500/500 [==============================] - 4s 8ms/step - loss: 0.0747 - accuracy: 0.9793 - val_loss: 0.3211 - val_accuracy: 0.8973\n",
      "Epoch 4/10\n",
      "500/500 [==============================] - 4s 8ms/step - loss: 0.0389 - accuracy: 0.9892 - val_loss: 0.3774 - val_accuracy: 0.8955\n",
      "Epoch 5/10\n",
      "500/500 [==============================] - 4s 8ms/step - loss: 0.0222 - accuracy: 0.9943 - val_loss: 0.4493 - val_accuracy: 0.8960\n",
      "Epoch 6/10\n",
      "500/500 [==============================] - 4s 8ms/step - loss: 0.0136 - accuracy: 0.9966 - val_loss: 0.5130 - val_accuracy: 0.8945\n",
      "Epoch 7/10\n",
      "500/500 [==============================] - 4s 9ms/step - loss: 0.0090 - accuracy: 0.9979 - val_loss: 0.5820 - val_accuracy: 0.8948\n",
      "Epoch 8/10\n",
      "500/500 [==============================] - 4s 8ms/step - loss: 0.0061 - accuracy: 0.9983 - val_loss: 0.6444 - val_accuracy: 0.8933\n",
      "Epoch 9/10\n",
      "500/500 [==============================] - 4s 8ms/step - loss: 0.0039 - accuracy: 0.9989 - val_loss: 0.7051 - val_accuracy: 0.8905\n",
      "Epoch 10/10\n",
      "500/500 [==============================] - 4s 8ms/step - loss: 0.0027 - accuracy: 0.9992 - val_loss: 0.7637 - val_accuracy: 0.8883\n",
      " 19/782 [..............................] - ETA: 4s - loss: 0.2509 - accuracy: 0.8882"
     ]
    },
    {
     "name": "stderr",
     "output_type": "stream",
     "text": [
      "2023-02-10 22:19:57.950047: I tensorflow/core/grappler/optimizers/custom_graph_optimizer_registry.cc:114] Plugin optimizer for device_type GPU is enabled.\n"
     ]
    },
    {
     "name": "stdout",
     "output_type": "stream",
     "text": [
      "782/782 [==============================] - 5s 6ms/step - loss: 0.2726 - accuracy: 0.8977\n",
      "Test acc: 0.898\n"
     ]
    }
   ],
   "source": [
    "model = get_model()\n",
    "model.summary()\n",
    "callbacks = [keras.callbacks.ModelCheckpoint(\"binary_2gram.keras\", save_best_only=True)]\n",
    "model.fit(\n",
    "    binary_2gram_train_ds.cache(),\n",
    "    validation_data=binary_2gram_val_ds.cache(),\n",
    "    epochs=10,\n",
    "    callbacks=callbacks,\n",
    ")\n",
    "model = keras.models.load_model(\"binary_2gram.keras\")\n",
    "print(f\"Test acc: {model.evaluate(binary_2gram_test_ds)[1]:.3f}\")"
   ]
  },
  {
   "cell_type": "markdown",
   "id": "d87d73ea-2e5b-4733-a9b6-a9b9e3f98862",
   "metadata": {},
   "source": [
    "### Bigrams with TF-IDF encoding"
   ]
  },
  {
   "cell_type": "code",
   "execution_count": 11,
   "id": "5c47e070-5119-4321-8254-6aa137db688e",
   "metadata": {},
   "outputs": [
    {
     "name": "stderr",
     "output_type": "stream",
     "text": [
      "2023-02-10 22:20:03.035292: I tensorflow/core/grappler/optimizers/custom_graph_optimizer_registry.cc:114] Plugin optimizer for device_type GPU is enabled.\n"
     ]
    }
   ],
   "source": [
    "text_vectorization = TextVectorization(ngrams=2, max_tokens=20000, output_mode=\"tf_idf\")\n",
    "\n",
    "text_vectorization.adapt(text_only_train_ds)\n",
    "\n",
    "tfidf_2gram_train_ds = train_ds.map(\n",
    "    lambda x, y: (text_vectorization(x), y), num_parallel_calls=CPU_CORES\n",
    ")\n",
    "tfidf_2gram_val_ds = val_ds.map(\n",
    "    lambda x, y: (text_vectorization(x), y), num_parallel_calls=CPU_CORES\n",
    ")\n",
    "tfidf_2gram_test_ds = test_ds.map(\n",
    "    lambda x, y: (text_vectorization(x), y), num_parallel_calls=CPU_CORES\n",
    ")"
   ]
  },
  {
   "cell_type": "code",
   "execution_count": 12,
   "id": "44d44c99-5e05-465e-b7d8-f331f9894ea4",
   "metadata": {},
   "outputs": [
    {
     "name": "stdout",
     "output_type": "stream",
     "text": [
      "Model: \"model_2\"\n",
      "_________________________________________________________________\n",
      " Layer (type)                Output Shape              Param #   \n",
      "=================================================================\n",
      " input_3 (InputLayer)        [(None, 20000)]           0         \n",
      "                                                                 \n",
      " dense_4 (Dense)             (None, 16)                320016    \n",
      "                                                                 \n",
      " dropout_2 (Dropout)         (None, 16)                0         \n",
      "                                                                 \n",
      " dense_5 (Dense)             (None, 1)                 17        \n",
      "                                                                 \n",
      "=================================================================\n",
      "Total params: 320,033\n",
      "Trainable params: 320,033\n",
      "Non-trainable params: 0\n",
      "_________________________________________________________________\n",
      "Epoch 1/10\n",
      "  7/500 [..............................] - ETA: 4s - loss: 2.5526 - accuracy: 0.5357  "
     ]
    },
    {
     "name": "stderr",
     "output_type": "stream",
     "text": [
      "2023-02-10 22:20:21.261065: I tensorflow/core/grappler/optimizers/custom_graph_optimizer_registry.cc:114] Plugin optimizer for device_type GPU is enabled.\n"
     ]
    },
    {
     "name": "stdout",
     "output_type": "stream",
     "text": [
      "493/500 [============================>.] - ETA: 0s - loss: 0.5143 - accuracy: 0.7603"
     ]
    },
    {
     "name": "stderr",
     "output_type": "stream",
     "text": [
      "2023-02-10 22:20:25.088540: I tensorflow/core/grappler/optimizers/custom_graph_optimizer_registry.cc:114] Plugin optimizer for device_type GPU is enabled.\n"
     ]
    },
    {
     "name": "stdout",
     "output_type": "stream",
     "text": [
      "500/500 [==============================] - 5s 9ms/step - loss: 0.5147 - accuracy: 0.7611 - val_loss: 0.3746 - val_accuracy: 0.8413\n",
      "Epoch 2/10\n",
      "500/500 [==============================] - 4s 9ms/step - loss: 0.2603 - accuracy: 0.8967 - val_loss: 0.3595 - val_accuracy: 0.8315\n",
      "Epoch 3/10\n",
      "500/500 [==============================] - 4s 8ms/step - loss: 0.1545 - accuracy: 0.9362 - val_loss: 0.3723 - val_accuracy: 0.8623\n",
      "Epoch 4/10\n",
      "500/500 [==============================] - 4s 8ms/step - loss: 0.1055 - accuracy: 0.9526 - val_loss: 0.4310 - val_accuracy: 0.8605\n",
      "Epoch 5/10\n",
      "500/500 [==============================] - 4s 8ms/step - loss: 0.0745 - accuracy: 0.9629 - val_loss: 0.5131 - val_accuracy: 0.8653\n",
      "Epoch 6/10\n",
      "500/500 [==============================] - 4s 8ms/step - loss: 0.0596 - accuracy: 0.9704 - val_loss: 0.6373 - val_accuracy: 0.8840\n",
      "Epoch 7/10\n",
      "500/500 [==============================] - 4s 8ms/step - loss: 0.0445 - accuracy: 0.9783 - val_loss: 0.6968 - val_accuracy: 0.8808\n",
      "Epoch 8/10\n",
      "500/500 [==============================] - 4s 8ms/step - loss: 0.0374 - accuracy: 0.9819 - val_loss: 0.9879 - val_accuracy: 0.8728\n",
      "Epoch 9/10\n",
      "500/500 [==============================] - 4s 8ms/step - loss: 0.0298 - accuracy: 0.9848 - val_loss: 0.9453 - val_accuracy: 0.8845\n",
      "Epoch 10/10\n",
      "500/500 [==============================] - 5s 9ms/step - loss: 0.0263 - accuracy: 0.9855 - val_loss: 1.0374 - val_accuracy: 0.8750\n",
      " 18/782 [..............................] - ETA: 4s - loss: 0.3239 - accuracy: 0.8403"
     ]
    },
    {
     "name": "stderr",
     "output_type": "stream",
     "text": [
      "2023-02-10 22:21:03.866288: I tensorflow/core/grappler/optimizers/custom_graph_optimizer_registry.cc:114] Plugin optimizer for device_type GPU is enabled.\n"
     ]
    },
    {
     "name": "stdout",
     "output_type": "stream",
     "text": [
      "782/782 [==============================] - 5s 6ms/step - loss: 0.3471 - accuracy: 0.8311\n",
      "Test acc: 0.831\n"
     ]
    }
   ],
   "source": [
    "model = get_model()\n",
    "model.summary()\n",
    "callbacks = [keras.callbacks.ModelCheckpoint(\"tfidf_2gram.keras\", save_best_only=True)]\n",
    "model.fit(\n",
    "    tfidf_2gram_train_ds.cache(),\n",
    "    validation_data=tfidf_2gram_val_ds.cache(),\n",
    "    epochs=10,\n",
    "    callbacks=callbacks,\n",
    ")\n",
    "model = keras.models.load_model(\"tfidf_2gram.keras\")\n",
    "print(f\"Test acc: {model.evaluate(tfidf_2gram_test_ds)[1]:.3f}\")"
   ]
  },
  {
   "cell_type": "markdown",
   "id": "0dea1c51-85dc-494e-b070-abde59ca4b2b",
   "metadata": {},
   "source": [
    "Exporting a model that processes raw strings"
   ]
  },
  {
   "cell_type": "code",
   "execution_count": 13,
   "id": "b0f0627d-e197-46ff-b6d3-e7499af0366c",
   "metadata": {},
   "outputs": [],
   "source": [
    "inputs = keras.Input(shape=(1,), dtype=\"string\")\n",
    "processed_inputs = text_vectorization(inputs)\n",
    "outputs = model(processed_inputs)\n",
    "inference_model = keras.Model(inputs, outputs)"
   ]
  },
  {
   "cell_type": "code",
   "execution_count": 14,
   "id": "36783c6b-ccbc-4fe5-b265-bdd5ca4f6301",
   "metadata": {},
   "outputs": [
    {
     "name": "stdout",
     "output_type": "stream",
     "text": [
      "94.28 percent positive\n"
     ]
    }
   ],
   "source": [
    "import tensorflow as tf\n",
    "\n",
    "raw_text_data = tf.convert_to_tensor(\n",
    "    [\n",
    "        [\"That was an excellent movie, I loved it.\"],\n",
    "    ]\n",
    ")\n",
    "predictions = inference_model(raw_text_data)\n",
    "print(f\"{float(predictions[0] * 100):.2f} percent positive\")"
   ]
  },
  {
   "cell_type": "code",
   "execution_count": null,
   "id": "fe85d5b6-a7da-40f3-ad2e-c425a45a030b",
   "metadata": {},
   "outputs": [],
   "source": []
  }
 ],
 "metadata": {
  "kernelspec": {
   "display_name": "Python 3 (ipykernel)",
   "language": "python",
   "name": "python3"
  },
  "language_info": {
   "codemirror_mode": {
    "name": "ipython",
    "version": 3
   },
   "file_extension": ".py",
   "mimetype": "text/x-python",
   "name": "python",
   "nbconvert_exporter": "python",
   "pygments_lexer": "ipython3",
   "version": "3.9.15"
  }
 },
 "nbformat": 4,
 "nbformat_minor": 5
}
