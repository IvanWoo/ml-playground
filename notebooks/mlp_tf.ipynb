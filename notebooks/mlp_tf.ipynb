{
 "cells": [
  {
   "cell_type": "markdown",
   "id": "0b325ecc-6125-4c50-8cde-fae160e7f68d",
   "metadata": {},
   "source": [
    "# MLP-TF"
   ]
  },
  {
   "cell_type": "code",
   "execution_count": 1,
   "id": "7307c1c2-78b1-4f7c-b1d6-d41806933836",
   "metadata": {},
   "outputs": [],
   "source": [
    "from keras.layers import Dense\n",
    "from keras.models import Sequential\n",
    "from keras.utils import to_categorical\n",
    "from matplotlib import pyplot\n",
    "from sklearn.datasets import make_blobs"
   ]
  },
  {
   "cell_type": "code",
   "execution_count": 2,
   "id": "fbb8111a-3842-4fc9-9a60-be594d5ea643",
   "metadata": {},
   "outputs": [],
   "source": [
    "X, y = make_blobs(\n",
    "    n_samples=1000, centers=3, n_features=2, cluster_std=2, random_state=2\n",
    ")\n",
    "y = to_categorical(y)"
   ]
  },
  {
   "cell_type": "code",
   "execution_count": 3,
   "id": "b8f7f7ca-b601-40ed-9ed6-bb3150affb25",
   "metadata": {},
   "outputs": [
    {
     "data": {
      "text/plain": [
       "array([[0., 0., 1.],\n",
       "       [0., 0., 1.],\n",
       "       [0., 0., 1.],\n",
       "       ...,\n",
       "       [0., 0., 1.],\n",
       "       [0., 1., 0.],\n",
       "       [1., 0., 0.]], dtype=float32)"
      ]
     },
     "execution_count": 3,
     "metadata": {},
     "output_type": "execute_result"
    }
   ],
   "source": [
    "y"
   ]
  },
  {
   "cell_type": "code",
   "execution_count": 4,
   "id": "96e971cb-8e7d-4772-a9b8-f0501c8e4b12",
   "metadata": {},
   "outputs": [
    {
     "name": "stdout",
     "output_type": "stream",
     "text": [
      "(800, 2) (200, 2)\n"
     ]
    }
   ],
   "source": [
    "n_train = 800\n",
    "\n",
    "train_X, test_X = X[:n_train, :], X[n_train:, :]\n",
    "\n",
    "train_y, test_y = y[:n_train], y[n_train:]\n",
    "\n",
    "print(train_X.shape, test_X.shape)"
   ]
  },
  {
   "cell_type": "code",
   "execution_count": 5,
   "id": "ea2eab67-b31a-4b37-9854-5ae97bd239cc",
   "metadata": {},
   "outputs": [
    {
     "name": "stdout",
     "output_type": "stream",
     "text": [
      "Metal device set to: Apple M1 Max\n",
      "Model: \"sequential\"\n",
      "_________________________________________________________________\n",
      " Layer (type)                Output Shape              Param #   \n",
      "=================================================================\n",
      " dense (Dense)               (None, 25)                75        \n",
      "                                                                 \n",
      " dense_1 (Dense)             (None, 3)                 78        \n",
      "                                                                 \n",
      "=================================================================\n",
      "Total params: 153\n",
      "Trainable params: 153\n",
      "Non-trainable params: 0\n",
      "_________________________________________________________________\n"
     ]
    },
    {
     "name": "stderr",
     "output_type": "stream",
     "text": [
      "2022-12-06 21:43:00.223130: I tensorflow/core/common_runtime/pluggable_device/pluggable_device_factory.cc:306] Could not identify NUMA node of platform GPU ID 0, defaulting to 0. Your kernel may not have been built with NUMA support.\n",
      "2022-12-06 21:43:00.223267: I tensorflow/core/common_runtime/pluggable_device/pluggable_device_factory.cc:272] Created TensorFlow device (/job:localhost/replica:0/task:0/device:GPU:0 with 0 MB memory) -> physical PluggableDevice (device: 0, name: METAL, pci bus id: <undefined>)\n"
     ]
    }
   ],
   "source": [
    "model = Sequential(\n",
    "    [\n",
    "        Dense(25, input_dim=2, activation=\"relu\"),\n",
    "        Dense(3, activation=\"softmax\"),\n",
    "    ]\n",
    ")\n",
    "model.compile(loss=\"categorical_crossentropy\", optimizer=\"adam\", metrics=[\"accuracy\"])\n",
    "model.summary()"
   ]
  },
  {
   "cell_type": "code",
   "execution_count": 6,
   "id": "c0574e3b-e3e9-492e-adf2-b5b9ff53bf64",
   "metadata": {},
   "outputs": [
    {
     "name": "stdout",
     "output_type": "stream",
     "text": [
      "Epoch 1/100\n"
     ]
    },
    {
     "name": "stderr",
     "output_type": "stream",
     "text": [
      "2022-12-06 21:43:00.351556: W tensorflow/core/platform/profile_utils/cpu_utils.cc:128] Failed to get CPU frequency: 0 Hz\n",
      "2022-12-06 21:43:00.503076: I tensorflow/core/grappler/optimizers/custom_graph_optimizer_registry.cc:114] Plugin optimizer for device_type GPU is enabled.\n"
     ]
    },
    {
     "name": "stdout",
     "output_type": "stream",
     "text": [
      "25/25 [==============================] - 1s 15ms/step - loss: 0.8259 - accuracy: 0.5662 - val_loss: 0.7468 - val_accuracy: 0.6850\n",
      "Epoch 2/100\n",
      "14/25 [===============>..............] - ETA: 0s - loss: 0.7809 - accuracy: 0.6451"
     ]
    },
    {
     "name": "stderr",
     "output_type": "stream",
     "text": [
      "2022-12-06 21:43:00.864060: I tensorflow/core/grappler/optimizers/custom_graph_optimizer_registry.cc:114] Plugin optimizer for device_type GPU is enabled.\n"
     ]
    },
    {
     "name": "stdout",
     "output_type": "stream",
     "text": [
      "25/25 [==============================] - 0s 11ms/step - loss: 0.7690 - accuracy: 0.6413 - val_loss: 0.6919 - val_accuracy: 0.7050\n",
      "Epoch 3/100\n",
      "25/25 [==============================] - 0s 10ms/step - loss: 0.7313 - accuracy: 0.6662 - val_loss: 0.6549 - val_accuracy: 0.7350\n",
      "Epoch 4/100\n",
      "25/25 [==============================] - 0s 12ms/step - loss: 0.7021 - accuracy: 0.6762 - val_loss: 0.6274 - val_accuracy: 0.7400\n",
      "Epoch 5/100\n",
      "25/25 [==============================] - 0s 10ms/step - loss: 0.6820 - accuracy: 0.6950 - val_loss: 0.6054 - val_accuracy: 0.7450\n",
      "Epoch 6/100\n",
      "25/25 [==============================] - 0s 11ms/step - loss: 0.6610 - accuracy: 0.7037 - val_loss: 0.5881 - val_accuracy: 0.7450\n",
      "Epoch 7/100\n",
      "25/25 [==============================] - 0s 10ms/step - loss: 0.6445 - accuracy: 0.7138 - val_loss: 0.5738 - val_accuracy: 0.7550\n",
      "Epoch 8/100\n",
      "25/25 [==============================] - 0s 10ms/step - loss: 0.6305 - accuracy: 0.7163 - val_loss: 0.5604 - val_accuracy: 0.7600\n",
      "Epoch 9/100\n",
      "25/25 [==============================] - 0s 11ms/step - loss: 0.6173 - accuracy: 0.7287 - val_loss: 0.5482 - val_accuracy: 0.7750\n",
      "Epoch 10/100\n",
      "25/25 [==============================] - 0s 10ms/step - loss: 0.6059 - accuracy: 0.7300 - val_loss: 0.5343 - val_accuracy: 0.7700\n",
      "Epoch 11/100\n",
      "25/25 [==============================] - 0s 11ms/step - loss: 0.5927 - accuracy: 0.7412 - val_loss: 0.5262 - val_accuracy: 0.8050\n",
      "Epoch 12/100\n",
      "25/25 [==============================] - 0s 11ms/step - loss: 0.5829 - accuracy: 0.7500 - val_loss: 0.5156 - val_accuracy: 0.8050\n",
      "Epoch 13/100\n",
      "25/25 [==============================] - 0s 11ms/step - loss: 0.5723 - accuracy: 0.7537 - val_loss: 0.5056 - val_accuracy: 0.8250\n",
      "Epoch 14/100\n",
      "25/25 [==============================] - 0s 12ms/step - loss: 0.5633 - accuracy: 0.7738 - val_loss: 0.4975 - val_accuracy: 0.8350\n",
      "Epoch 15/100\n",
      "25/25 [==============================] - 0s 10ms/step - loss: 0.5533 - accuracy: 0.7700 - val_loss: 0.4873 - val_accuracy: 0.8400\n",
      "Epoch 16/100\n",
      "25/25 [==============================] - 0s 10ms/step - loss: 0.5459 - accuracy: 0.7825 - val_loss: 0.4804 - val_accuracy: 0.8400\n",
      "Epoch 17/100\n",
      "25/25 [==============================] - 0s 11ms/step - loss: 0.5369 - accuracy: 0.7800 - val_loss: 0.4721 - val_accuracy: 0.8400\n",
      "Epoch 18/100\n",
      "25/25 [==============================] - 0s 10ms/step - loss: 0.5285 - accuracy: 0.7887 - val_loss: 0.4681 - val_accuracy: 0.8300\n",
      "Epoch 19/100\n",
      "25/25 [==============================] - 0s 10ms/step - loss: 0.5215 - accuracy: 0.7912 - val_loss: 0.4597 - val_accuracy: 0.8350\n",
      "Epoch 20/100\n",
      "25/25 [==============================] - 0s 11ms/step - loss: 0.5140 - accuracy: 0.7962 - val_loss: 0.4539 - val_accuracy: 0.8300\n",
      "Epoch 21/100\n",
      "25/25 [==============================] - 0s 10ms/step - loss: 0.5076 - accuracy: 0.8012 - val_loss: 0.4474 - val_accuracy: 0.8350\n",
      "Epoch 22/100\n",
      "25/25 [==============================] - 0s 11ms/step - loss: 0.5014 - accuracy: 0.7987 - val_loss: 0.4409 - val_accuracy: 0.8350\n",
      "Epoch 23/100\n",
      "25/25 [==============================] - 0s 10ms/step - loss: 0.4958 - accuracy: 0.8037 - val_loss: 0.4357 - val_accuracy: 0.8400\n",
      "Epoch 24/100\n",
      "25/25 [==============================] - 0s 10ms/step - loss: 0.4899 - accuracy: 0.8025 - val_loss: 0.4329 - val_accuracy: 0.8400\n",
      "Epoch 25/100\n",
      "25/25 [==============================] - 0s 10ms/step - loss: 0.4840 - accuracy: 0.8087 - val_loss: 0.4298 - val_accuracy: 0.8400\n",
      "Epoch 26/100\n",
      "25/25 [==============================] - 0s 11ms/step - loss: 0.4794 - accuracy: 0.8112 - val_loss: 0.4242 - val_accuracy: 0.8400\n",
      "Epoch 27/100\n",
      "25/25 [==============================] - 0s 11ms/step - loss: 0.4739 - accuracy: 0.8062 - val_loss: 0.4182 - val_accuracy: 0.8400\n",
      "Epoch 28/100\n",
      "25/25 [==============================] - 0s 10ms/step - loss: 0.4694 - accuracy: 0.8112 - val_loss: 0.4140 - val_accuracy: 0.8450\n",
      "Epoch 29/100\n",
      "25/25 [==============================] - 0s 11ms/step - loss: 0.4650 - accuracy: 0.8150 - val_loss: 0.4113 - val_accuracy: 0.8500\n",
      "Epoch 30/100\n",
      "25/25 [==============================] - 0s 11ms/step - loss: 0.4621 - accuracy: 0.8137 - val_loss: 0.4108 - val_accuracy: 0.8450\n",
      "Epoch 31/100\n",
      "25/25 [==============================] - 0s 11ms/step - loss: 0.4594 - accuracy: 0.8150 - val_loss: 0.4021 - val_accuracy: 0.8450\n",
      "Epoch 32/100\n",
      "25/25 [==============================] - 0s 10ms/step - loss: 0.4563 - accuracy: 0.8125 - val_loss: 0.4041 - val_accuracy: 0.8450\n",
      "Epoch 33/100\n",
      "25/25 [==============================] - 0s 11ms/step - loss: 0.4529 - accuracy: 0.8200 - val_loss: 0.3973 - val_accuracy: 0.8450\n",
      "Epoch 34/100\n",
      "25/25 [==============================] - 0s 11ms/step - loss: 0.4488 - accuracy: 0.8175 - val_loss: 0.3986 - val_accuracy: 0.8450\n",
      "Epoch 35/100\n",
      "25/25 [==============================] - 0s 11ms/step - loss: 0.4467 - accuracy: 0.8175 - val_loss: 0.3945 - val_accuracy: 0.8550\n",
      "Epoch 36/100\n",
      "25/25 [==============================] - 0s 10ms/step - loss: 0.4443 - accuracy: 0.8150 - val_loss: 0.3917 - val_accuracy: 0.8500\n",
      "Epoch 37/100\n",
      "25/25 [==============================] - 0s 11ms/step - loss: 0.4424 - accuracy: 0.8175 - val_loss: 0.3921 - val_accuracy: 0.8500\n",
      "Epoch 38/100\n",
      "25/25 [==============================] - 0s 11ms/step - loss: 0.4411 - accuracy: 0.8162 - val_loss: 0.3954 - val_accuracy: 0.8500\n",
      "Epoch 39/100\n",
      "25/25 [==============================] - 0s 11ms/step - loss: 0.4380 - accuracy: 0.8237 - val_loss: 0.3856 - val_accuracy: 0.8500\n",
      "Epoch 40/100\n",
      "25/25 [==============================] - 0s 11ms/step - loss: 0.4393 - accuracy: 0.8175 - val_loss: 0.3918 - val_accuracy: 0.8500\n",
      "Epoch 41/100\n",
      "25/25 [==============================] - 0s 10ms/step - loss: 0.4333 - accuracy: 0.8212 - val_loss: 0.3808 - val_accuracy: 0.8550\n",
      "Epoch 42/100\n",
      "25/25 [==============================] - 0s 10ms/step - loss: 0.4336 - accuracy: 0.8250 - val_loss: 0.3823 - val_accuracy: 0.8550\n",
      "Epoch 43/100\n",
      "25/25 [==============================] - 0s 11ms/step - loss: 0.4327 - accuracy: 0.8237 - val_loss: 0.3848 - val_accuracy: 0.8500\n",
      "Epoch 44/100\n",
      "25/25 [==============================] - 0s 11ms/step - loss: 0.4298 - accuracy: 0.8287 - val_loss: 0.3801 - val_accuracy: 0.8550\n",
      "Epoch 45/100\n",
      "25/25 [==============================] - 0s 10ms/step - loss: 0.4299 - accuracy: 0.8212 - val_loss: 0.3863 - val_accuracy: 0.8450\n",
      "Epoch 46/100\n",
      "25/25 [==============================] - 0s 11ms/step - loss: 0.4268 - accuracy: 0.8250 - val_loss: 0.3767 - val_accuracy: 0.8550\n",
      "Epoch 47/100\n",
      "25/25 [==============================] - 0s 11ms/step - loss: 0.4264 - accuracy: 0.8287 - val_loss: 0.3789 - val_accuracy: 0.8500\n",
      "Epoch 48/100\n",
      "25/25 [==============================] - 0s 10ms/step - loss: 0.4258 - accuracy: 0.8275 - val_loss: 0.3778 - val_accuracy: 0.8500\n",
      "Epoch 49/100\n",
      "25/25 [==============================] - 0s 10ms/step - loss: 0.4245 - accuracy: 0.8275 - val_loss: 0.3786 - val_accuracy: 0.8450\n",
      "Epoch 50/100\n",
      "25/25 [==============================] - 0s 10ms/step - loss: 0.4239 - accuracy: 0.8325 - val_loss: 0.3741 - val_accuracy: 0.8500\n",
      "Epoch 51/100\n",
      "25/25 [==============================] - 0s 10ms/step - loss: 0.4241 - accuracy: 0.8262 - val_loss: 0.3764 - val_accuracy: 0.8500\n",
      "Epoch 52/100\n",
      "25/25 [==============================] - 0s 11ms/step - loss: 0.4226 - accuracy: 0.8287 - val_loss: 0.3764 - val_accuracy: 0.8500\n",
      "Epoch 53/100\n",
      "25/25 [==============================] - 0s 11ms/step - loss: 0.4212 - accuracy: 0.8225 - val_loss: 0.3701 - val_accuracy: 0.8500\n",
      "Epoch 54/100\n",
      "25/25 [==============================] - 0s 11ms/step - loss: 0.4193 - accuracy: 0.8262 - val_loss: 0.3766 - val_accuracy: 0.8500\n",
      "Epoch 55/100\n",
      "25/25 [==============================] - 0s 11ms/step - loss: 0.4188 - accuracy: 0.8287 - val_loss: 0.3688 - val_accuracy: 0.8500\n",
      "Epoch 56/100\n",
      "25/25 [==============================] - 0s 11ms/step - loss: 0.4180 - accuracy: 0.8225 - val_loss: 0.3744 - val_accuracy: 0.8450\n",
      "Epoch 57/100\n",
      "25/25 [==============================] - 0s 12ms/step - loss: 0.4178 - accuracy: 0.8250 - val_loss: 0.3771 - val_accuracy: 0.8400\n",
      "Epoch 58/100\n",
      "25/25 [==============================] - 0s 11ms/step - loss: 0.4169 - accuracy: 0.8300 - val_loss: 0.3723 - val_accuracy: 0.8450\n",
      "Epoch 59/100\n",
      "25/25 [==============================] - 0s 11ms/step - loss: 0.4168 - accuracy: 0.8312 - val_loss: 0.3711 - val_accuracy: 0.8400\n",
      "Epoch 60/100\n",
      "25/25 [==============================] - 0s 11ms/step - loss: 0.4171 - accuracy: 0.8250 - val_loss: 0.3739 - val_accuracy: 0.8350\n",
      "Epoch 61/100\n",
      "25/25 [==============================] - 0s 11ms/step - loss: 0.4151 - accuracy: 0.8287 - val_loss: 0.3705 - val_accuracy: 0.8400\n",
      "Epoch 62/100\n",
      "25/25 [==============================] - 0s 11ms/step - loss: 0.4147 - accuracy: 0.8312 - val_loss: 0.3682 - val_accuracy: 0.8450\n",
      "Epoch 63/100\n",
      "25/25 [==============================] - 0s 10ms/step - loss: 0.4148 - accuracy: 0.8262 - val_loss: 0.3710 - val_accuracy: 0.8400\n",
      "Epoch 64/100\n",
      "25/25 [==============================] - 0s 10ms/step - loss: 0.4146 - accuracy: 0.8275 - val_loss: 0.3679 - val_accuracy: 0.8400\n",
      "Epoch 65/100\n",
      "25/25 [==============================] - 0s 10ms/step - loss: 0.4132 - accuracy: 0.8275 - val_loss: 0.3703 - val_accuracy: 0.8400\n",
      "Epoch 66/100\n",
      "25/25 [==============================] - 0s 11ms/step - loss: 0.4149 - accuracy: 0.8225 - val_loss: 0.3768 - val_accuracy: 0.8400\n",
      "Epoch 67/100\n",
      "25/25 [==============================] - 0s 10ms/step - loss: 0.4127 - accuracy: 0.8300 - val_loss: 0.3648 - val_accuracy: 0.8450\n",
      "Epoch 68/100\n",
      "25/25 [==============================] - 0s 11ms/step - loss: 0.4127 - accuracy: 0.8312 - val_loss: 0.3680 - val_accuracy: 0.8450\n",
      "Epoch 69/100\n",
      "25/25 [==============================] - 0s 10ms/step - loss: 0.4125 - accuracy: 0.8287 - val_loss: 0.3685 - val_accuracy: 0.8400\n",
      "Epoch 70/100\n",
      "25/25 [==============================] - 0s 11ms/step - loss: 0.4111 - accuracy: 0.8250 - val_loss: 0.3684 - val_accuracy: 0.8350\n",
      "Epoch 71/100\n",
      "25/25 [==============================] - 0s 13ms/step - loss: 0.4123 - accuracy: 0.8225 - val_loss: 0.3726 - val_accuracy: 0.8400\n",
      "Epoch 72/100\n",
      "25/25 [==============================] - 0s 11ms/step - loss: 0.4109 - accuracy: 0.8237 - val_loss: 0.3665 - val_accuracy: 0.8400\n",
      "Epoch 73/100\n",
      "25/25 [==============================] - 0s 11ms/step - loss: 0.4100 - accuracy: 0.8312 - val_loss: 0.3683 - val_accuracy: 0.8400\n",
      "Epoch 74/100\n",
      "25/25 [==============================] - 0s 11ms/step - loss: 0.4099 - accuracy: 0.8312 - val_loss: 0.3684 - val_accuracy: 0.8350\n",
      "Epoch 75/100\n",
      "25/25 [==============================] - 0s 11ms/step - loss: 0.4091 - accuracy: 0.8325 - val_loss: 0.3653 - val_accuracy: 0.8400\n",
      "Epoch 76/100\n",
      "25/25 [==============================] - 0s 11ms/step - loss: 0.4115 - accuracy: 0.8287 - val_loss: 0.3668 - val_accuracy: 0.8400\n",
      "Epoch 77/100\n",
      "25/25 [==============================] - 0s 11ms/step - loss: 0.4100 - accuracy: 0.8300 - val_loss: 0.3651 - val_accuracy: 0.8350\n",
      "Epoch 78/100\n",
      "25/25 [==============================] - 0s 11ms/step - loss: 0.4086 - accuracy: 0.8287 - val_loss: 0.3633 - val_accuracy: 0.8350\n",
      "Epoch 79/100\n",
      "25/25 [==============================] - 0s 11ms/step - loss: 0.4088 - accuracy: 0.8287 - val_loss: 0.3702 - val_accuracy: 0.8400\n",
      "Epoch 80/100\n",
      "25/25 [==============================] - 0s 10ms/step - loss: 0.4100 - accuracy: 0.8312 - val_loss: 0.3742 - val_accuracy: 0.8400\n",
      "Epoch 81/100\n",
      "25/25 [==============================] - 0s 10ms/step - loss: 0.4096 - accuracy: 0.8262 - val_loss: 0.3582 - val_accuracy: 0.8450\n",
      "Epoch 82/100\n",
      "25/25 [==============================] - 0s 11ms/step - loss: 0.4076 - accuracy: 0.8287 - val_loss: 0.3675 - val_accuracy: 0.8400\n",
      "Epoch 83/100\n",
      "25/25 [==============================] - 0s 13ms/step - loss: 0.4097 - accuracy: 0.8312 - val_loss: 0.3618 - val_accuracy: 0.8350\n",
      "Epoch 84/100\n",
      "25/25 [==============================] - 0s 12ms/step - loss: 0.4076 - accuracy: 0.8287 - val_loss: 0.3706 - val_accuracy: 0.8400\n",
      "Epoch 85/100\n",
      "25/25 [==============================] - 0s 11ms/step - loss: 0.4075 - accuracy: 0.8325 - val_loss: 0.3624 - val_accuracy: 0.8400\n",
      "Epoch 86/100\n",
      "25/25 [==============================] - 0s 11ms/step - loss: 0.4084 - accuracy: 0.8287 - val_loss: 0.3661 - val_accuracy: 0.8400\n",
      "Epoch 87/100\n",
      "25/25 [==============================] - 0s 10ms/step - loss: 0.4104 - accuracy: 0.8262 - val_loss: 0.3574 - val_accuracy: 0.8500\n",
      "Epoch 88/100\n",
      "25/25 [==============================] - 0s 11ms/step - loss: 0.4078 - accuracy: 0.8275 - val_loss: 0.3647 - val_accuracy: 0.8400\n",
      "Epoch 89/100\n",
      "25/25 [==============================] - 0s 11ms/step - loss: 0.4072 - accuracy: 0.8300 - val_loss: 0.3660 - val_accuracy: 0.8350\n",
      "Epoch 90/100\n",
      "25/25 [==============================] - 0s 10ms/step - loss: 0.4069 - accuracy: 0.8300 - val_loss: 0.3608 - val_accuracy: 0.8400\n",
      "Epoch 91/100\n",
      "25/25 [==============================] - 0s 11ms/step - loss: 0.4079 - accuracy: 0.8287 - val_loss: 0.3660 - val_accuracy: 0.8400\n",
      "Epoch 92/100\n",
      "25/25 [==============================] - 0s 12ms/step - loss: 0.4076 - accuracy: 0.8237 - val_loss: 0.3619 - val_accuracy: 0.8400\n",
      "Epoch 93/100\n",
      "25/25 [==============================] - 0s 11ms/step - loss: 0.4059 - accuracy: 0.8312 - val_loss: 0.3664 - val_accuracy: 0.8400\n",
      "Epoch 94/100\n",
      "25/25 [==============================] - 0s 11ms/step - loss: 0.4073 - accuracy: 0.8250 - val_loss: 0.3662 - val_accuracy: 0.8400\n",
      "Epoch 95/100\n",
      "25/25 [==============================] - 0s 10ms/step - loss: 0.4060 - accuracy: 0.8300 - val_loss: 0.3647 - val_accuracy: 0.8400\n",
      "Epoch 96/100\n",
      "25/25 [==============================] - 0s 10ms/step - loss: 0.4062 - accuracy: 0.8275 - val_loss: 0.3648 - val_accuracy: 0.8400\n",
      "Epoch 97/100\n",
      "25/25 [==============================] - 0s 10ms/step - loss: 0.4053 - accuracy: 0.8275 - val_loss: 0.3633 - val_accuracy: 0.8400\n",
      "Epoch 98/100\n",
      "25/25 [==============================] - 0s 11ms/step - loss: 0.4064 - accuracy: 0.8287 - val_loss: 0.3640 - val_accuracy: 0.8350\n",
      "Epoch 99/100\n",
      "25/25 [==============================] - 0s 11ms/step - loss: 0.4085 - accuracy: 0.8300 - val_loss: 0.3578 - val_accuracy: 0.8400\n",
      "Epoch 100/100\n",
      "25/25 [==============================] - 0s 11ms/step - loss: 0.4090 - accuracy: 0.8262 - val_loss: 0.3653 - val_accuracy: 0.8400\n"
     ]
    }
   ],
   "source": [
    "history = model.fit(\n",
    "    train_X, train_y, validation_data=(test_X, test_y), epochs=100, verbose=1\n",
    ")"
   ]
  },
  {
   "cell_type": "code",
   "execution_count": 7,
   "id": "90589b45-291a-446c-96f8-b1b1d703ba35",
   "metadata": {},
   "outputs": [
    {
     "name": "stdout",
     "output_type": "stream",
     "text": [
      "25/25 [==============================] - 0s 8ms/step - loss: 0.4038 - accuracy: 0.8312\n",
      "7/7 [==============================] - 0s 9ms/step - loss: 0.3653 - accuracy: 0.8400\n",
      "Train: 0.831, Test: 0.840\n"
     ]
    }
   ],
   "source": [
    "_, train_acc = model.evaluate(train_X, train_y)\n",
    "_, test_acc = model.evaluate(test_X, test_y)\n",
    "print(\"Train: %.3f, Test: %.3f\" % (train_acc, test_acc))"
   ]
  },
  {
   "cell_type": "code",
   "execution_count": 8,
   "id": "01f5c9a3-48a3-4638-8db3-d37af2c55b2f",
   "metadata": {},
   "outputs": [
    {
     "data": {
      "image/png": "[encoded data removed]",
      "text/plain": [
       "<Figure size 640x480 with 1 Axes>"
      ]
     },
     "metadata": {},
     "output_type": "display_data"
    }
   ],
   "source": [
    "pyplot.plot(history.history[\"accuracy\"], label=\"train\")\n",
    "pyplot.plot(history.history[\"val_accuracy\"], label=\"test\")\n",
    "pyplot.legend()\n",
    "pyplot.show()"
   ]
  },
  {
   "cell_type": "code",
   "execution_count": null,
   "id": "5bec1862-9055-495e-b5d2-9fc7d06e66c1",
   "metadata": {},
   "outputs": [],
   "source": []
  }
 ],
 "metadata": {
  "kernelspec": {
   "display_name": "Python 3 (ipykernel)",
   "language": "python",
   "name": "python3"
  },
  "language_info": {
   "codemirror_mode": {
    "name": "ipython",
    "version": 3
   },
   "file_extension": ".py",
   "mimetype": "text/x-python",
   "name": "python",
   "nbconvert_exporter": "python",
   "pygments_lexer": "ipython3",
   "version": "3.9.15"
  }
 },
 "nbformat": 4,
 "nbformat_minor": 5
}
