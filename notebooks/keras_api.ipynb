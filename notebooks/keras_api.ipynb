{
 "cells": [
  {
   "cell_type": "markdown",
   "id": "a66a99b6-d5be-4dcd-bfcf-9f9b3ad345c3",
   "metadata": {},
   "source": [
    "## A spectrum of workflows\n",
    "\n",
    "- The Sequential model\n",
    "- The Functional API\n",
    "- Model subclassing"
   ]
  },
  {
   "cell_type": "code",
   "execution_count": 1,
   "id": "d92e036b-e809-4dd6-8acb-fd07482835b3",
   "metadata": {},
   "outputs": [],
   "source": [
    "import numpy as np\n",
    "from tensorflow import keras\n",
    "from tensorflow.keras import layers\n",
    "from tensorflow.keras.datasets import mnist"
   ]
  },
  {
   "cell_type": "markdown",
   "id": "39cbaa5e-f499-4e59-bcc2-5dd5d6e0b0f1",
   "metadata": {},
   "source": [
    "### The Sequential model\n",
    "> simplest way to build a Keras model"
   ]
  },
  {
   "cell_type": "code",
   "execution_count": 2,
   "id": "fbd6f336-e4c6-4ed0-b089-4d4bbdc9f09e",
   "metadata": {},
   "outputs": [
    {
     "name": "stdout",
     "output_type": "stream",
     "text": [
      "Metal device set to: Apple M1 Max\n"
     ]
    },
    {
     "name": "stderr",
     "output_type": "stream",
     "text": [
      "2023-01-28 16:58:33.525303: I tensorflow/core/common_runtime/pluggable_device/pluggable_device_factory.cc:306] Could not identify NUMA node of platform GPU ID 0, defaulting to 0. Your kernel may not have been built with NUMA support.\n",
      "2023-01-28 16:58:33.525448: I tensorflow/core/common_runtime/pluggable_device/pluggable_device_factory.cc:272] Created TensorFlow device (/job:localhost/replica:0/task:0/device:GPU:0 with 0 MB memory) -> physical PluggableDevice (device: 0, name: METAL, pci bus id: <undefined>)\n"
     ]
    }
   ],
   "source": [
    "model = keras.Sequential(\n",
    "    [\n",
    "        layers.Dense(64, activation=\"relu\"),\n",
    "        layers.Dense(10, activation=\"softmax\"),\n",
    "    ]\n",
    ")"
   ]
  },
  {
   "cell_type": "code",
   "execution_count": 3,
   "id": "4855baef-ee49-4497-86f6-5a54743dffdb",
   "metadata": {},
   "outputs": [],
   "source": [
    "model.build(input_shape=(None, 3))"
   ]
  },
  {
   "cell_type": "code",
   "execution_count": 4,
   "id": "8c07931a-efaf-4d0a-bc10-2f757b380553",
   "metadata": {},
   "outputs": [
    {
     "data": {
      "text/plain": [
       "[<tf.Variable 'dense/kernel:0' shape=(3, 64) dtype=float32, numpy=\n",
       " array([[ 0.20725888,  0.21683049, -0.07715575,  0.09229496, -0.2529131 ,\n",
       "          0.26553375, -0.1762295 , -0.20142043,  0.09926239,  0.03032288,\n",
       "         -0.2009872 ,  0.2711398 ,  0.1521006 ,  0.269944  ,  0.02335894,\n",
       "         -0.17188936,  0.20006168,  0.15016308, -0.1912089 , -0.26806962,\n",
       "         -0.01839   ,  0.04699022,  0.15248129, -0.0540563 ,  0.20592189,\n",
       "         -0.11564469,  0.00106144,  0.10974142,  0.21795678, -0.0273574 ,\n",
       "          0.06771627,  0.10840136,  0.21240973, -0.04992108,  0.06027731,\n",
       "         -0.16087112, -0.26859853,  0.01651052,  0.05002952, -0.23915166,\n",
       "          0.09491128,  0.00768206,  0.23525697,  0.25319207, -0.09822287,\n",
       "         -0.08162303,  0.07188997,  0.17533216, -0.1970499 , -0.08166862,\n",
       "         -0.18212822,  0.07585958, -0.15259224, -0.06982102, -0.16411799,\n",
       "         -0.14388515, -0.17763877, -0.16407277,  0.21465397,  0.19485605,\n",
       "          0.00512317, -0.09489615,  0.04081631,  0.25901413],\n",
       "        [ 0.25081676, -0.08306311, -0.10747078, -0.26657626,  0.1677301 ,\n",
       "          0.05664593, -0.0988224 , -0.02348378, -0.11601013,  0.21540564,\n",
       "          0.01562187, -0.12045015, -0.03457105, -0.12788598,  0.235686  ,\n",
       "         -0.27689308,  0.14028665, -0.25124905, -0.29866832, -0.0789074 ,\n",
       "         -0.25963342,  0.1045135 , -0.22003733,  0.18511498, -0.10182934,\n",
       "          0.23403037,  0.06847242,  0.14223951, -0.1836336 ,  0.07896212,\n",
       "          0.20345128,  0.02534425,  0.0336839 ,  0.17223483, -0.246013  ,\n",
       "         -0.08369118,  0.12847567, -0.26886046, -0.15862645, -0.1782953 ,\n",
       "          0.10733935,  0.08173782, -0.01818982,  0.04047674,  0.17023334,\n",
       "          0.05317554, -0.06766304,  0.09554398,  0.09888446, -0.18657851,\n",
       "         -0.17056723, -0.26133865, -0.13707754, -0.09591456, -0.14565592,\n",
       "          0.0934734 , -0.05621229, -0.19016066,  0.29018033,  0.09150615,\n",
       "          0.2909552 ,  0.25989997,  0.2503023 , -0.12053742],\n",
       "        [-0.02494177, -0.24972463,  0.26871932, -0.17561963, -0.20857209,\n",
       "         -0.15599473, -0.21245944, -0.14047538, -0.1047259 , -0.20135187,\n",
       "          0.06336516,  0.01255664,  0.23059213,  0.22991598,  0.06855077,\n",
       "          0.195014  , -0.1486954 ,  0.14007306, -0.19366525, -0.19861041,\n",
       "         -0.2912763 , -0.00200045, -0.0637002 , -0.12686215, -0.06047286,\n",
       "         -0.24695086,  0.20377427,  0.06186956, -0.27354133,  0.115955  ,\n",
       "          0.2085731 , -0.03603816, -0.00686932, -0.05066909,  0.12486321,\n",
       "         -0.05348745,  0.17801076,  0.0563021 ,  0.13286126,  0.13329226,\n",
       "         -0.19337764,  0.2468121 , -0.13827474,  0.10161179, -0.1510425 ,\n",
       "         -0.1919034 , -0.2871461 ,  0.27773786,  0.07076851, -0.13208999,\n",
       "          0.02484596, -0.0877744 , -0.1975882 , -0.13177899, -0.03253829,\n",
       "          0.17724201,  0.13443246,  0.1898042 , -0.16691488,  0.29150355,\n",
       "          0.23221165, -0.06443115,  0.04938042, -0.2980352 ]],\n",
       "       dtype=float32)>,\n",
       " <tf.Variable 'dense/bias:0' shape=(64,) dtype=float32, numpy=\n",
       " array([0., 0., 0., 0., 0., 0., 0., 0., 0., 0., 0., 0., 0., 0., 0., 0., 0.,\n",
       "        0., 0., 0., 0., 0., 0., 0., 0., 0., 0., 0., 0., 0., 0., 0., 0., 0.,\n",
       "        0., 0., 0., 0., 0., 0., 0., 0., 0., 0., 0., 0., 0., 0., 0., 0., 0.,\n",
       "        0., 0., 0., 0., 0., 0., 0., 0., 0., 0., 0., 0., 0.], dtype=float32)>,\n",
       " <tf.Variable 'dense_1/kernel:0' shape=(64, 10) dtype=float32, numpy=\n",
       " array([[-0.10148689, -0.13218735,  0.06998751, -0.11530849,  0.13020986,\n",
       "          0.08491001,  0.1771644 ,  0.03095978,  0.14976797, -0.12352057],\n",
       "        [ 0.161262  ,  0.01048425, -0.19207895,  0.00943249, -0.22817625,\n",
       "         -0.17138472,  0.2535279 ,  0.13158125,  0.04432327, -0.2742089 ],\n",
       "        [ 0.14233133,  0.1646722 ,  0.22894016,  0.20587352,  0.05019927,\n",
       "         -0.2196047 , -0.21030262,  0.2510148 , -0.16917366,  0.07020783],\n",
       "        [-0.02852774,  0.15327287,  0.01195073, -0.27154636, -0.21330419,\n",
       "         -0.24014081, -0.12424827, -0.05219509, -0.1312978 ,  0.14651784],\n",
       "        [ 0.22551808,  0.16428584,  0.26134053, -0.10507163,  0.19343531,\n",
       "         -0.12853879,  0.13403514,  0.139195  ,  0.17398217, -0.04553972],\n",
       "        [-0.20471106, -0.24401952, -0.1604216 , -0.04071063,  0.23373386,\n",
       "         -0.06748296, -0.02289599,  0.18548304,  0.03273007, -0.11854613],\n",
       "        [ 0.08953997, -0.06483603, -0.04544249,  0.07497147,  0.06271592,\n",
       "         -0.10230686, -0.26051128,  0.21009108,  0.10152104, -0.2721131 ],\n",
       "        [-0.23191401, -0.27490008, -0.07957231,  0.13507766, -0.18254521,\n",
       "         -0.09119757,  0.10230055, -0.06124999, -0.1271685 ,  0.168334  ],\n",
       "        [ 0.15653381,  0.07501552,  0.08580664, -0.02018803,  0.00150409,\n",
       "         -0.11093196, -0.26789916, -0.08243912,  0.22359118,  0.02460715],\n",
       "        [ 0.27190772,  0.03982311,  0.25217733, -0.17813107,  0.23048595,\n",
       "          0.22928956, -0.27914715, -0.07337247, -0.07167028, -0.15507641],\n",
       "        [-0.12775637,  0.16661173, -0.00182039, -0.18870473,  0.27638206,\n",
       "          0.11890566,  0.24513742, -0.02094221, -0.02085042, -0.20590082],\n",
       "        [-0.10379274,  0.13855141, -0.01339477,  0.11574936, -0.15553196,\n",
       "          0.2211813 ,  0.08919966,  0.09270674,  0.05765906, -0.09229757],\n",
       "        [ 0.08662441, -0.2500197 , -0.13670476,  0.23964694, -0.11738896,\n",
       "         -0.03776614,  0.21303168, -0.1932556 ,  0.16028976, -0.27983826],\n",
       "        [ 0.08373871,  0.27196297,  0.20103508, -0.02991891,  0.09560016,\n",
       "          0.17507532,  0.15308937, -0.22890389, -0.24412644,  0.15250486],\n",
       "        [-0.15099011, -0.17410573,  0.04462919, -0.10950609, -0.23438178,\n",
       "         -0.2696236 , -0.02300394, -0.16968194, -0.27182424,  0.175073  ],\n",
       "        [-0.11160284,  0.08808559, -0.04953778,  0.2641832 , -0.16553542,\n",
       "         -0.05101347,  0.2495983 ,  0.20992407, -0.09988579,  0.1537587 ],\n",
       "        [ 0.1861212 , -0.26526248,  0.17127019, -0.21604455,  0.00939775,\n",
       "          0.24455032,  0.02689698,  0.22668186, -0.03567068,  0.19841883],\n",
       "        [ 0.0923281 ,  0.1698226 ,  0.23892549, -0.06548627,  0.23412815,\n",
       "          0.130853  , -0.04717089, -0.1220676 , -0.26597187, -0.1530946 ],\n",
       "        [-0.14983545, -0.16651654, -0.08228868,  0.0672577 , -0.1109955 ,\n",
       "         -0.06037498, -0.10825258, -0.23129317,  0.20850205,  0.16784886],\n",
       "        [ 0.02499586, -0.18161581, -0.23368469,  0.1877572 ,  0.2532352 ,\n",
       "         -0.19460246, -0.18740079, -0.12526226,  0.16113132,  0.0707593 ],\n",
       "        [ 0.09098834,  0.27453193,  0.14708066, -0.2622442 , -0.013888  ,\n",
       "         -0.02723208,  0.21483678, -0.24780855,  0.11514109, -0.01139525],\n",
       "        [-0.16075785,  0.07429555,  0.19425595, -0.25674498, -0.1010877 ,\n",
       "          0.1237613 ,  0.09837052, -0.08268447,  0.14642647,  0.12298167],\n",
       "        [ 0.22273561,  0.150633  , -0.00200075, -0.09996407, -0.06760848,\n",
       "         -0.16142234,  0.00517946, -0.01865721, -0.0501629 ,  0.06725004],\n",
       "        [ 0.14752269, -0.17204306, -0.15773441,  0.20679039, -0.2585959 ,\n",
       "          0.27243313, -0.0652321 ,  0.12855536,  0.06362474, -0.21095407],\n",
       "        [-0.17344286, -0.15967746,  0.23452571, -0.0268544 , -0.18180434,\n",
       "          0.2746894 ,  0.25346598, -0.27498767, -0.22391187,  0.09915152],\n",
       "        [-0.06864576, -0.2069347 , -0.19637904,  0.16340593,  0.08328483,\n",
       "          0.10055369,  0.26590064, -0.23255631, -0.01717567,  0.06466943],\n",
       "        [ 0.02693906, -0.19446728, -0.05497827,  0.10342267, -0.24079071,\n",
       "          0.2596266 ,  0.25083724, -0.1548682 , -0.07049553,  0.03776479],\n",
       "        [ 0.25820252,  0.27207825,  0.04941496,  0.16940325, -0.18293965,\n",
       "          0.07328048,  0.1975441 , -0.20478764, -0.11884043, -0.06184001],\n",
       "        [ 0.08236444,  0.06524479, -0.11963364,  0.21498758,  0.25096938,\n",
       "          0.13775846, -0.03511298,  0.10130483, -0.27494386,  0.05553705],\n",
       "        [ 0.27996847, -0.1932947 ,  0.0982576 ,  0.14189744, -0.23729625,\n",
       "          0.04910755, -0.16766332,  0.2566372 , -0.25637397,  0.1625182 ],\n",
       "        [-0.02937695,  0.28333393,  0.15609795,  0.07879579, -0.21383183,\n",
       "         -0.10835692, -0.02232531,  0.00654805, -0.15054543,  0.23927048],\n",
       "        [ 0.00142473,  0.09591585, -0.0213742 , -0.06683958, -0.14305672,\n",
       "          0.28197822, -0.27202058, -0.16301456,  0.14674845,  0.09647205],\n",
       "        [-0.10715224,  0.09488469, -0.28013793,  0.03664869,  0.06661311,\n",
       "         -0.22838385, -0.00182295, -0.11601435, -0.06231157,  0.09409446],\n",
       "        [-0.2799145 ,  0.15993991,  0.23299208,  0.15722027, -0.20766784,\n",
       "          0.23940971, -0.11268003,  0.25267884,  0.18793574,  0.19541168],\n",
       "        [ 0.2495099 ,  0.17806733, -0.09103388, -0.22617976,  0.2102435 ,\n",
       "         -0.12080093, -0.0994653 ,  0.2837256 , -0.11412349, -0.27344596],\n",
       "        [-0.14788419,  0.06341633, -0.11318514,  0.2438139 ,  0.10854009,\n",
       "          0.19368792,  0.13805169, -0.08610602,  0.16705802,  0.20046645],\n",
       "        [-0.01863772,  0.21395388,  0.11627665, -0.04679315,  0.24040893,\n",
       "         -0.20827368,  0.01845449,  0.20928544,  0.25882557, -0.06473663],\n",
       "        [ 0.03842828, -0.11024465, -0.23412238, -0.04605615,  0.04195294,\n",
       "          0.11180609,  0.266161  , -0.13855867,  0.2711315 , -0.00215453],\n",
       "        [-0.05184029,  0.17084712, -0.24832423,  0.10921994, -0.23072758,\n",
       "          0.22136113,  0.04784977, -0.06664622, -0.28078368, -0.11594421],\n",
       "        [ 0.05302992,  0.1408337 ,  0.09041214, -0.19852358, -0.11594787,\n",
       "          0.27262035,  0.07572803, -0.03207242, -0.21549335, -0.12908849],\n",
       "        [-0.04322647, -0.2511774 ,  0.19257054, -0.14764541,  0.24013838,\n",
       "         -0.00936407,  0.16838226, -0.23513392, -0.24738172, -0.20471874],\n",
       "        [ 0.25381705, -0.17495923,  0.2680399 ,  0.1763891 , -0.23316732,\n",
       "         -0.19343027,  0.14889485,  0.16480118, -0.16086185,  0.23910448],\n",
       "        [-0.07049465, -0.03778014,  0.13257745,  0.26881054, -0.27284434,\n",
       "         -0.0646587 ,  0.13112739,  0.28420672, -0.25115657, -0.16919342],\n",
       "        [ 0.08939272,  0.0981549 , -0.2594685 , -0.03421378, -0.01497471,\n",
       "         -0.21291159, -0.16563433, -0.00993645,  0.03113428,  0.05275577],\n",
       "        [ 0.10230827,  0.09580681,  0.18925387,  0.15958893,  0.17656323,\n",
       "          0.17623723, -0.13828263, -0.07979478,  0.06426075,  0.26054427],\n",
       "        [ 0.03992122, -0.01315391, -0.06493156,  0.19444638, -0.06414554,\n",
       "          0.2248325 ,  0.24282834,  0.15116853, -0.18518563, -0.04693381],\n",
       "        [ 0.19874945,  0.09731105,  0.00997174, -0.10103883,  0.01831579,\n",
       "          0.02358595, -0.00476602,  0.02640137,  0.16633466,  0.16000727],\n",
       "        [ 0.20040223, -0.1496588 ,  0.13135198,  0.09975395,  0.05635384,\n",
       "          0.02426043,  0.26859018,  0.23986432, -0.2729216 , -0.20927131],\n",
       "        [-0.1559976 , -0.19564041, -0.03888264,  0.162759  , -0.00258461,\n",
       "         -0.03504854,  0.10786223,  0.2485098 , -0.16618091, -0.21923552],\n",
       "        [-0.02127114, -0.26810846, -0.04890803,  0.06596333,  0.20300809,\n",
       "          0.1416502 ,  0.02742624, -0.04824957, -0.1437141 ,  0.07569665],\n",
       "        [-0.08042689,  0.17405745,  0.0987896 , -0.02955651,  0.20910275,\n",
       "         -0.10998166, -0.1750018 ,  0.09434965, -0.02147704,  0.06753314],\n",
       "        [ 0.17025724, -0.1642369 ,  0.13999826, -0.02087772,  0.09565571,\n",
       "          0.08861628, -0.10448487,  0.17244402,  0.2502537 ,  0.14357853],\n",
       "        [-0.04115218, -0.1453002 , -0.08459148,  0.28245768,  0.03030488,\n",
       "         -0.16742244, -0.02080902, -0.14409937, -0.20202327,  0.27507582],\n",
       "        [ 0.17809379, -0.13945474, -0.19277623, -0.23859918,  0.25960478,\n",
       "          0.12166366,  0.13240242,  0.17775726, -0.07664289, -0.20403889],\n",
       "        [ 0.0987733 ,  0.08353513,  0.263257  , -0.28233406, -0.25854045,\n",
       "          0.06827164, -0.01377782,  0.15964073,  0.18422467, -0.07135569],\n",
       "        [ 0.03242293, -0.14455579,  0.17660064,  0.10010922, -0.20149842,\n",
       "          0.08510104, -0.14434512,  0.22907642,  0.25951675, -0.09352425],\n",
       "        [-0.17941552, -0.22852296,  0.20508555,  0.21966103, -0.22253725,\n",
       "          0.19959033,  0.16366139, -0.07529692,  0.25882605, -0.04845318],\n",
       "        [ 0.01850474,  0.20819277,  0.03385174,  0.1582647 , -0.06408647,\n",
       "          0.0990718 ,  0.21090657,  0.23242441,  0.19984478,  0.15334037],\n",
       "        [-0.00132513, -0.10646045, -0.15499964, -0.0809436 ,  0.2652528 ,\n",
       "         -0.05731222,  0.12301046, -0.1620984 ,  0.17191184, -0.03557883],\n",
       "        [-0.04530413,  0.06329033, -0.010645  , -0.10755055,  0.21346945,\n",
       "          0.0997968 , -0.06026568,  0.02043897,  0.04812974,  0.1756081 ],\n",
       "        [-0.13867605, -0.27869087,  0.07692817,  0.26175955,  0.15032691,\n",
       "         -0.1389009 ,  0.12201804, -0.21051158,  0.08432204, -0.13496068],\n",
       "        [-0.08769238, -0.05872907,  0.04856214, -0.11844206,  0.23549905,\n",
       "         -0.02746668,  0.14260778, -0.22895893, -0.16802694, -0.16840285],\n",
       "        [-0.12560754,  0.21168566, -0.09392738, -0.03477597,  0.16444525,\n",
       "          0.04168165, -0.26703444,  0.22833547,  0.26840243, -0.22825222],\n",
       "        [ 0.26297483,  0.18552786,  0.04986113,  0.2463862 , -0.05714583,\n",
       "         -0.21171246, -0.19189307, -0.05967557,  0.01793805,  0.25097993]],\n",
       "       dtype=float32)>,\n",
       " <tf.Variable 'dense_1/bias:0' shape=(10,) dtype=float32, numpy=array([0., 0., 0., 0., 0., 0., 0., 0., 0., 0.], dtype=float32)>]"
      ]
     },
     "execution_count": 4,
     "metadata": {},
     "output_type": "execute_result"
    }
   ],
   "source": [
    "model.weights"
   ]
  },
  {
   "cell_type": "code",
   "execution_count": 5,
   "id": "062fd518-3bce-4cde-8813-65b7f686283a",
   "metadata": {},
   "outputs": [
    {
     "name": "stdout",
     "output_type": "stream",
     "text": [
      "Model: \"sequential\"\n",
      "_________________________________________________________________\n",
      " Layer (type)                Output Shape              Param #   \n",
      "=================================================================\n",
      " dense (Dense)               (None, 64)                256       \n",
      "                                                                 \n",
      " dense_1 (Dense)             (None, 10)                650       \n",
      "                                                                 \n",
      "=================================================================\n",
      "Total params: 906\n",
      "Trainable params: 906\n",
      "Non-trainable params: 0\n",
      "_________________________________________________________________\n"
     ]
    }
   ],
   "source": [
    "model.summary()"
   ]
  },
  {
   "cell_type": "code",
   "execution_count": 6,
   "id": "1e8a8b89-2e34-45a2-9da2-647e8299056f",
   "metadata": {},
   "outputs": [],
   "source": [
    "model = keras.Sequential(\n",
    "    [\n",
    "        keras.Input(shape=(3,)),\n",
    "        layers.Dense(64, activation=\"relu\"),\n",
    "        layers.Dense(10, activation=\"softmax\"),\n",
    "    ]\n",
    ")"
   ]
  },
  {
   "cell_type": "code",
   "execution_count": 7,
   "id": "a54a0889-7737-41c8-b8ad-63af93e2bf04",
   "metadata": {},
   "outputs": [
    {
     "name": "stdout",
     "output_type": "stream",
     "text": [
      "Model: \"sequential_1\"\n",
      "_________________________________________________________________\n",
      " Layer (type)                Output Shape              Param #   \n",
      "=================================================================\n",
      " dense_2 (Dense)             (None, 64)                256       \n",
      "                                                                 \n",
      " dense_3 (Dense)             (None, 10)                650       \n",
      "                                                                 \n",
      "=================================================================\n",
      "Total params: 906\n",
      "Trainable params: 906\n",
      "Non-trainable params: 0\n",
      "_________________________________________________________________\n"
     ]
    }
   ],
   "source": [
    "model.summary()"
   ]
  },
  {
   "cell_type": "code",
   "execution_count": 8,
   "id": "374fe0a1-9efa-4563-beea-d1722dd4e57f",
   "metadata": {},
   "outputs": [
    {
     "data": {
      "text/plain": [
       "\u001b[0;31mSignature:\u001b[0m \u001b[0mmodel\u001b[0m\u001b[0;34m.\u001b[0m\u001b[0madd\u001b[0m\u001b[0;34m(\u001b[0m\u001b[0mlayer\u001b[0m\u001b[0;34m)\u001b[0m\u001b[0;34m\u001b[0m\u001b[0;34m\u001b[0m\u001b[0m\n",
       "\u001b[0;31mDocstring:\u001b[0m\n",
       "Adds a layer instance on top of the layer stack.\n",
       "\n",
       "Args:\n",
       "    layer: layer instance.\n",
       "\n",
       "Raises:\n",
       "    TypeError: If `layer` is not a layer instance.\n",
       "    ValueError: In case the `layer` argument does not\n",
       "        know its input shape.\n",
       "    ValueError: In case the `layer` argument has\n",
       "        multiple output tensors, or is already connected\n",
       "        somewhere else (forbidden in `Sequential` models).\n",
       "\u001b[0;31mFile:\u001b[0m      /opt/homebrew/Caskroom/miniconda/base/envs/ml-playground/lib/python3.9/site-packages/keras/engine/sequential.py\n",
       "\u001b[0;31mType:\u001b[0m      method\n"
      ]
     },
     "metadata": {},
     "output_type": "display_data"
    }
   ],
   "source": [
    "model.add?"
   ]
  },
  {
   "cell_type": "markdown",
   "id": "6faf9aa2-48e5-4a89-b5af-24bc57bf9391",
   "metadata": {},
   "source": [
    "### The Functional API\n",
    "> most common in the wild"
   ]
  },
  {
   "cell_type": "code",
   "execution_count": 9,
   "id": "b2ef945e-ba41-49d2-8c45-80f89a06b1fd",
   "metadata": {},
   "outputs": [],
   "source": [
    "inputs = keras.Input(shape=(3,), name=\"my_input\")\n",
    "features = layers.Dense(64, activation=\"relu\")(inputs)\n",
    "outputs = layers.Dense(10, activation=\"softmax\")(features)\n",
    "model = keras.Model(inputs=inputs, outputs=outputs)"
   ]
  },
  {
   "cell_type": "code",
   "execution_count": 10,
   "id": "efdccc9b-aeb1-4755-afd5-b7f45550b4f2",
   "metadata": {},
   "outputs": [
    {
     "name": "stdout",
     "output_type": "stream",
     "text": [
      "Model: \"model\"\n",
      "_________________________________________________________________\n",
      " Layer (type)                Output Shape              Param #   \n",
      "=================================================================\n",
      " my_input (InputLayer)       [(None, 3)]               0         \n",
      "                                                                 \n",
      " dense_4 (Dense)             (None, 64)                256       \n",
      "                                                                 \n",
      " dense_5 (Dense)             (None, 10)                650       \n",
      "                                                                 \n",
      "=================================================================\n",
      "Total params: 906\n",
      "Trainable params: 906\n",
      "Non-trainable params: 0\n",
      "_________________________________________________________________\n"
     ]
    }
   ],
   "source": [
    "model.summary()"
   ]
  },
  {
   "cell_type": "markdown",
   "id": "814bcd2a-9756-49c4-b771-4f9312da6b71",
   "metadata": {},
   "source": [
    "#### multi-input, multi-output models"
   ]
  },
  {
   "cell_type": "code",
   "execution_count": 11,
   "id": "311434d3-d2a4-41e2-82ff-8c8a2ec7e559",
   "metadata": {},
   "outputs": [],
   "source": [
    "vocabulary_size = 10000\n",
    "num_tags = 100\n",
    "num_departments = 4\n",
    "\n",
    "title = keras.Input(shape=(vocabulary_size,), name=\"title\")\n",
    "text_body = keras.Input(shape=(vocabulary_size,), name=\"text_body\")\n",
    "tags = keras.Input(shape=(num_tags,), name=\"tags\")\n",
    "\n",
    "features = layers.Concatenate()([title, text_body, tags])\n",
    "features = layers.Dense(64, activation=\"relu\")(features)\n",
    "\n",
    "priority = layers.Dense(1, activation=\"sigmoid\", name=\"priority\")(features)\n",
    "department = layers.Dense(num_departments, activation=\"softmax\", name=\"department\")(\n",
    "    features\n",
    ")\n",
    "model = keras.Model(inputs=[title, text_body, tags], outputs=[priority, department])"
   ]
  },
  {
   "cell_type": "code",
   "execution_count": 12,
   "id": "8eb01077-a41b-4359-8215-8b849cd1d60b",
   "metadata": {},
   "outputs": [
    {
     "name": "stderr",
     "output_type": "stream",
     "text": [
      "2023-01-28 16:58:33.898194: W tensorflow/core/platform/profile_utils/cpu_utils.cc:128] Failed to get CPU frequency: 0 Hz\n"
     ]
    },
    {
     "name": "stdout",
     "output_type": "stream",
     "text": [
      " 1/40 [..............................] - ETA: 16s - loss: 3.2578 - priority_loss: 0.1160 - department_loss: 3.1417 - priority_mean_absolute_error: 0.2770 - department_accuracy: 0.1562"
     ]
    },
    {
     "name": "stderr",
     "output_type": "stream",
     "text": [
      "2023-01-28 16:58:34.162736: I tensorflow/core/grappler/optimizers/custom_graph_optimizer_registry.cc:114] Plugin optimizer for device_type GPU is enabled.\n"
     ]
    },
    {
     "name": "stdout",
     "output_type": "stream",
     "text": [
      "40/40 [==============================] - 1s 10ms/step - loss: 39.7170 - priority_loss: 0.3374 - department_loss: 39.3796 - priority_mean_absolute_error: 0.5075 - department_accuracy: 0.1406\n",
      "15/40 [==========>...................] - ETA: 0s - loss: 6.4649 - priority_loss: 0.3530 - department_loss: 6.1119 - priority_mean_absolute_error: 0.5206 - department_accuracy: 0.0917"
     ]
    },
    {
     "name": "stderr",
     "output_type": "stream",
     "text": [
      "2023-01-28 16:58:34.864095: I tensorflow/core/grappler/optimizers/custom_graph_optimizer_registry.cc:114] Plugin optimizer for device_type GPU is enabled.\n"
     ]
    },
    {
     "name": "stdout",
     "output_type": "stream",
     "text": [
      "40/40 [==============================] - 0s 8ms/step - loss: 6.3650 - priority_loss: 0.3438 - department_loss: 6.0211 - priority_mean_absolute_error: 0.5140 - department_accuracy: 0.1133\n",
      "40/40 [==============================] - 0s 3ms/step\n"
     ]
    },
    {
     "name": "stderr",
     "output_type": "stream",
     "text": [
      "2023-01-28 16:58:35.288463: I tensorflow/core/grappler/optimizers/custom_graph_optimizer_registry.cc:114] Plugin optimizer for device_type GPU is enabled.\n"
     ]
    }
   ],
   "source": [
    "num_samples = 1280\n",
    "\n",
    "title_data = np.random.randint(0, 2, size=(num_samples, vocabulary_size))\n",
    "text_body_data = np.random.randint(0, 2, size=(num_samples, vocabulary_size))\n",
    "tags_data = np.random.randint(0, 2, size=(num_samples, num_tags))\n",
    "\n",
    "priority_data = np.random.random(size=(num_samples, 1))\n",
    "department_data = np.random.randint(0, 2, size=(num_samples, num_departments))\n",
    "\n",
    "model.compile(\n",
    "    optimizer=\"rmsprop\",\n",
    "    loss=[\"mean_squared_error\", \"categorical_crossentropy\"],\n",
    "    metrics=[[\"mean_absolute_error\"], [\"accuracy\"]],\n",
    ")\n",
    "\n",
    "model.fit(\n",
    "    [title_data, text_body_data, tags_data], [priority_data, department_data], epochs=1\n",
    ")\n",
    "model.evaluate(\n",
    "    [title_data, text_body_data, tags_data], [priority_data, department_data]\n",
    ")\n",
    "priority_preds, department_preds = model.predict(\n",
    "    [title_data, text_body_data, tags_data]\n",
    ")"
   ]
  },
  {
   "cell_type": "code",
   "execution_count": 13,
   "id": "0100e880-f9a8-4715-9237-64f8521c7cf4",
   "metadata": {},
   "outputs": [
    {
     "data": {
      "image/png": "[encoded data removed]",
      "text/plain": [
       "<IPython.core.display.Image object>"
      ]
     },
     "execution_count": 13,
     "metadata": {},
     "output_type": "execute_result"
    }
   ],
   "source": [
    "keras.utils.plot_model(model, \"./assets/ticket_classifier.png\")"
   ]
  },
  {
   "cell_type": "code",
   "execution_count": 14,
   "id": "2c08a53f-a6ed-4427-9376-65e3849d2a71",
   "metadata": {},
   "outputs": [
    {
     "data": {
      "image/png": "[encoded data removed]",
      "text/plain": [
       "<IPython.core.display.Image object>"
      ]
     },
     "execution_count": 14,
     "metadata": {},
     "output_type": "execute_result"
    }
   ],
   "source": [
    "keras.utils.plot_model(\n",
    "    model, \"./assets/ticket_classifier_with_shape_info.png\", show_shapes=True\n",
    ")"
   ]
  },
  {
   "cell_type": "code",
   "execution_count": 15,
   "id": "7fa941c7-d7a2-4e65-b591-a900560b9a18",
   "metadata": {},
   "outputs": [
    {
     "data": {
      "text/plain": [
       "[<keras.engine.input_layer.InputLayer at 0x29dac4cd0>,\n",
       " <keras.engine.input_layer.InputLayer at 0x29dac4c70>,\n",
       " <keras.engine.input_layer.InputLayer at 0x29dac4af0>,\n",
       " <keras.layers.merging.concatenate.Concatenate at 0x29daa44c0>,\n",
       " <keras.layers.core.dense.Dense at 0x29daa4700>,\n",
       " <keras.layers.core.dense.Dense at 0x29daa41c0>,\n",
       " <keras.layers.core.dense.Dense at 0x29c2fb430>]"
      ]
     },
     "execution_count": 15,
     "metadata": {},
     "output_type": "execute_result"
    }
   ],
   "source": [
    "model.layers"
   ]
  },
  {
   "cell_type": "code",
   "execution_count": 16,
   "id": "64c57260-cb79-4061-be93-f9aa12867579",
   "metadata": {},
   "outputs": [
    {
     "name": "stdout",
     "output_type": "stream",
     "text": [
      "Model: \"model_1\"\n",
      "__________________________________________________________________________________________________\n",
      " Layer (type)                   Output Shape         Param #     Connected to                     \n",
      "==================================================================================================\n",
      " title (InputLayer)             [(None, 10000)]      0           []                               \n",
      "                                                                                                  \n",
      " text_body (InputLayer)         [(None, 10000)]      0           []                               \n",
      "                                                                                                  \n",
      " tags (InputLayer)              [(None, 100)]        0           []                               \n",
      "                                                                                                  \n",
      " concatenate (Concatenate)      (None, 20100)        0           ['title[0][0]',                  \n",
      "                                                                  'text_body[0][0]',              \n",
      "                                                                  'tags[0][0]']                   \n",
      "                                                                                                  \n",
      " dense_6 (Dense)                (None, 64)           1286464     ['concatenate[0][0]']            \n",
      "                                                                                                  \n",
      " priority (Dense)               (None, 1)            65          ['dense_6[0][0]']                \n",
      "                                                                                                  \n",
      " department (Dense)             (None, 4)            260         ['dense_6[0][0]']                \n",
      "                                                                                                  \n",
      "==================================================================================================\n",
      "Total params: 1,286,789\n",
      "Trainable params: 1,286,789\n",
      "Non-trainable params: 0\n",
      "__________________________________________________________________________________________________\n"
     ]
    }
   ],
   "source": [
    "model.summary()"
   ]
  },
  {
   "cell_type": "markdown",
   "id": "c4a790e0-31a3-4f31-afe8-e4843d7aa341",
   "metadata": {},
   "source": [
    "extend the model using existing intermediate layer outputs"
   ]
  },
  {
   "cell_type": "code",
   "execution_count": 17,
   "id": "8c3e4fca-aa41-4e4b-8c6c-585e0af88a7d",
   "metadata": {},
   "outputs": [],
   "source": [
    "features = model.layers[4].output\n",
    "difficulty = layers.Dense(3, activation=\"softmax\", name=\"difficulty\")(features)\n",
    "\n",
    "new_model = keras.Model(\n",
    "    inputs=[title, text_body, tags], outputs=[priority, department, difficulty]\n",
    ")"
   ]
  },
  {
   "cell_type": "code",
   "execution_count": 18,
   "id": "b91fa44f-b28c-4185-a8fc-d98bf1185169",
   "metadata": {},
   "outputs": [
    {
     "data": {
      "image/png": "[encoded data removed]",
      "text/plain": [
       "<IPython.core.display.Image object>"
      ]
     },
     "execution_count": 18,
     "metadata": {},
     "output_type": "execute_result"
    }
   ],
   "source": [
    "keras.utils.plot_model(\n",
    "    new_model, \"./assets/updated_ticket_classifier.png\", show_shapes=True\n",
    ")"
   ]
  },
  {
   "cell_type": "markdown",
   "id": "58075ade-9c32-4672-977d-698612aaf1a1",
   "metadata": {},
   "source": [
    "### Subclassing the Model class\n",
    "> most advanced"
   ]
  },
  {
   "cell_type": "code",
   "execution_count": 19,
   "id": "76a13dbd-a6b3-44e9-8fd7-a49f718772e0",
   "metadata": {},
   "outputs": [],
   "source": [
    "class CustomerTicketModel(keras.Model):\n",
    "    def __init__(self, num_departments):\n",
    "        super().__init__()\n",
    "        self.concat_layer = layers.Concatenate()\n",
    "        self.mixing_layer = layers.Dense(64, activation=\"relu\")\n",
    "        self.priority_scorer = layers.Dense(1, activation=\"sigmoid\")\n",
    "        self.department_classifier = layers.Dense(num_departments, activation=\"softmax\")\n",
    "\n",
    "    def call(self, inputs):\n",
    "        title = inputs[\"title\"]\n",
    "        text_body = inputs[\"text_body\"]\n",
    "        tags = inputs[\"tags\"]\n",
    "\n",
    "        features = self.concat_layer([title, text_body, tags])\n",
    "        features = self.mixing_layer(features)\n",
    "        priority = self.priority_scorer(features)\n",
    "        department = self.department_classifier(features)\n",
    "        return priority, department"
   ]
  },
  {
   "cell_type": "code",
   "execution_count": 20,
   "id": "74e2c977-4dbf-4dc3-b9c4-16c644954dbb",
   "metadata": {},
   "outputs": [],
   "source": [
    "model = CustomerTicketModel(num_departments=4)\n",
    "priority, department = model(\n",
    "    {\"title\": title_data, \"text_body\": text_body_data, \"tags\": tags_data}\n",
    ")"
   ]
  },
  {
   "cell_type": "code",
   "execution_count": 21,
   "id": "7c08f394-0fb0-4553-920e-0947c739fe29",
   "metadata": {},
   "outputs": [
    {
     "name": "stdout",
     "output_type": "stream",
     "text": [
      " 5/40 [==>...........................] - ETA: 0s - loss: 47.0786 - output_1_loss: 0.2568 - output_2_loss: 46.8218 - output_1_mean_absolute_error: 0.4234 - output_2_accuracy: 0.3250"
     ]
    },
    {
     "name": "stderr",
     "output_type": "stream",
     "text": [
      "2023-01-28 16:58:36.908488: I tensorflow/core/grappler/optimizers/custom_graph_optimizer_registry.cc:114] Plugin optimizer for device_type GPU is enabled.\n"
     ]
    },
    {
     "name": "stdout",
     "output_type": "stream",
     "text": [
      "40/40 [==============================] - 1s 11ms/step - loss: 33.4926 - output_1_loss: 0.3326 - output_2_loss: 33.1600 - output_1_mean_absolute_error: 0.5013 - output_2_accuracy: 0.2688\n",
      "15/40 [==========>...................] - ETA: 0s - loss: 35.0910 - output_1_loss: 0.3530 - output_2_loss: 34.7380 - output_1_mean_absolute_error: 0.5206 - output_2_accuracy: 0.3042"
     ]
    },
    {
     "name": "stderr",
     "output_type": "stream",
     "text": [
      "2023-01-28 16:58:37.558902: I tensorflow/core/grappler/optimizers/custom_graph_optimizer_registry.cc:114] Plugin optimizer for device_type GPU is enabled.\n"
     ]
    },
    {
     "name": "stdout",
     "output_type": "stream",
     "text": [
      "40/40 [==============================] - 0s 8ms/step - loss: 35.1931 - output_1_loss: 0.3438 - output_2_loss: 34.8493 - output_1_mean_absolute_error: 0.5140 - output_2_accuracy: 0.2805\n",
      "40/40 [==============================] - 0s 3ms/step\n"
     ]
    },
    {
     "name": "stderr",
     "output_type": "stream",
     "text": [
      "2023-01-28 16:58:37.993392: I tensorflow/core/grappler/optimizers/custom_graph_optimizer_registry.cc:114] Plugin optimizer for device_type GPU is enabled.\n"
     ]
    }
   ],
   "source": [
    "model.compile(\n",
    "    optimizer=\"rmsprop\",\n",
    "    loss=[\"mean_squared_error\", \"categorical_crossentropy\"],\n",
    "    metrics=[[\"mean_absolute_error\"], [\"accuracy\"]],\n",
    ")\n",
    "\n",
    "model.fit(\n",
    "    {\"title\": title_data, \"text_body\": text_body_data, \"tags\": tags_data},\n",
    "    [priority_data, department_data],\n",
    "    epochs=1,\n",
    ")\n",
    "\n",
    "model.evaluate(\n",
    "    {\"title\": title_data, \"text_body\": text_body_data, \"tags\": tags_data},\n",
    "    [priority_data, department_data],\n",
    ")\n",
    "\n",
    "priority_preds, department_preds = model.predict(\n",
    "    {\"title\": title_data, \"text_body\": text_body_data, \"tags\": tags_data}\n",
    ")"
   ]
  },
  {
   "cell_type": "code",
   "execution_count": 22,
   "id": "d125e967-a165-46f1-a96c-da167731442d",
   "metadata": {},
   "outputs": [
    {
     "name": "stdout",
     "output_type": "stream",
     "text": [
      "Model: \"customer_ticket_model\"\n",
      "_________________________________________________________________\n",
      " Layer (type)                Output Shape              Param #   \n",
      "=================================================================\n",
      " concatenate_1 (Concatenate)  multiple                 0         \n",
      "                                                                 \n",
      " dense_7 (Dense)             multiple                  1286464   \n",
      "                                                                 \n",
      " dense_8 (Dense)             multiple                  65        \n",
      "                                                                 \n",
      " dense_9 (Dense)             multiple                  260       \n",
      "                                                                 \n",
      "=================================================================\n",
      "Total params: 1,286,789\n",
      "Trainable params: 1,286,789\n",
      "Non-trainable params: 0\n",
      "_________________________________________________________________\n"
     ]
    }
   ],
   "source": [
    "model.summary()"
   ]
  },
  {
   "cell_type": "code",
   "execution_count": 23,
   "id": "2ac2a64d-137a-40e5-84f0-1ad8c76b89c2",
   "metadata": {},
   "outputs": [
    {
     "data": {
      "image/png": "[encoded data removed]",
      "text/plain": [
       "<IPython.core.display.Image object>"
      ]
     },
     "execution_count": 23,
     "metadata": {},
     "output_type": "execute_result"
    }
   ],
   "source": [
    "keras.utils.plot_model(\n",
    "    model, \"./assets/customer_ticket_classifier.png\", show_shapes=True\n",
    ")"
   ]
  },
  {
   "cell_type": "markdown",
   "id": "40375622-353f-400b-be24-e637e2629023",
   "metadata": {},
   "source": [
    "### mixing and matching different components"
   ]
  },
  {
   "cell_type": "code",
   "execution_count": 24,
   "id": "60a98d9e-3360-4c11-bbea-8cca01499a6e",
   "metadata": {},
   "outputs": [],
   "source": [
    "class Classifier(keras.Model):\n",
    "    def __init__(self, num_classes=2):\n",
    "        super().__init__()\n",
    "        if num_classes == 2:\n",
    "            num_units = 1\n",
    "            activation = \"sigmoid\"\n",
    "        else:\n",
    "            num_units = num_classes\n",
    "\n",
    "            activation = \"softmax\"\n",
    "        self.dense = layers.Dense(num_units, activation=activation)\n",
    "\n",
    "    def call(self, inputs):\n",
    "        return self.dense(inputs)"
   ]
  },
  {
   "cell_type": "code",
   "execution_count": 25,
   "id": "71fa89d5-91ed-483d-9d2d-edeb81c512df",
   "metadata": {},
   "outputs": [],
   "source": [
    "inputs = keras.Input(shape=(3,))\n",
    "features = layers.Dense(64, activation=\"relu\")(inputs)\n",
    "outputs = Classifier(num_classes=10)(features)\n",
    "model = keras.Model(inputs=inputs, outputs=outputs)"
   ]
  },
  {
   "cell_type": "code",
   "execution_count": 26,
   "id": "8665ccf4-eb06-4345-9b66-2a88decf1509",
   "metadata": {},
   "outputs": [
    {
     "name": "stdout",
     "output_type": "stream",
     "text": [
      "Model: \"model_3\"\n",
      "_________________________________________________________________\n",
      " Layer (type)                Output Shape              Param #   \n",
      "=================================================================\n",
      " input_2 (InputLayer)        [(None, 3)]               0         \n",
      "                                                                 \n",
      " dense_10 (Dense)            (None, 64)                256       \n",
      "                                                                 \n",
      " classifier (Classifier)     (None, 10)                650       \n",
      "                                                                 \n",
      "=================================================================\n",
      "Total params: 906\n",
      "Trainable params: 906\n",
      "Non-trainable params: 0\n",
      "_________________________________________________________________\n"
     ]
    }
   ],
   "source": [
    "model.summary()"
   ]
  },
  {
   "cell_type": "markdown",
   "id": "3a5e0deb-b2ad-4cf5-8356-7c3a1fe988ce",
   "metadata": {},
   "source": [
    "### the standard workflow"
   ]
  },
  {
   "cell_type": "code",
   "execution_count": 27,
   "id": "7f22174f-0b16-40c4-82bc-f73acf157e29",
   "metadata": {},
   "outputs": [
    {
     "name": "stdout",
     "output_type": "stream",
     "text": [
      "Epoch 1/3\n",
      "   8/1563 [..............................] - ETA: 11s - loss: 1.8388 - accuracy: 0.3672 "
     ]
    },
    {
     "name": "stderr",
     "output_type": "stream",
     "text": [
      "2023-01-28 16:58:38.951968: I tensorflow/core/grappler/optimizers/custom_graph_optimizer_registry.cc:114] Plugin optimizer for device_type GPU is enabled.\n"
     ]
    },
    {
     "name": "stdout",
     "output_type": "stream",
     "text": [
      "1563/1563 [==============================] - ETA: 0s - loss: 0.2808 - accuracy: 0.9167"
     ]
    },
    {
     "name": "stderr",
     "output_type": "stream",
     "text": [
      "2023-01-28 16:58:48.839019: I tensorflow/core/grappler/optimizers/custom_graph_optimizer_registry.cc:114] Plugin optimizer for device_type GPU is enabled.\n"
     ]
    },
    {
     "name": "stdout",
     "output_type": "stream",
     "text": [
      "1563/1563 [==============================] - 11s 7ms/step - loss: 0.2808 - accuracy: 0.9167 - val_loss: 0.1461 - val_accuracy: 0.9576\n",
      "Epoch 2/3\n",
      "1563/1563 [==============================] - 10s 7ms/step - loss: 0.1543 - accuracy: 0.9564 - val_loss: 0.1269 - val_accuracy: 0.9648\n",
      "Epoch 3/3\n",
      "1563/1563 [==============================] - 11s 7ms/step - loss: 0.1290 - accuracy: 0.9651 - val_loss: 0.1188 - val_accuracy: 0.9693\n",
      "313/313 [==============================] - 1s 4ms/step - loss: 0.1112 - accuracy: 0.9720\n",
      " 94/313 [========>.....................] - ETA: 0s"
     ]
    },
    {
     "name": "stderr",
     "output_type": "stream",
     "text": [
      "2023-01-28 16:59:12.342469: I tensorflow/core/grappler/optimizers/custom_graph_optimizer_registry.cc:114] Plugin optimizer for device_type GPU is enabled.\n"
     ]
    },
    {
     "name": "stdout",
     "output_type": "stream",
     "text": [
      "313/313 [==============================] - 1s 2ms/step\n"
     ]
    }
   ],
   "source": [
    "def get_mnist_model():\n",
    "    inputs = keras.Input(shape=(28 * 28,))\n",
    "    features = layers.Dense(512, activation=\"relu\")(inputs)\n",
    "    features = layers.Dropout(0.5)(features)\n",
    "    outputs = layers.Dense(10, activation=\"softmax\")(features)\n",
    "    model = keras.Model(inputs, outputs)\n",
    "    return model\n",
    "\n",
    "\n",
    "(images, labels), (test_images, test_labels) = mnist.load_data()\n",
    "\n",
    "images = images.reshape((60000, 28 * 28)).astype(\"float32\") / 255\n",
    "test_images = test_images.reshape((10000, 28 * 28)).astype(\"float32\") / 255\n",
    "train_images, val_images = images[10000:], images[:10000]\n",
    "train_labels, val_labels = labels[10000:], labels[:10000]\n",
    "\n",
    "model = get_mnist_model()\n",
    "model.compile(\n",
    "    optimizer=\"rmsprop\", loss=\"sparse_categorical_crossentropy\", metrics=[\"accuracy\"]\n",
    ")\n",
    "model.fit(\n",
    "    train_images, train_labels, epochs=3, validation_data=(val_images, val_labels)\n",
    ")\n",
    "test_metrics = model.evaluate(test_images, test_labels)\n",
    "predictions = model.predict(test_images)"
   ]
  },
  {
   "cell_type": "markdown",
   "id": "6b4f7e31-12ef-47f9-aef7-3b954430f168",
   "metadata": {},
   "source": [
    "#### callbacks"
   ]
  },
  {
   "cell_type": "code",
   "execution_count": 28,
   "id": "331fad27-9440-400d-a8f5-138068dca1f2",
   "metadata": {},
   "outputs": [
    {
     "name": "stdout",
     "output_type": "stream",
     "text": [
      "Epoch 1/10\n",
      "   8/1563 [..............................] - ETA: 11s - loss: 1.7836 - accuracy: 0.4531 "
     ]
    },
    {
     "name": "stderr",
     "output_type": "stream",
     "text": [
      "2023-01-28 16:59:13.157457: I tensorflow/core/grappler/optimizers/custom_graph_optimizer_registry.cc:114] Plugin optimizer for device_type GPU is enabled.\n"
     ]
    },
    {
     "name": "stdout",
     "output_type": "stream",
     "text": [
      "1563/1563 [==============================] - ETA: 0s - loss: 0.2870 - accuracy: 0.9148"
     ]
    },
    {
     "name": "stderr",
     "output_type": "stream",
     "text": [
      "2023-01-28 16:59:22.577763: I tensorflow/core/grappler/optimizers/custom_graph_optimizer_registry.cc:114] Plugin optimizer for device_type GPU is enabled.\n"
     ]
    },
    {
     "name": "stdout",
     "output_type": "stream",
     "text": [
      "1563/1563 [==============================] - 11s 7ms/step - loss: 0.2870 - accuracy: 0.9148 - val_loss: 0.1661 - val_accuracy: 0.9504\n",
      "Epoch 2/10\n",
      "1563/1563 [==============================] - 11s 7ms/step - loss: 0.1557 - accuracy: 0.9572 - val_loss: 0.1273 - val_accuracy: 0.9638\n",
      "Epoch 3/10\n",
      "1563/1563 [==============================] - 10s 6ms/step - loss: 0.1253 - accuracy: 0.9651 - val_loss: 0.1175 - val_accuracy: 0.9700\n",
      "Epoch 4/10\n",
      "1563/1563 [==============================] - 10s 6ms/step - loss: 0.1121 - accuracy: 0.9709 - val_loss: 0.1123 - val_accuracy: 0.9719\n",
      "Epoch 5/10\n",
      "1563/1563 [==============================] - 10s 6ms/step - loss: 0.1020 - accuracy: 0.9740 - val_loss: 0.1124 - val_accuracy: 0.9742\n",
      "Epoch 6/10\n",
      "1563/1563 [==============================] - 10s 7ms/step - loss: 0.0941 - accuracy: 0.9773 - val_loss: 0.1181 - val_accuracy: 0.9744\n",
      "Epoch 7/10\n",
      "1563/1563 [==============================] - 10s 7ms/step - loss: 0.0859 - accuracy: 0.9783 - val_loss: 0.1149 - val_accuracy: 0.9775\n",
      "Epoch 8/10\n",
      "1563/1563 [==============================] - 10s 6ms/step - loss: 0.0845 - accuracy: 0.9796 - val_loss: 0.1279 - val_accuracy: 0.9746\n",
      "Epoch 9/10\n",
      "1563/1563 [==============================] - 10s 7ms/step - loss: 0.0804 - accuracy: 0.9812 - val_loss: 0.1290 - val_accuracy: 0.9759\n",
      "Epoch 10/10\n",
      "1563/1563 [==============================] - 11s 7ms/step - loss: 0.0730 - accuracy: 0.9828 - val_loss: 0.1339 - val_accuracy: 0.9759\n"
     ]
    },
    {
     "data": {
      "text/plain": [
       "<keras.callbacks.History at 0x2bcc92130>"
      ]
     },
     "execution_count": 28,
     "metadata": {},
     "output_type": "execute_result"
    }
   ],
   "source": [
    "model = get_mnist_model()\n",
    "\n",
    "model.compile(\n",
    "    optimizer=\"rmsprop\", loss=\"sparse_categorical_crossentropy\", metrics=[\"accuracy\"]\n",
    ")\n",
    "\n",
    "tensorboard = keras.callbacks.TensorBoard(\n",
    "    log_dir=\"./logs\",\n",
    ")\n",
    "model.fit(\n",
    "    train_images,\n",
    "    train_labels,\n",
    "    epochs=10,\n",
    "    validation_data=(val_images, val_labels),\n",
    "    callbacks=[tensorboard],\n",
    ")"
   ]
  },
  {
   "cell_type": "markdown",
   "id": "39182e16-10d4-41b5-bbe5-317dbfa0ab99",
   "metadata": {},
   "source": [
    "viz the log by `pdm run tensorboard --logdir ./notebooks/logs/`"
   ]
  },
  {
   "cell_type": "code",
   "execution_count": null,
   "id": "eaab36af-2827-4d9d-9294-179914dfaedd",
   "metadata": {},
   "outputs": [],
   "source": []
  }
 ],
 "metadata": {
  "kernelspec": {
   "display_name": "Python 3 (ipykernel)",
   "language": "python",
   "name": "python3"
  },
  "language_info": {
   "codemirror_mode": {
    "name": "ipython",
    "version": 3
   },
   "file_extension": ".py",
   "mimetype": "text/x-python",
   "name": "python",
   "nbconvert_exporter": "python",
   "pygments_lexer": "ipython3",
   "version": "3.9.15"
  }
 },
 "nbformat": 4,
 "nbformat_minor": 5
}
