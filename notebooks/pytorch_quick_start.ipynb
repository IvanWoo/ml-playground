{
 "cells": [
  {
   "cell_type": "markdown",
   "id": "22dea129-6d64-45a9-981c-66525f4d7430",
   "metadata": {},
   "source": [
    "# PyTorch quickstart\n",
    "\n",
    "> based on https://pytorch.org/tutorials/beginner/basics/quickstart_tutorial.html"
   ]
  },
  {
   "cell_type": "code",
   "execution_count": 1,
   "id": "e98385f5-572c-4b05-8fb1-5a22b6c3348c",
   "metadata": {},
   "outputs": [],
   "source": [
    "import time\n",
    "\n",
    "import torch\n",
    "from torch import nn\n",
    "from torch.utils.data import DataLoader\n",
    "from torchinfo import summary\n",
    "from torchvision import datasets\n",
    "from torchvision.transforms import ToTensor"
   ]
  },
  {
   "cell_type": "code",
   "execution_count": 2,
   "id": "85d1f9b1-0cbe-42fa-b2a3-a5413bb0b987",
   "metadata": {},
   "outputs": [],
   "source": [
    "# Download training data from open datasets.\n",
    "training_data = datasets.FashionMNIST(\n",
    "    root=\"data\",\n",
    "    train=True,\n",
    "    download=True,\n",
    "    transform=ToTensor(),\n",
    ")\n",
    "\n",
    "# Download test data from open datasets.\n",
    "test_data = datasets.FashionMNIST(\n",
    "    root=\"data\",\n",
    "    train=False,\n",
    "    download=True,\n",
    "    transform=ToTensor(),\n",
    ")"
   ]
  },
  {
   "cell_type": "code",
   "execution_count": 3,
   "id": "8b4ac0d2-2216-471c-b422-3fa22fc81340",
   "metadata": {},
   "outputs": [
    {
     "name": "stdout",
     "output_type": "stream",
     "text": [
      "Shape of X [N, C, H, W]: torch.Size([128, 1, 28, 28])\n",
      "Shape of y: torch.Size([128]) torch.int64\n"
     ]
    }
   ],
   "source": [
    "batch_size = 128\n",
    "\n",
    "# Create data loaders.\n",
    "train_dataloader = DataLoader(training_data, batch_size=batch_size)\n",
    "test_dataloader = DataLoader(test_data, batch_size=batch_size)\n",
    "\n",
    "for X, y in test_dataloader:\n",
    "    print(f\"Shape of X [N, C, H, W]: {X.shape}\")\n",
    "    print(f\"Shape of y: {y.shape} {y.dtype}\")\n",
    "    break"
   ]
  },
  {
   "cell_type": "code",
   "execution_count": 4,
   "id": "f49804d4-14d2-4c00-ac32-21f161cb55ff",
   "metadata": {},
   "outputs": [
    {
     "name": "stdout",
     "output_type": "stream",
     "text": [
      "Using device='mps'\n"
     ]
    },
    {
     "data": {
      "text/plain": [
       "=================================================================\n",
       "Layer (type:depth-idx)                   Param #\n",
       "=================================================================\n",
       "NeuralNetwork                            --\n",
       "├─Flatten: 1-1                           --\n",
       "├─Sequential: 1-2                        --\n",
       "│    └─Linear: 2-1                       401,920\n",
       "│    └─ReLU: 2-2                         --\n",
       "│    └─Linear: 2-3                       262,656\n",
       "│    └─ReLU: 2-4                         --\n",
       "│    └─Linear: 2-5                       5,130\n",
       "=================================================================\n",
       "Total params: 669,706\n",
       "Trainable params: 669,706\n",
       "Non-trainable params: 0\n",
       "================================================================="
      ]
     },
     "execution_count": 4,
     "metadata": {},
     "output_type": "execute_result"
    }
   ],
   "source": [
    "def get_device():\n",
    "    if not torch.backends.mps.is_available():\n",
    "        if not torch.backends.mps.is_built():\n",
    "            print(\n",
    "                \"MPS not available because the current PyTorch install was not \"\n",
    "                \"built with MPS enabled.\"\n",
    "            )\n",
    "        else:\n",
    "            print(\n",
    "                \"MPS not available because the current MacOS version is not 12.3+ \"\n",
    "                \"and/or you do not have an MPS-enabled device on this machine.\"\n",
    "            )\n",
    "        return \"cpu\"\n",
    "    return \"mps\"\n",
    "\n",
    "\n",
    "# Get cpu or gpu device for training.\n",
    "device = get_device()\n",
    "print(f\"Using {device=}\")\n",
    "\n",
    "# Define model\n",
    "class NeuralNetwork(nn.Module):\n",
    "    def __init__(self):\n",
    "        super().__init__()\n",
    "        self.flatten = nn.Flatten()\n",
    "        self.linear_relu_stack = nn.Sequential(\n",
    "            nn.Linear(28 * 28, 512),\n",
    "            nn.ReLU(),\n",
    "            nn.Linear(512, 512),\n",
    "            nn.ReLU(),\n",
    "            nn.Linear(512, 10),\n",
    "        )\n",
    "\n",
    "    def forward(self, x):\n",
    "        x = self.flatten(x)\n",
    "        logits = self.linear_relu_stack(x)\n",
    "        return logits\n",
    "\n",
    "\n",
    "model = NeuralNetwork().to(device)\n",
    "summary(model)"
   ]
  },
  {
   "cell_type": "code",
   "execution_count": 5,
   "id": "3bc7c43e-3d8a-4278-a826-198a743fe16d",
   "metadata": {},
   "outputs": [],
   "source": [
    "loss_fn = nn.CrossEntropyLoss()\n",
    "optimizer = torch.optim.SGD(model.parameters(), lr=1e-3)"
   ]
  },
  {
   "cell_type": "code",
   "execution_count": 6,
   "id": "a804700e-916e-40b7-8500-0a2e21872369",
   "metadata": {},
   "outputs": [],
   "source": [
    "def train(dataloader, model, loss_fn, optimizer):\n",
    "    size = len(dataloader.dataset)\n",
    "    model.train()\n",
    "    for batch, (X, y) in enumerate(dataloader):\n",
    "        X, y = X.to(device), y.to(device)\n",
    "\n",
    "        # Compute prediction error\n",
    "        pred = model(X)\n",
    "        loss = loss_fn(pred, y)\n",
    "\n",
    "        # Backpropagation\n",
    "        optimizer.zero_grad()\n",
    "        loss.backward()\n",
    "        optimizer.step()\n",
    "\n",
    "        if batch % 100 == 0:\n",
    "            loss, current = loss.item(), batch * len(X)\n",
    "            print(f\"loss: {loss:>7f}  [{current:>5d}/{size:>5d}]\")"
   ]
  },
  {
   "cell_type": "code",
   "execution_count": 7,
   "id": "b5d9d742-ef00-40d9-9560-56f7499d7eaa",
   "metadata": {},
   "outputs": [],
   "source": [
    "def test(dataloader, model, loss_fn):\n",
    "    size = len(dataloader.dataset)\n",
    "    num_batches = len(dataloader)\n",
    "    model.eval()\n",
    "    test_loss, correct = 0, 0\n",
    "    with torch.no_grad():\n",
    "        for X, y in dataloader:\n",
    "            X, y = X.to(device), y.to(device)\n",
    "            pred = model(X)\n",
    "            test_loss += loss_fn(pred, y).item()\n",
    "            correct += (pred.argmax(1) == y).type(torch.float).sum().item()\n",
    "    test_loss /= num_batches\n",
    "    correct /= size\n",
    "    print(\n",
    "        f\"Test Error: \\n Accuracy: {(100*correct):>0.1f}%, Avg loss: {test_loss:>8f} \\n\"\n",
    "    )"
   ]
  },
  {
   "cell_type": "code",
   "execution_count": 8,
   "id": "331f38fb-60d3-47a6-8aa9-7adb66653eec",
   "metadata": {},
   "outputs": [
    {
     "name": "stdout",
     "output_type": "stream",
     "text": [
      "Epoch 1\n",
      "-------------------------------\n",
      "loss: 2.302984  [    0/60000]\n",
      "loss: 2.293267  [12800/60000]\n",
      "loss: 2.275424  [25600/60000]\n",
      "loss: 2.276091  [38400/60000]\n",
      "loss: 2.253738  [51200/60000]\n",
      "time: 2.75s\n",
      "Test Error: \n",
      " Accuracy: 30.6%, Avg loss: 2.246284 \n",
      "\n",
      "Epoch 2\n",
      "-------------------------------\n",
      "loss: 2.243009  [    0/60000]\n",
      "loss: 2.225797  [12800/60000]\n",
      "loss: 2.215055  [25600/60000]\n",
      "loss: 2.216061  [38400/60000]\n",
      "loss: 2.186934  [51200/60000]\n",
      "time: 2.59s\n",
      "Test Error: \n",
      " Accuracy: 40.1%, Avg loss: 2.176550 \n",
      "\n",
      "Epoch 3\n",
      "-------------------------------\n",
      "loss: 2.172128  [    0/60000]\n",
      "loss: 2.144170  [12800/60000]\n",
      "loss: 2.134263  [25600/60000]\n",
      "loss: 2.131856  [38400/60000]\n",
      "loss: 2.093019  [51200/60000]\n",
      "time: 2.56s\n",
      "Test Error: \n",
      " Accuracy: 48.4%, Avg loss: 2.077129 \n",
      "\n",
      "Epoch 4\n",
      "-------------------------------\n",
      "loss: 2.070018  [    0/60000]\n",
      "loss: 2.027827  [12800/60000]\n",
      "loss: 2.015166  [25600/60000]\n",
      "loss: 2.004114  [38400/60000]\n",
      "loss: 1.957776  [51200/60000]\n",
      "time: 2.73s\n",
      "Test Error: \n",
      " Accuracy: 56.0%, Avg loss: 1.933289 \n",
      "\n",
      "Epoch 5\n",
      "-------------------------------\n",
      "loss: 1.920964  [    0/60000]\n",
      "loss: 1.863049  [12800/60000]\n",
      "loss: 1.846798  [25600/60000]\n",
      "loss: 1.822804  [38400/60000]\n",
      "loss: 1.780596  [51200/60000]\n",
      "time: 2.65s\n",
      "Test Error: \n",
      " Accuracy: 58.7%, Avg loss: 1.747137 \n",
      "\n",
      "Done!\n"
     ]
    }
   ],
   "source": [
    "epochs = 5\n",
    "for t in range(epochs):\n",
    "    print(f\"Epoch {t+1}\\n-------------------------------\")\n",
    "    start_time = time.monotonic()\n",
    "    train(train_dataloader, model, loss_fn, optimizer)\n",
    "    end_time = time.monotonic()\n",
    "    total_time = end_time - start_time\n",
    "    print(f\"time: {total_time:.2f}s\")\n",
    "    test(test_dataloader, model, loss_fn)\n",
    "print(\"Done!\")"
   ]
  },
  {
   "cell_type": "code",
   "execution_count": 9,
   "id": "10f6289f-9cdc-49ec-8d9c-71157ef5c1ad",
   "metadata": {},
   "outputs": [
    {
     "name": "stdout",
     "output_type": "stream",
     "text": [
      "Predicted: \"Ankle boot\", Actual: \"Ankle boot\"\n"
     ]
    }
   ],
   "source": [
    "classes = [\n",
    "    \"T-shirt/top\",\n",
    "    \"Trouser\",\n",
    "    \"Pullover\",\n",
    "    \"Dress\",\n",
    "    \"Coat\",\n",
    "    \"Sandal\",\n",
    "    \"Shirt\",\n",
    "    \"Sneaker\",\n",
    "    \"Bag\",\n",
    "    \"Ankle boot\",\n",
    "]\n",
    "\n",
    "model.eval()\n",
    "x, y = test_data[0][0], test_data[0][1]\n",
    "with torch.no_grad():\n",
    "    pred = model(x.to(device))\n",
    "    predicted, actual = classes[pred[0].argmax(0)], classes[y]\n",
    "    print(f'Predicted: \"{predicted}\", Actual: \"{actual}\"')"
   ]
  },
  {
   "cell_type": "code",
   "execution_count": null,
   "id": "f2b1d81e-9831-4969-ad61-22d74a1c4bd0",
   "metadata": {},
   "outputs": [],
   "source": []
  }
 ],
 "metadata": {
  "kernelspec": {
   "display_name": "Python 3 (ipykernel)",
   "language": "python",
   "name": "python3"
  },
  "language_info": {
   "codemirror_mode": {
    "name": "ipython",
    "version": 3
   },
   "file_extension": ".py",
   "mimetype": "text/x-python",
   "name": "python",
   "nbconvert_exporter": "python",
   "pygments_lexer": "ipython3",
   "version": "3.9.15"
  }
 },
 "nbformat": 4,
 "nbformat_minor": 5
}
