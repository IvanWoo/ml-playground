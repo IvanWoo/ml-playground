{
 "cells": [
  {
   "cell_type": "code",
   "execution_count": 1,
   "id": "1057a98f-9a90-4399-ae42-334c25ea3941",
   "metadata": {},
   "outputs": [],
   "source": [
    "import fiftyone as fo\n",
    "import fiftyone.zoo as foz"
   ]
  },
  {
   "cell_type": "code",
   "execution_count": 2,
   "id": "e39d6c94-5c15-481e-be1d-f5c38680d3bd",
   "metadata": {},
   "outputs": [
    {
     "name": "stdout",
     "output_type": "stream",
     "text": [
      "Split 'train' already downloaded\n",
      "Split 'test' already downloaded\n",
      "Loading 'cifar10' split 'train'\n",
      " 100% |█████████████| 50000/50000 [9.6s elapsed, 0s remaining, 5.2K samples/s]      \n",
      "Loading 'cifar10' split 'test'\n",
      " 100% |█████████████| 10000/10000 [1.9s elapsed, 0s remaining, 5.2K samples/s]      \n",
      "Dataset 'cifar10' created\n"
     ]
    }
   ],
   "source": [
    "dataset = foz.load_zoo_dataset(\"cifar10\")"
   ]
  },
  {
   "cell_type": "code",
   "execution_count": 3,
   "id": "848c4008-0f7f-4d31-869f-e5c7636caf1c",
   "metadata": {},
   "outputs": [
    {
     "data": {
      "text/plain": [
       "Name:        cifar10\n",
       "Media type:  image\n",
       "Num samples: 60000\n",
       "Persistent:  False\n",
       "Tags:        []\n",
       "Sample fields:\n",
       "    id:           fiftyone.core.fields.ObjectIdField\n",
       "    filepath:     fiftyone.core.fields.StringField\n",
       "    tags:         fiftyone.core.fields.ListField(fiftyone.core.fields.StringField)\n",
       "    metadata:     fiftyone.core.fields.EmbeddedDocumentField(fiftyone.core.metadata.ImageMetadata)\n",
       "    ground_truth: fiftyone.core.fields.EmbeddedDocumentField(fiftyone.core.labels.Classification)"
      ]
     },
     "execution_count": 3,
     "metadata": {},
     "output_type": "execute_result"
    }
   ],
   "source": [
    "dataset"
   ]
  },
  {
   "cell_type": "code",
   "execution_count": 4,
   "id": "74fb4f48-bb58-4766-bb9f-fb876c4fc77d",
   "metadata": {},
   "outputs": [
    {
     "data": {
      "text/plain": [
       "[<Sample: {\n",
       "     'id': '64dd448e9f2a13102ff0c99a',\n",
       "     'media_type': 'image',\n",
       "     'filepath': '/Users/yifanwu/fiftyone/cifar10/train/data/000001.jpg',\n",
       "     'tags': ['train'],\n",
       "     'metadata': None,\n",
       "     'ground_truth': <Classification: {\n",
       "         'id': '64dd448e9f2a13102ff0c999',\n",
       "         'tags': [],\n",
       "         'label': 'frog',\n",
       "         'confidence': None,\n",
       "         'logits': None,\n",
       "     }>,\n",
       " }>]"
      ]
     },
     "execution_count": 4,
     "metadata": {},
     "output_type": "execute_result"
    }
   ],
   "source": [
    "dataset.head(1)"
   ]
  },
  {
   "cell_type": "code",
   "execution_count": 5,
   "id": "328562ec-8463-4630-b74b-ec68db689fcc",
   "metadata": {},
   "outputs": [
    {
     "data": {
      "text/html": [
       "\n",
       "        <iframe\n",
       "            width=\"100%\"\n",
       "            height=\"800\"\n",
       "            src=\"http://localhost:5151/?notebook=True&subscription=5478c009-4d35-486a-9ab0-05c720793ae9\"\n",
       "            frameborder=\"0\"\n",
       "            allowfullscreen\n",
       "            \n",
       "        ></iframe>\n",
       "        "
      ],
      "text/plain": [
       "<IPython.lib.display.IFrame at 0x2a6d44040>"
      ]
     },
     "metadata": {},
     "output_type": "display_data"
    }
   ],
   "source": [
    "session = fo.launch_app(dataset)"
   ]
  },
  {
   "cell_type": "code",
   "execution_count": null,
   "id": "2b8220b6-aa13-4fb9-8f5a-ad763f199bf2",
   "metadata": {},
   "outputs": [],
   "source": []
  }
 ],
 "metadata": {
  "kernelspec": {
   "display_name": "Python 3 (ipykernel)",
   "language": "python",
   "name": "python3"
  },
  "language_info": {
   "codemirror_mode": {
    "name": "ipython",
    "version": 3
   },
   "file_extension": ".py",
   "mimetype": "text/x-python",
   "name": "python",
   "nbconvert_exporter": "python",
   "pygments_lexer": "ipython3",
   "version": "3.9.15"
  }
 },
 "nbformat": 4,
 "nbformat_minor": 5
}
